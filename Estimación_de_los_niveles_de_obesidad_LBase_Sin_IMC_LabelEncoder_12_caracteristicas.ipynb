{
  "cells": [
    {
      "cell_type": "markdown",
      "metadata": {
        "id": "view-in-github",
        "colab_type": "text"
      },
      "source": [
        "<a href=\"https://colab.research.google.com/github/dennis-ancajima/ML-PUCP/blob/main/Estimaci%C3%B3n_de_los_niveles_de_obesidad_LBase_Sin_IMC_LabelEncoder_12_caracteristicas.ipynb\" target=\"_parent\"><img src=\"https://colab.research.google.com/assets/colab-badge.svg\" alt=\"Open In Colab\"/></a>"
      ]
    },
    {
      "cell_type": "code",
      "execution_count": 3,
      "metadata": {
        "id": "RHGd0csCY-PM"
      },
      "outputs": [],
      "source": [
        "import pandas as pd\n",
        "import numpy as np\n",
        "import seaborn as sns\n",
        "import matplotlib.pyplot as plt\n",
        "from sklearn.model_selection import train_test_split\n",
        "from sklearn.metrics import mean_squared_error,accuracy_score, roc_curve, roc_auc_score, confusion_matrix, ConfusionMatrixDisplay, classification_report\n",
        "from sklearn.base import clone\n",
        "from sklearn.preprocessing import StandardScaler\n",
        "import seaborn as sns #Libreria para gráficar\n",
        "from sklearn.model_selection import cross_val_score\n",
        "from google.colab import drive\n",
        "\n",
        "pd.set_option(\"display.max_columns\", 50)\n",
        "\n",
        "%matplotlib inline\n",
        "plt.style.use('ggplot')"
      ]
    },
    {
      "cell_type": "code",
      "execution_count": 4,
      "metadata": {
        "id": "NGcBx_HLkJZU"
      },
      "outputs": [],
      "source": [
        "#Lectura del dataset\n",
        "file_name = \"ObesityDataSet_raw_and_data_sinthetic.csv\"\n",
        "\n",
        "#El método \"read_csv\" nos permite leer un excel\n",
        "dataset = pd.read_csv(file_name)"
      ]
    },
    {
      "cell_type": "code",
      "execution_count": 5,
      "metadata": {
        "colab": {
          "base_uri": "https://localhost:8080/",
          "height": 270
        },
        "id": "m89XTN2olcTD",
        "outputId": "2f7c06bc-103e-477a-d3bd-92dd530accf1"
      },
      "outputs": [
        {
          "output_type": "execute_result",
          "data": {
            "text/plain": [
              "   Gender   Age  Height  Weight family_history_with_overweight FAVC  FCVC  \\\n",
              "0  Female  21.0    1.62    64.0                            yes   no   2.0   \n",
              "1  Female  21.0    1.52    56.0                            yes   no   3.0   \n",
              "2    Male  23.0    1.80    77.0                            yes   no   2.0   \n",
              "3    Male  27.0    1.80    87.0                             no   no   3.0   \n",
              "4    Male  22.0    1.78    89.8                             no   no   2.0   \n",
              "\n",
              "   NCP       CAEC SMOKE  CH2O  SCC  FAF  TUE        CALC  \\\n",
              "0  3.0  Sometimes    no   2.0   no  0.0  1.0          no   \n",
              "1  3.0  Sometimes   yes   3.0  yes  3.0  0.0   Sometimes   \n",
              "2  3.0  Sometimes    no   2.0   no  2.0  1.0  Frequently   \n",
              "3  3.0  Sometimes    no   2.0   no  2.0  0.0  Frequently   \n",
              "4  1.0  Sometimes    no   2.0   no  0.0  0.0   Sometimes   \n",
              "\n",
              "                  MTRANS           NObeyesdad  \n",
              "0  Public_Transportation        Normal_Weight  \n",
              "1  Public_Transportation        Normal_Weight  \n",
              "2  Public_Transportation        Normal_Weight  \n",
              "3                Walking   Overweight_Level_I  \n",
              "4  Public_Transportation  Overweight_Level_II  "
            ],
            "text/html": [
              "\n",
              "  <div id=\"df-f3895ffe-1ba2-4aa8-98d1-f00b13203746\">\n",
              "    <div class=\"colab-df-container\">\n",
              "      <div>\n",
              "<style scoped>\n",
              "    .dataframe tbody tr th:only-of-type {\n",
              "        vertical-align: middle;\n",
              "    }\n",
              "\n",
              "    .dataframe tbody tr th {\n",
              "        vertical-align: top;\n",
              "    }\n",
              "\n",
              "    .dataframe thead th {\n",
              "        text-align: right;\n",
              "    }\n",
              "</style>\n",
              "<table border=\"1\" class=\"dataframe\">\n",
              "  <thead>\n",
              "    <tr style=\"text-align: right;\">\n",
              "      <th></th>\n",
              "      <th>Gender</th>\n",
              "      <th>Age</th>\n",
              "      <th>Height</th>\n",
              "      <th>Weight</th>\n",
              "      <th>family_history_with_overweight</th>\n",
              "      <th>FAVC</th>\n",
              "      <th>FCVC</th>\n",
              "      <th>NCP</th>\n",
              "      <th>CAEC</th>\n",
              "      <th>SMOKE</th>\n",
              "      <th>CH2O</th>\n",
              "      <th>SCC</th>\n",
              "      <th>FAF</th>\n",
              "      <th>TUE</th>\n",
              "      <th>CALC</th>\n",
              "      <th>MTRANS</th>\n",
              "      <th>NObeyesdad</th>\n",
              "    </tr>\n",
              "  </thead>\n",
              "  <tbody>\n",
              "    <tr>\n",
              "      <th>0</th>\n",
              "      <td>Female</td>\n",
              "      <td>21.0</td>\n",
              "      <td>1.62</td>\n",
              "      <td>64.0</td>\n",
              "      <td>yes</td>\n",
              "      <td>no</td>\n",
              "      <td>2.0</td>\n",
              "      <td>3.0</td>\n",
              "      <td>Sometimes</td>\n",
              "      <td>no</td>\n",
              "      <td>2.0</td>\n",
              "      <td>no</td>\n",
              "      <td>0.0</td>\n",
              "      <td>1.0</td>\n",
              "      <td>no</td>\n",
              "      <td>Public_Transportation</td>\n",
              "      <td>Normal_Weight</td>\n",
              "    </tr>\n",
              "    <tr>\n",
              "      <th>1</th>\n",
              "      <td>Female</td>\n",
              "      <td>21.0</td>\n",
              "      <td>1.52</td>\n",
              "      <td>56.0</td>\n",
              "      <td>yes</td>\n",
              "      <td>no</td>\n",
              "      <td>3.0</td>\n",
              "      <td>3.0</td>\n",
              "      <td>Sometimes</td>\n",
              "      <td>yes</td>\n",
              "      <td>3.0</td>\n",
              "      <td>yes</td>\n",
              "      <td>3.0</td>\n",
              "      <td>0.0</td>\n",
              "      <td>Sometimes</td>\n",
              "      <td>Public_Transportation</td>\n",
              "      <td>Normal_Weight</td>\n",
              "    </tr>\n",
              "    <tr>\n",
              "      <th>2</th>\n",
              "      <td>Male</td>\n",
              "      <td>23.0</td>\n",
              "      <td>1.80</td>\n",
              "      <td>77.0</td>\n",
              "      <td>yes</td>\n",
              "      <td>no</td>\n",
              "      <td>2.0</td>\n",
              "      <td>3.0</td>\n",
              "      <td>Sometimes</td>\n",
              "      <td>no</td>\n",
              "      <td>2.0</td>\n",
              "      <td>no</td>\n",
              "      <td>2.0</td>\n",
              "      <td>1.0</td>\n",
              "      <td>Frequently</td>\n",
              "      <td>Public_Transportation</td>\n",
              "      <td>Normal_Weight</td>\n",
              "    </tr>\n",
              "    <tr>\n",
              "      <th>3</th>\n",
              "      <td>Male</td>\n",
              "      <td>27.0</td>\n",
              "      <td>1.80</td>\n",
              "      <td>87.0</td>\n",
              "      <td>no</td>\n",
              "      <td>no</td>\n",
              "      <td>3.0</td>\n",
              "      <td>3.0</td>\n",
              "      <td>Sometimes</td>\n",
              "      <td>no</td>\n",
              "      <td>2.0</td>\n",
              "      <td>no</td>\n",
              "      <td>2.0</td>\n",
              "      <td>0.0</td>\n",
              "      <td>Frequently</td>\n",
              "      <td>Walking</td>\n",
              "      <td>Overweight_Level_I</td>\n",
              "    </tr>\n",
              "    <tr>\n",
              "      <th>4</th>\n",
              "      <td>Male</td>\n",
              "      <td>22.0</td>\n",
              "      <td>1.78</td>\n",
              "      <td>89.8</td>\n",
              "      <td>no</td>\n",
              "      <td>no</td>\n",
              "      <td>2.0</td>\n",
              "      <td>1.0</td>\n",
              "      <td>Sometimes</td>\n",
              "      <td>no</td>\n",
              "      <td>2.0</td>\n",
              "      <td>no</td>\n",
              "      <td>0.0</td>\n",
              "      <td>0.0</td>\n",
              "      <td>Sometimes</td>\n",
              "      <td>Public_Transportation</td>\n",
              "      <td>Overweight_Level_II</td>\n",
              "    </tr>\n",
              "  </tbody>\n",
              "</table>\n",
              "</div>\n",
              "      <button class=\"colab-df-convert\" onclick=\"convertToInteractive('df-f3895ffe-1ba2-4aa8-98d1-f00b13203746')\"\n",
              "              title=\"Convert this dataframe to an interactive table.\"\n",
              "              style=\"display:none;\">\n",
              "        \n",
              "  <svg xmlns=\"http://www.w3.org/2000/svg\" height=\"24px\"viewBox=\"0 0 24 24\"\n",
              "       width=\"24px\">\n",
              "    <path d=\"M0 0h24v24H0V0z\" fill=\"none\"/>\n",
              "    <path d=\"M18.56 5.44l.94 2.06.94-2.06 2.06-.94-2.06-.94-.94-2.06-.94 2.06-2.06.94zm-11 1L8.5 8.5l.94-2.06 2.06-.94-2.06-.94L8.5 2.5l-.94 2.06-2.06.94zm10 10l.94 2.06.94-2.06 2.06-.94-2.06-.94-.94-2.06-.94 2.06-2.06.94z\"/><path d=\"M17.41 7.96l-1.37-1.37c-.4-.4-.92-.59-1.43-.59-.52 0-1.04.2-1.43.59L10.3 9.45l-7.72 7.72c-.78.78-.78 2.05 0 2.83L4 21.41c.39.39.9.59 1.41.59.51 0 1.02-.2 1.41-.59l7.78-7.78 2.81-2.81c.8-.78.8-2.07 0-2.86zM5.41 20L4 18.59l7.72-7.72 1.47 1.35L5.41 20z\"/>\n",
              "  </svg>\n",
              "      </button>\n",
              "      \n",
              "  <style>\n",
              "    .colab-df-container {\n",
              "      display:flex;\n",
              "      flex-wrap:wrap;\n",
              "      gap: 12px;\n",
              "    }\n",
              "\n",
              "    .colab-df-convert {\n",
              "      background-color: #E8F0FE;\n",
              "      border: none;\n",
              "      border-radius: 50%;\n",
              "      cursor: pointer;\n",
              "      display: none;\n",
              "      fill: #1967D2;\n",
              "      height: 32px;\n",
              "      padding: 0 0 0 0;\n",
              "      width: 32px;\n",
              "    }\n",
              "\n",
              "    .colab-df-convert:hover {\n",
              "      background-color: #E2EBFA;\n",
              "      box-shadow: 0px 1px 2px rgba(60, 64, 67, 0.3), 0px 1px 3px 1px rgba(60, 64, 67, 0.15);\n",
              "      fill: #174EA6;\n",
              "    }\n",
              "\n",
              "    [theme=dark] .colab-df-convert {\n",
              "      background-color: #3B4455;\n",
              "      fill: #D2E3FC;\n",
              "    }\n",
              "\n",
              "    [theme=dark] .colab-df-convert:hover {\n",
              "      background-color: #434B5C;\n",
              "      box-shadow: 0px 1px 3px 1px rgba(0, 0, 0, 0.15);\n",
              "      filter: drop-shadow(0px 1px 2px rgba(0, 0, 0, 0.3));\n",
              "      fill: #FFFFFF;\n",
              "    }\n",
              "  </style>\n",
              "\n",
              "      <script>\n",
              "        const buttonEl =\n",
              "          document.querySelector('#df-f3895ffe-1ba2-4aa8-98d1-f00b13203746 button.colab-df-convert');\n",
              "        buttonEl.style.display =\n",
              "          google.colab.kernel.accessAllowed ? 'block' : 'none';\n",
              "\n",
              "        async function convertToInteractive(key) {\n",
              "          const element = document.querySelector('#df-f3895ffe-1ba2-4aa8-98d1-f00b13203746');\n",
              "          const dataTable =\n",
              "            await google.colab.kernel.invokeFunction('convertToInteractive',\n",
              "                                                     [key], {});\n",
              "          if (!dataTable) return;\n",
              "\n",
              "          const docLinkHtml = 'Like what you see? Visit the ' +\n",
              "            '<a target=\"_blank\" href=https://colab.research.google.com/notebooks/data_table.ipynb>data table notebook</a>'\n",
              "            + ' to learn more about interactive tables.';\n",
              "          element.innerHTML = '';\n",
              "          dataTable['output_type'] = 'display_data';\n",
              "          await google.colab.output.renderOutput(dataTable, element);\n",
              "          const docLink = document.createElement('div');\n",
              "          docLink.innerHTML = docLinkHtml;\n",
              "          element.appendChild(docLink);\n",
              "        }\n",
              "      </script>\n",
              "    </div>\n",
              "  </div>\n",
              "  "
            ]
          },
          "metadata": {},
          "execution_count": 5
        }
      ],
      "source": [
        "dataset.head()"
      ]
    },
    {
      "cell_type": "code",
      "execution_count": null,
      "metadata": {
        "colab": {
          "base_uri": "https://localhost:8080/"
        },
        "id": "Wtb6g9d9lgLE",
        "outputId": "e094b3c1-db6a-4a4e-bc43-cd55e3ebe934"
      },
      "outputs": [
        {
          "data": {
            "text/plain": [
              "24"
            ]
          },
          "execution_count": 4,
          "metadata": {},
          "output_type": "execute_result"
        }
      ],
      "source": [
        "#Revisando duplicados\n",
        "dataset.duplicated().sum()"
      ]
    },
    {
      "cell_type": "code",
      "execution_count": null,
      "metadata": {
        "id": "JEg4vl3OlhXL"
      },
      "outputs": [],
      "source": [
        "#Eliminar duplicados\n",
        "#dataset.drop_duplicates(inplace=True)"
      ]
    },
    {
      "cell_type": "markdown",
      "metadata": {
        "id": "GrwUPtEmo4BU"
      },
      "source": [
        "# Aplicamos LabelEncoder para análisis Feature Extraction with PCA"
      ]
    },
    {
      "cell_type": "code",
      "execution_count": 6,
      "metadata": {
        "colab": {
          "base_uri": "https://localhost:8080/"
        },
        "id": "3hjEYumho3dT",
        "outputId": "554b0fc9-0ed7-4873-dcf6-f68cb2fb87e4"
      },
      "outputs": [
        {
          "output_type": "stream",
          "name": "stdout",
          "text": [
            "Shape all_data: (2111, 17)\n"
          ]
        }
      ],
      "source": [
        "#LabelEncoder\n",
        "from sklearn.preprocessing import LabelEncoder\n",
        "\n",
        "cols_categoricas = ['CAEC','CALC','MTRANS','FAVC', 'SMOKE', 'SCC','family_history_with_overweight','Gender','NObeyesdad']\n",
        "\n",
        "# process columns, apply LabelEncoder to categorical features\n",
        "for c in cols_categoricas:\n",
        "    lbl = LabelEncoder()\n",
        "    # Transformar una variable categórica en valores numéricos\n",
        "    dataset[c] = lbl.fit_transform(dataset[c]) #dataset[c+'_code'] = lbl.fit_transform(dataset[c]) Para revisar la codificación inverse_transform\n",
        "# shape\n",
        "print('Shape all_data: {}'.format(dataset.shape))"
      ]
    },
    {
      "cell_type": "markdown",
      "metadata": {
        "id": "MSU1bi4Xl7w-"
      },
      "source": [
        "# Análisis PCA: Análisis de Componentes Principales"
      ]
    },
    {
      "cell_type": "markdown",
      "metadata": {
        "id": "234Wh_rZoyAE"
      },
      "source": [
        "http://scikit-learn.org/stable/modules/generated/sklearn.decomposition.PCA.html We will use principle component analysis (PCA) for feature extraction. Before PCA, we need to normalize data for better performance of PCA.\n",
        "\n",
        "Reference: https://www.kaggle.com/code/kanncaa1/feature-selection-and-data-visualization"
      ]
    },
    {
      "cell_type": "markdown",
      "metadata": {
        "id": "2UnGFYOprJIS"
      },
      "source": [
        "Observamos la media de las características númericas."
      ]
    },
    {
      "cell_type": "code",
      "execution_count": 7,
      "metadata": {
        "colab": {
          "base_uri": "https://localhost:8080/"
        },
        "id": "8GfF5v5nn2L-",
        "outputId": "9cb6bf45-0d8a-466b-b852-80ab44dac91d"
      },
      "outputs": [
        {
          "output_type": "execute_result",
          "data": {
            "text/plain": [
              "Gender                             0.505921\n",
              "Age                               24.312600\n",
              "Height                             1.701677\n",
              "Weight                            86.586058\n",
              "family_history_with_overweight     0.817622\n",
              "FAVC                               0.883941\n",
              "FCVC                               2.419043\n",
              "NCP                                2.685628\n",
              "CAEC                               1.859308\n",
              "SMOKE                              0.020843\n",
              "CH2O                               2.008011\n",
              "SCC                                0.045476\n",
              "FAF                                1.010298\n",
              "TUE                                0.657866\n",
              "CALC                               2.268593\n",
              "MTRANS                             2.365230\n",
              "NObeyesdad                         3.015632\n",
              "dtype: float64"
            ]
          },
          "metadata": {},
          "execution_count": 7
        }
      ],
      "source": [
        "dataset.mean()"
      ]
    },
    {
      "cell_type": "markdown",
      "metadata": {
        "id": "lhCGQj2ArOIR"
      },
      "source": [
        "Observamos la varianza de las características númericas."
      ]
    },
    {
      "cell_type": "code",
      "execution_count": 8,
      "metadata": {
        "colab": {
          "base_uri": "https://localhost:8080/"
        },
        "id": "OxIHsS2VmHto",
        "outputId": "b930c189-2f3f-47cd-a164-6f0b642050c5"
      },
      "outputs": [
        {
          "output_type": "execute_result",
          "data": {
            "text/plain": [
              "Gender                              0.250083\n",
              "Age                                40.271313\n",
              "Height                              0.008706\n",
              "Weight                            685.977477\n",
              "family_history_with_overweight      0.149187\n",
              "FAVC                                0.102638\n",
              "FCVC                                0.285078\n",
              "NCP                                 0.605344\n",
              "CAEC                                0.219533\n",
              "SMOKE                               0.020418\n",
              "CH2O                                0.375712\n",
              "SCC                                 0.043429\n",
              "FAF                                 0.723507\n",
              "TUE                                 0.370792\n",
              "CALC                                0.265738\n",
              "MTRANS                              1.591189\n",
              "NObeyesdad                          3.810656\n",
              "dtype: float64"
            ]
          },
          "metadata": {},
          "execution_count": 8
        }
      ],
      "source": [
        "dataset.var()"
      ]
    },
    {
      "cell_type": "markdown",
      "metadata": {
        "id": "JYuDHNlAnu18"
      },
      "source": [
        "1. Se debe escalar los datos antes de realizar el análisis PCA: media 0 y varianza 1. Así pues, es importante estandarizar las variables con una media de cero y una desviación estándar de 1 antes de realizar PCA. Podemos hacerlo usando la función scale de sklearn:"
      ]
    },
    {
      "cell_type": "code",
      "execution_count": 9,
      "metadata": {
        "id": "pfX_Uo51o4ve"
      },
      "outputs": [],
      "source": [
        "#Separamos la data, en variables independientes (x) y dependientes (y), para poder entrenar el modelo de regresión\n",
        "X_train_val = dataset.drop(['NObeyesdad'], axis=1)\n",
        "y_train_val = dataset['NObeyesdad']"
      ]
    },
    {
      "cell_type": "code",
      "execution_count": 10,
      "metadata": {
        "id": "zEVMttDnpFJE"
      },
      "outputs": [],
      "source": [
        "# Dividimos la data en conjunto de \"entrenamiento\" y \"prueba\"\n",
        "X_train, X_val, y_train, y_val = train_test_split(X_train_val, y_train_val, test_size=0.2, random_state=0)"
      ]
    },
    {
      "cell_type": "code",
      "execution_count": 11,
      "metadata": {
        "id": "3S3gKvEIzBhO"
      },
      "outputs": [],
      "source": [
        "#normalization\n",
        "x_train_N = (X_train-X_train.mean())/(X_train.max()-X_train.min())\n",
        "x_test_N = (X_val-X_val.mean())/(X_val.max()-X_val.min())\n"
      ]
    },
    {
      "cell_type": "code",
      "execution_count": 12,
      "metadata": {
        "colab": {
          "base_uri": "https://localhost:8080/",
          "height": 0
        },
        "id": "58Gi0_Ozuy4Q",
        "outputId": "488f27b6-dfe6-4a57-b305-fd514cb3e9c6"
      },
      "outputs": [
        {
          "output_type": "execute_result",
          "data": {
            "text/plain": [
              "Text(0, 0.5, 'explained_variance_ratio_')"
            ]
          },
          "metadata": {},
          "execution_count": 12
        },
        {
          "output_type": "display_data",
          "data": {
            "text/plain": [
              "<Figure size 800x800 with 1 Axes>"
            ],
            "image/png": "[encoded data removed]"
          },
          "metadata": {}
        }
      ],
      "source": [
        "from sklearn.decomposition import PCA\n",
        "pca = PCA()\n",
        "pca.fit(x_train_N)\n",
        "\n",
        "plt.figure(1, figsize=(8, 8))\n",
        "plt.clf()\n",
        "plt.axes([.2, .2, .7, .7])\n",
        "plt.plot(pca.explained_variance_ratio_, linewidth=2)\n",
        "plt.axis('tight')\n",
        "plt.xlabel('n_components')\n",
        "plt.ylabel('explained_variance_ratio_')"
      ]
    },
    {
      "cell_type": "markdown",
      "metadata": {
        "id": "hLV7zM-ZNpyP"
      },
      "source": [
        "Se observa que las últimas 4 caracteristicas: CALC, MTRANS, FCVC, family_history_with_overweight pueden ser campos irrelevantes para efectos de la predicción según (PCA)."
      ]
    },
    {
      "cell_type": "markdown",
      "metadata": {
        "id": "wepuyLLnmFeC"
      },
      "source": [
        "# Selección Y Extracción De Características por filtrado"
      ]
    },
    {
      "cell_type": "code",
      "execution_count": 13,
      "metadata": {
        "id": "cq_SBQwExlnp"
      },
      "outputs": [],
      "source": [
        "from sklearn.feature_selection import SelectKBest\n",
        "from sklearn.feature_selection import chi2, mutual_info_classif"
      ]
    },
    {
      "cell_type": "code",
      "execution_count": 14,
      "metadata": {
        "colab": {
          "base_uri": "https://localhost:8080/"
        },
        "id": "l7VXM-oQxudm",
        "outputId": "ebd57b17-0f26-4209-fcee-2edd60e329b2"
      },
      "outputs": [
        {
          "output_type": "execute_result",
          "data": {
            "text/plain": [
              "(2111, 16)"
            ]
          },
          "metadata": {},
          "execution_count": 14
        }
      ],
      "source": [
        "#X_train_val, y_train_val\n",
        "X_train_val.shape"
      ]
    },
    {
      "cell_type": "markdown",
      "metadata": {
        "id": "HalBtmM7-8E3"
      },
      "source": [
        "Seleccionamos las mejores 12 características (K=12)"
      ]
    },
    {
      "cell_type": "code",
      "execution_count": 15,
      "metadata": {
        "id": "cjesdVGZyDy5"
      },
      "outputs": [],
      "source": [
        "filtrado = SelectKBest(mutual_info_classif, k=16).fit(X_train_val, y_train_val)"
      ]
    },
    {
      "cell_type": "code",
      "execution_count": 16,
      "metadata": {
        "colab": {
          "base_uri": "https://localhost:8080/"
        },
        "id": "3GHX4jKNySUy",
        "outputId": "6bf76f70-3107-4ee7-be6f-bdd36cfa8140"
      },
      "outputs": [
        {
          "output_type": "execute_result",
          "data": {
            "text/plain": [
              "array([1.95213410e-01, 5.93737877e-01, 4.21830894e-01, 1.25423842e+00,\n",
              "       1.46803720e-01, 5.46216225e-02, 3.85479075e-01, 2.46302122e-01,\n",
              "       1.60181934e-01, 5.41209697e-04, 2.97097573e-01, 3.49207527e-02,\n",
              "       2.97017916e-01, 2.77444396e-01, 9.88593602e-02, 6.07624311e-02])"
            ]
          },
          "metadata": {},
          "execution_count": 16
        }
      ],
      "source": [
        "filtrado.scores_"
      ]
    },
    {
      "cell_type": "markdown",
      "metadata": {
        "id": "7A2NIx3Z-SJd"
      },
      "source": [
        "Obtenemos los nombres de las características seleccionadas:"
      ]
    },
    {
      "cell_type": "code",
      "execution_count": 17,
      "metadata": {
        "colab": {
          "base_uri": "https://localhost:8080/"
        },
        "id": "8-gbYivM9Iv1",
        "outputId": "2af2ea90-8b49-4237-b63d-ddbd8c002bad"
      },
      "outputs": [
        {
          "output_type": "execute_result",
          "data": {
            "text/plain": [
              "array(['Gender', 'Age', 'Height', 'Weight',\n",
              "       'family_history_with_overweight', 'FAVC', 'FCVC', 'NCP', 'CAEC',\n",
              "       'SMOKE', 'CH2O', 'SCC', 'FAF', 'TUE', 'CALC', 'MTRANS'],\n",
              "      dtype=object)"
            ]
          },
          "metadata": {},
          "execution_count": 17
        }
      ],
      "source": [
        "filtrado.get_feature_names_out()"
      ]
    },
    {
      "cell_type": "code",
      "execution_count": 18,
      "metadata": {
        "colab": {
          "base_uri": "https://localhost:8080/"
        },
        "id": "pKda1WK70LiF",
        "outputId": "6da8ad0a-3e1c-4348-a2a1-090d41826c41"
      },
      "outputs": [
        {
          "output_type": "stream",
          "name": "stdout",
          "text": [
            "Score list: [1.95213410e-01 5.93737877e-01 4.21830894e-01 1.25423842e+00\n",
            " 1.46803720e-01 5.46216225e-02 3.85479075e-01 2.46302122e-01\n",
            " 1.60181934e-01 5.41209697e-04 2.97097573e-01 3.49207527e-02\n",
            " 2.97017916e-01 2.77444396e-01 9.88593602e-02 6.07624311e-02]\n",
            "Feature list: Index(['Gender', 'Age', 'Height', 'Weight', 'family_history_with_overweight',\n",
            "       'FAVC', 'FCVC', 'NCP', 'CAEC', 'SMOKE', 'CH2O', 'SCC', 'FAF', 'TUE',\n",
            "       'CALC', 'MTRANS'],\n",
            "      dtype='object')\n"
          ]
        }
      ],
      "source": [
        "print('Score list:', filtrado.scores_)\n",
        "print('Feature list:', X_train_val.columns)"
      ]
    },
    {
      "cell_type": "code",
      "execution_count": 19,
      "metadata": {
        "colab": {
          "base_uri": "https://localhost:8080/"
        },
        "id": "F05KdjptyVvx",
        "outputId": "4a7b3c62-7509-406d-93e2-99435e3b54df"
      },
      "outputs": [
        {
          "output_type": "execute_result",
          "data": {
            "text/plain": [
              "array([[ 0.  , 21.  ,  1.62, 64.  ,  1.  ,  0.  ,  2.  ,  3.  ,  2.  ,\n",
              "         0.  ,  2.  ,  0.  ,  0.  ,  1.  ,  3.  ,  3.  ],\n",
              "       [ 0.  , 21.  ,  1.52, 56.  ,  1.  ,  0.  ,  3.  ,  3.  ,  2.  ,\n",
              "         1.  ,  3.  ,  1.  ,  3.  ,  0.  ,  2.  ,  3.  ],\n",
              "       [ 1.  , 23.  ,  1.8 , 77.  ,  1.  ,  0.  ,  2.  ,  3.  ,  2.  ,\n",
              "         0.  ,  2.  ,  0.  ,  2.  ,  1.  ,  1.  ,  3.  ],\n",
              "       [ 1.  , 27.  ,  1.8 , 87.  ,  0.  ,  0.  ,  3.  ,  3.  ,  2.  ,\n",
              "         0.  ,  2.  ,  0.  ,  2.  ,  0.  ,  1.  ,  4.  ],\n",
              "       [ 1.  , 22.  ,  1.78, 89.8 ,  0.  ,  0.  ,  2.  ,  1.  ,  2.  ,\n",
              "         0.  ,  2.  ,  0.  ,  0.  ,  0.  ,  2.  ,  3.  ]])"
            ]
          },
          "metadata": {},
          "execution_count": 19
        }
      ],
      "source": [
        "X_new = filtrado.transform(X_train_val)\n",
        "X_new[:5]"
      ]
    },
    {
      "cell_type": "code",
      "execution_count": 20,
      "metadata": {
        "colab": {
          "base_uri": "https://localhost:8080/",
          "height": 477
        },
        "id": "EPmtPv2J1DHI",
        "outputId": "8ce285e2-d99e-410f-a1b3-735bf26e2b0c"
      },
      "outputs": [
        {
          "output_type": "display_data",
          "data": {
            "text/plain": [
              "<Figure size 640x480 with 1 Axes>"
            ],
            "image/png": "[encoded data removed]"
          },
          "metadata": {}
        }
      ],
      "source": [
        "plt.bar(range(len(filtrado.scores_)), filtrado.scores_)\n",
        "plt.xticks(range(len(filtrado.scores_)), range(1, len(filtrado.scores_)+1))\n",
        "plt.xlabel('Feature')\n",
        "plt.ylabel('Score')\n",
        "plt.title('SelectKBest Feature Scores')\n",
        "plt.show()"
      ]
    },
    {
      "cell_type": "code",
      "execution_count": 21,
      "metadata": {
        "colab": {
          "base_uri": "https://localhost:8080/",
          "height": 682
        },
        "id": "eubgLA6s_5k9",
        "outputId": "053a0064-e0dc-42be-8679-01137c9e2906"
      },
      "outputs": [
        {
          "output_type": "display_data",
          "data": {
            "text/plain": [
              "<Figure size 640x480 with 1 Axes>"
            ],
            "image/png": "[encoded data removed]"
          },
          "metadata": {}
        }
      ],
      "source": [
        "plt.bar(range(len(filtrado.scores_)), filtrado.scores_)\n",
        "plt.xticks(range(len(filtrado.scores_)), filtrado.get_feature_names_out(), rotation=90)\n",
        "plt.xlabel('Features')\n",
        "plt.ylabel('Score')\n",
        "plt.title('SelectKBest Feature Scores')\n",
        "plt.show()"
      ]
    },
    {
      "cell_type": "code",
      "execution_count": 22,
      "metadata": {
        "id": "Di6MvoW3FeJx"
      },
      "outputs": [],
      "source": [
        "#Renombrando etiquetas:\n",
        "\n",
        "# Diccionario de mapeo de nombres de características\n",
        "mapping = {\n",
        "    'Gender': 'Género',\n",
        "    'Age': 'Edad',\n",
        "    'Height': 'Altura',\n",
        "    'Weight': 'Peso',\n",
        "    'family_history_with_overweight':'Pariente c/obesidad',\n",
        "    'FAVC': 'A. hipercalóricos',\n",
        "    'FCVC': 'C. Vegetales',\n",
        "    'NCP': 'N. Comidas',\n",
        "    'CAEC': 'A. Entre Comidas',\n",
        "    'SMOKE': 'Fumar',\n",
        "    'CH2O': 'C. agua',\n",
        "    'SCC': 'Monit. Calorias',\n",
        "    'FAF': 'Actividad física',\n",
        "    'TUE': 'Uso Dispositivo Tec.',\n",
        "    'CALC': 'Alcohol',\n",
        "    'MTRANS': 'Transporte usado',\n",
        "\n",
        "}\n",
        "\n",
        "# Renombrar los nombres de características\n",
        "renamed_feature_names = [mapping.get(name, name) for name in filtrado.get_feature_names_out()]"
      ]
    },
    {
      "cell_type": "code",
      "execution_count": 23,
      "metadata": {
        "colab": {
          "base_uri": "https://localhost:8080/",
          "height": 600
        },
        "id": "PXcEqXDsF_Ni",
        "outputId": "89e6a883-e349-4cc5-e560-a2973b0c54cc"
      },
      "outputs": [
        {
          "output_type": "display_data",
          "data": {
            "text/plain": [
              "<Figure size 640x480 with 1 Axes>"
            ],
            "image/png": "[encoded data removed]"
          },
          "metadata": {}
        }
      ],
      "source": [
        "plt.bar(range(len(filtrado.scores_)), filtrado.scores_)\n",
        "plt.xticks(range(len(filtrado.scores_)), renamed_feature_names, rotation=90)\n",
        "plt.xlabel('Features')\n",
        "plt.ylabel('Score')\n",
        "plt.title('SelectKBest Feature Scores')\n",
        "plt.show()"
      ]
    },
    {
      "cell_type": "code",
      "execution_count": null,
      "metadata": {
        "id": "DznVIIbC7muS"
      },
      "outputs": [],
      "source": [
        "fig, axes = plt.subplots(nrows=3, ncols=3, figsize=(15, 15),\n",
        "                        subplot_kw={'xticks': [], 'yticks': []})"
      ]
    },
    {
      "cell_type": "markdown",
      "metadata": {
        "id": "nSf3zSBcZAng"
      },
      "source": [
        "4 características menos importantes: Smoke, FAVC, SCC, MTRANS"
      ]
    },
    {
      "cell_type": "markdown",
      "metadata": {
        "id": "qwscAKOPmwLe"
      },
      "source": [
        "# Selección de características por wrapping - Backward elimination"
      ]
    },
    {
      "cell_type": "code",
      "execution_count": null,
      "metadata": {
        "colab": {
          "base_uri": "https://localhost:8080/",
          "height": 399
        },
        "id": "fN-BSDrOnQMl",
        "outputId": "5fa3606a-b603-47fc-e06e-807b4cde1cd4"
      },
      "outputs": [
        {
          "ename": "KeyboardInterrupt",
          "evalue": "ignored",
          "output_type": "error",
          "traceback": [
            "\u001b[0;31m---------------------------------------------------------------------------\u001b[0m",
            "\u001b[0;31mKeyboardInterrupt\u001b[0m                         Traceback (most recent call last)",
            "\u001b[0;32m<ipython-input-13-318e66108c6d>\u001b[0m in \u001b[0;36m<cell line: 20>\u001b[0;34m()\u001b[0m\n\u001b[1;32m     18\u001b[0m rfecv = RFECV(estimator=svc, step=1, cv=StratifiedKFold(2),\n\u001b[1;32m     19\u001b[0m               scoring='accuracy')\n\u001b[0;32m---> 20\u001b[0;31m \u001b[0mrfecv\u001b[0m\u001b[0;34m.\u001b[0m\u001b[0mfit\u001b[0m\u001b[0;34m(\u001b[0m\u001b[0mX\u001b[0m\u001b[0;34m,\u001b[0m \u001b[0my\u001b[0m\u001b[0;34m)\u001b[0m\u001b[0;34m\u001b[0m\u001b[0;34m\u001b[0m\u001b[0m\n\u001b[0m\u001b[1;32m     21\u001b[0m \u001b[0;34m\u001b[0m\u001b[0m\n\u001b[1;32m     22\u001b[0m \u001b[0mprint\u001b[0m\u001b[0;34m(\u001b[0m\u001b[0;34m\"Optimal number of features : %d\"\u001b[0m \u001b[0;34m%\u001b[0m \u001b[0mrfecv\u001b[0m\u001b[0;34m.\u001b[0m\u001b[0mn_features_\u001b[0m\u001b[0;34m)\u001b[0m\u001b[0;34m\u001b[0m\u001b[0;34m\u001b[0m\u001b[0m\n",
            "\u001b[0;32m/usr/local/lib/python3.10/dist-packages/sklearn/feature_selection/_rfe.py\u001b[0m in \u001b[0;36mfit\u001b[0;34m(self, X, y, groups)\u001b[0m\n\u001b[1;32m    723\u001b[0m             \u001b[0mfunc\u001b[0m \u001b[0;34m=\u001b[0m \u001b[0mdelayed\u001b[0m\u001b[0;34m(\u001b[0m\u001b[0m_rfe_single_fit\u001b[0m\u001b[0;34m)\u001b[0m\u001b[0;34m\u001b[0m\u001b[0;34m\u001b[0m\u001b[0m\n\u001b[1;32m    724\u001b[0m \u001b[0;34m\u001b[0m\u001b[0m\n\u001b[0;32m--> 725\u001b[0;31m         scores = parallel(\n\u001b[0m\u001b[1;32m    726\u001b[0m             \u001b[0mfunc\u001b[0m\u001b[0;34m(\u001b[0m\u001b[0mrfe\u001b[0m\u001b[0;34m,\u001b[0m \u001b[0mself\u001b[0m\u001b[0;34m.\u001b[0m\u001b[0mestimator\u001b[0m\u001b[0;34m,\u001b[0m \u001b[0mX\u001b[0m\u001b[0;34m,\u001b[0m \u001b[0my\u001b[0m\u001b[0;34m,\u001b[0m \u001b[0mtrain\u001b[0m\u001b[0;34m,\u001b[0m \u001b[0mtest\u001b[0m\u001b[0;34m,\u001b[0m \u001b[0mscorer\u001b[0m\u001b[0;34m)\u001b[0m\u001b[0;34m\u001b[0m\u001b[0;34m\u001b[0m\u001b[0m\n\u001b[1;32m    727\u001b[0m             \u001b[0;32mfor\u001b[0m \u001b[0mtrain\u001b[0m\u001b[0;34m,\u001b[0m \u001b[0mtest\u001b[0m \u001b[0;32min\u001b[0m \u001b[0mcv\u001b[0m\u001b[0;34m.\u001b[0m\u001b[0msplit\u001b[0m\u001b[0;34m(\u001b[0m\u001b[0mX\u001b[0m\u001b[0;34m,\u001b[0m \u001b[0my\u001b[0m\u001b[0;34m,\u001b[0m \u001b[0mgroups\u001b[0m\u001b[0;34m)\u001b[0m\u001b[0;34m\u001b[0m\u001b[0;34m\u001b[0m\u001b[0m\n",
            "\u001b[0;32m/usr/local/lib/python3.10/dist-packages/sklearn/feature_selection/_rfe.py\u001b[0m in \u001b[0;36m<genexpr>\u001b[0;34m(.0)\u001b[0m\n\u001b[1;32m    724\u001b[0m \u001b[0;34m\u001b[0m\u001b[0m\n\u001b[1;32m    725\u001b[0m         scores = parallel(\n\u001b[0;32m--> 726\u001b[0;31m             \u001b[0mfunc\u001b[0m\u001b[0;34m(\u001b[0m\u001b[0mrfe\u001b[0m\u001b[0;34m,\u001b[0m \u001b[0mself\u001b[0m\u001b[0;34m.\u001b[0m\u001b[0mestimator\u001b[0m\u001b[0;34m,\u001b[0m \u001b[0mX\u001b[0m\u001b[0;34m,\u001b[0m \u001b[0my\u001b[0m\u001b[0;34m,\u001b[0m \u001b[0mtrain\u001b[0m\u001b[0;34m,\u001b[0m \u001b[0mtest\u001b[0m\u001b[0;34m,\u001b[0m \u001b[0mscorer\u001b[0m\u001b[0;34m)\u001b[0m\u001b[0;34m\u001b[0m\u001b[0;34m\u001b[0m\u001b[0m\n\u001b[0m\u001b[1;32m    727\u001b[0m             \u001b[0;32mfor\u001b[0m \u001b[0mtrain\u001b[0m\u001b[0;34m,\u001b[0m \u001b[0mtest\u001b[0m \u001b[0;32min\u001b[0m \u001b[0mcv\u001b[0m\u001b[0;34m.\u001b[0m\u001b[0msplit\u001b[0m\u001b[0;34m(\u001b[0m\u001b[0mX\u001b[0m\u001b[0;34m,\u001b[0m \u001b[0my\u001b[0m\u001b[0;34m,\u001b[0m \u001b[0mgroups\u001b[0m\u001b[0;34m)\u001b[0m\u001b[0;34m\u001b[0m\u001b[0;34m\u001b[0m\u001b[0m\n\u001b[1;32m    728\u001b[0m         )\n",
            "\u001b[0;32m/usr/local/lib/python3.10/dist-packages/sklearn/feature_selection/_rfe.py\u001b[0m in \u001b[0;36m_rfe_single_fit\u001b[0;34m(rfe, estimator, X, y, train, test, scorer)\u001b[0m\n\u001b[1;32m     35\u001b[0m     \u001b[0mX_train\u001b[0m\u001b[0;34m,\u001b[0m \u001b[0my_train\u001b[0m \u001b[0;34m=\u001b[0m \u001b[0m_safe_split\u001b[0m\u001b[0;34m(\u001b[0m\u001b[0mestimator\u001b[0m\u001b[0;34m,\u001b[0m \u001b[0mX\u001b[0m\u001b[0;34m,\u001b[0m \u001b[0my\u001b[0m\u001b[0;34m,\u001b[0m \u001b[0mtrain\u001b[0m\u001b[0;34m)\u001b[0m\u001b[0;34m\u001b[0m\u001b[0;34m\u001b[0m\u001b[0m\n\u001b[1;32m     36\u001b[0m     \u001b[0mX_test\u001b[0m\u001b[0;34m,\u001b[0m \u001b[0my_test\u001b[0m \u001b[0;34m=\u001b[0m \u001b[0m_safe_split\u001b[0m\u001b[0;34m(\u001b[0m\u001b[0mestimator\u001b[0m\u001b[0;34m,\u001b[0m \u001b[0mX\u001b[0m\u001b[0;34m,\u001b[0m \u001b[0my\u001b[0m\u001b[0;34m,\u001b[0m \u001b[0mtest\u001b[0m\u001b[0;34m,\u001b[0m \u001b[0mtrain\u001b[0m\u001b[0;34m)\u001b[0m\u001b[0;34m\u001b[0m\u001b[0;34m\u001b[0m\u001b[0m\n\u001b[0;32m---> 37\u001b[0;31m     return rfe._fit(\n\u001b[0m\u001b[1;32m     38\u001b[0m         \u001b[0mX_train\u001b[0m\u001b[0;34m,\u001b[0m\u001b[0;34m\u001b[0m\u001b[0;34m\u001b[0m\u001b[0m\n\u001b[1;32m     39\u001b[0m         \u001b[0my_train\u001b[0m\u001b[0;34m,\u001b[0m\u001b[0;34m\u001b[0m\u001b[0;34m\u001b[0m\u001b[0m\n",
            "\u001b[0;32m/usr/local/lib/python3.10/dist-packages/sklearn/feature_selection/_rfe.py\u001b[0m in \u001b[0;36m_fit\u001b[0;34m(self, X, y, step_score, **fit_params)\u001b[0m\n\u001b[1;32m    297\u001b[0m                 \u001b[0mprint\u001b[0m\u001b[0;34m(\u001b[0m\u001b[0;34m\"Fitting estimator with %d features.\"\u001b[0m \u001b[0;34m%\u001b[0m \u001b[0mnp\u001b[0m\u001b[0;34m.\u001b[0m\u001b[0msum\u001b[0m\u001b[0;34m(\u001b[0m\u001b[0msupport_\u001b[0m\u001b[0;34m)\u001b[0m\u001b[0;34m)\u001b[0m\u001b[0;34m\u001b[0m\u001b[0;34m\u001b[0m\u001b[0m\n\u001b[1;32m    298\u001b[0m \u001b[0;34m\u001b[0m\u001b[0m\n\u001b[0;32m--> 299\u001b[0;31m             \u001b[0mestimator\u001b[0m\u001b[0;34m.\u001b[0m\u001b[0mfit\u001b[0m\u001b[0;34m(\u001b[0m\u001b[0mX\u001b[0m\u001b[0;34m[\u001b[0m\u001b[0;34m:\u001b[0m\u001b[0;34m,\u001b[0m \u001b[0mfeatures\u001b[0m\u001b[0;34m]\u001b[0m\u001b[0;34m,\u001b[0m \u001b[0my\u001b[0m\u001b[0;34m,\u001b[0m \u001b[0;34m**\u001b[0m\u001b[0mfit_params\u001b[0m\u001b[0;34m)\u001b[0m\u001b[0;34m\u001b[0m\u001b[0;34m\u001b[0m\u001b[0m\n\u001b[0m\u001b[1;32m    300\u001b[0m \u001b[0;34m\u001b[0m\u001b[0m\n\u001b[1;32m    301\u001b[0m             \u001b[0;31m# Get importance and rank them\u001b[0m\u001b[0;34m\u001b[0m\u001b[0;34m\u001b[0m\u001b[0m\n",
            "\u001b[0;32m/usr/local/lib/python3.10/dist-packages/sklearn/svm/_base.py\u001b[0m in \u001b[0;36mfit\u001b[0;34m(self, X, y, sample_weight)\u001b[0m\n\u001b[1;32m    250\u001b[0m \u001b[0;34m\u001b[0m\u001b[0m\n\u001b[1;32m    251\u001b[0m         \u001b[0mseed\u001b[0m \u001b[0;34m=\u001b[0m \u001b[0mrnd\u001b[0m\u001b[0;34m.\u001b[0m\u001b[0mrandint\u001b[0m\u001b[0;34m(\u001b[0m\u001b[0mnp\u001b[0m\u001b[0;34m.\u001b[0m\u001b[0miinfo\u001b[0m\u001b[0;34m(\u001b[0m\u001b[0;34m\"i\"\u001b[0m\u001b[0;34m)\u001b[0m\u001b[0;34m.\u001b[0m\u001b[0mmax\u001b[0m\u001b[0;34m)\u001b[0m\u001b[0;34m\u001b[0m\u001b[0;34m\u001b[0m\u001b[0m\n\u001b[0;32m--> 252\u001b[0;31m         \u001b[0mfit\u001b[0m\u001b[0;34m(\u001b[0m\u001b[0mX\u001b[0m\u001b[0;34m,\u001b[0m \u001b[0my\u001b[0m\u001b[0;34m,\u001b[0m \u001b[0msample_weight\u001b[0m\u001b[0;34m,\u001b[0m \u001b[0msolver_type\u001b[0m\u001b[0;34m,\u001b[0m \u001b[0mkernel\u001b[0m\u001b[0;34m,\u001b[0m \u001b[0mrandom_seed\u001b[0m\u001b[0;34m=\u001b[0m\u001b[0mseed\u001b[0m\u001b[0;34m)\u001b[0m\u001b[0;34m\u001b[0m\u001b[0;34m\u001b[0m\u001b[0m\n\u001b[0m\u001b[1;32m    253\u001b[0m         \u001b[0;31m# see comment on the other call to np.iinfo in this file\u001b[0m\u001b[0;34m\u001b[0m\u001b[0;34m\u001b[0m\u001b[0m\n\u001b[1;32m    254\u001b[0m \u001b[0;34m\u001b[0m\u001b[0m\n",
            "\u001b[0;32m/usr/local/lib/python3.10/dist-packages/sklearn/svm/_base.py\u001b[0m in \u001b[0;36m_dense_fit\u001b[0;34m(self, X, y, sample_weight, solver_type, kernel, random_seed)\u001b[0m\n\u001b[1;32m    329\u001b[0m             \u001b[0mself\u001b[0m\u001b[0;34m.\u001b[0m\u001b[0mfit_status_\u001b[0m\u001b[0;34m,\u001b[0m\u001b[0;34m\u001b[0m\u001b[0;34m\u001b[0m\u001b[0m\n\u001b[1;32m    330\u001b[0m             \u001b[0mself\u001b[0m\u001b[0;34m.\u001b[0m\u001b[0m_num_iter\u001b[0m\u001b[0;34m,\u001b[0m\u001b[0;34m\u001b[0m\u001b[0;34m\u001b[0m\u001b[0m\n\u001b[0;32m--> 331\u001b[0;31m         \u001b[0;34m)\u001b[0m \u001b[0;34m=\u001b[0m \u001b[0mlibsvm\u001b[0m\u001b[0;34m.\u001b[0m\u001b[0mfit\u001b[0m\u001b[0;34m(\u001b[0m\u001b[0;34m\u001b[0m\u001b[0;34m\u001b[0m\u001b[0m\n\u001b[0m\u001b[1;32m    332\u001b[0m             \u001b[0mX\u001b[0m\u001b[0;34m,\u001b[0m\u001b[0;34m\u001b[0m\u001b[0;34m\u001b[0m\u001b[0m\n\u001b[1;32m    333\u001b[0m             \u001b[0my\u001b[0m\u001b[0;34m,\u001b[0m\u001b[0;34m\u001b[0m\u001b[0;34m\u001b[0m\u001b[0m\n",
            "\u001b[0;31mKeyboardInterrupt\u001b[0m: "
          ]
        }
      ],
      "source": [
        "# Ver https://scikit-learn.org/stable/auto_examples/feature_selection/plot_rfe_with_cross_validation.html\n",
        "\n",
        "import matplotlib.pyplot as plt\n",
        "from sklearn.svm import SVC\n",
        "from sklearn.model_selection import StratifiedKFold\n",
        "from sklearn.feature_selection import RFECV\n",
        "from sklearn.datasets import make_classification\n",
        "\n",
        "# Build a classification task using 3 informative features\n",
        "X, y = make_classification(n_samples=1000, n_features=25, n_informative=3,\n",
        "                           n_redundant=2, n_repeated=0, n_classes=8,\n",
        "                           n_clusters_per_class=1, random_state=0)\n",
        "\n",
        "# Create the RFE object and compute a cross-validated score.\n",
        "svc = SVC(kernel=\"linear\")\n",
        "# The \"accuracy\" scoring is proportional to the number of correct\n",
        "# classifications\n",
        "rfecv = RFECV(estimator=svc, step=1, cv=StratifiedKFold(10),\n",
        "              scoring='accuracy')\n",
        "rfecv.fit(X, y)\n",
        "\n",
        "print(\"Optimal number of features : %d\" % rfecv.n_features_)\n",
        "\n",
        "# Plot number of features VS. cross-validation scores\n",
        "plt.figure()\n",
        "plt.xlabel(\"Number of features selected\")\n",
        "plt.ylabel(\"Cross validation score (nb of correct classifications)\")\n",
        "plt.plot(range(1, len(rfecv.grid_scores_) + 1), rfecv.grid_scores_)\n",
        "plt.show()"
      ]
    },
    {
      "cell_type": "markdown",
      "metadata": {
        "id": "5-hZ26xvnQAl"
      },
      "source": []
    },
    {
      "cell_type": "markdown",
      "metadata": {
        "id": "S15W48XEqpFb"
      },
      "source": [
        "# Eliminar 4 características"
      ]
    },
    {
      "cell_type": "code",
      "execution_count": null,
      "metadata": {
        "id": "Qx1kbvncNqYp"
      },
      "outputs": [],
      "source": [
        "dataset.drop(['CALC','MTRANS','FCVC','family_history_with_overweight'], axis=1, inplace=True)"
      ]
    },
    {
      "cell_type": "code",
      "execution_count": null,
      "metadata": {
        "id": "OlGoMus4Nfyl"
      },
      "outputs": [],
      "source": [
        "dataset.head()"
      ]
    },
    {
      "cell_type": "markdown",
      "metadata": {
        "id": "WBedDR9vMb5o"
      },
      "source": [
        "# **12 atributos sin IMC**"
      ]
    },
    {
      "cell_type": "markdown",
      "metadata": {
        "id": "iBWXogP_prIz"
      },
      "source": [
        "# División de datos de entrenamiento y test"
      ]
    },
    {
      "cell_type": "code",
      "execution_count": null,
      "metadata": {
        "id": "21_UF3vU2UOr"
      },
      "outputs": [],
      "source": [
        "#Separamos la data, en variables independientes (x) y dependientes (y), para poder entrenar el modelo de regresión\n",
        "X_train_val = dataset.drop(['NObeyesdad'], axis=1)\n",
        "y_train_val = dataset['NObeyesdad']"
      ]
    },
    {
      "cell_type": "code",
      "execution_count": null,
      "metadata": {
        "id": "2id7w0E6N88n"
      },
      "outputs": [],
      "source": [
        "# Dividimos la data en conjunto de \"entrenamiento\" y \"prueba\"\n",
        "X_train, X_val, y_train, y_val = train_test_split(X_train_val, y_train_val, test_size=0.2, random_state=0)"
      ]
    },
    {
      "cell_type": "code",
      "execution_count": null,
      "metadata": {
        "colab": {
          "base_uri": "https://localhost:8080/"
        },
        "id": "mLWDrAbYMbkB",
        "outputId": "3d2aae1b-a5e4-446e-e032-feceb7a17617"
      },
      "outputs": [
        {
          "name": "stdout",
          "output_type": "stream",
          "text": [
            "Train shape: (1688, 12)\n",
            "Test shape: (423, 12)\n"
          ]
        }
      ],
      "source": [
        "#12 características\n",
        "print(f\"Train shape: {X_train.shape}\")\n",
        "print(f\"Test shape: {X_val.shape}\")"
      ]
    },
    {
      "cell_type": "code",
      "execution_count": null,
      "metadata": {
        "id": "hevhZRX7OCsY"
      },
      "outputs": [],
      "source": [
        "#Escalar datos\n",
        "scaler = StandardScaler()\n",
        "\n",
        "X_train_scal = scaler.fit_transform(X_train) #Escalar los datos de entrenamiento\n",
        "X_val_scal = scaler.fit_transform(X_val) #Escalar los datos de prueba"
      ]
    },
    {
      "cell_type": "markdown",
      "metadata": {
        "id": "jMTjGH7DOfJJ"
      },
      "source": [
        "# Ensamble por votación manual"
      ]
    },
    {
      "cell_type": "code",
      "execution_count": null,
      "metadata": {
        "colab": {
          "base_uri": "https://localhost:8080/"
        },
        "id": "6G4EQq9fOgCG",
        "outputId": "32211fe8-6bb1-4fc8-a9d7-8fd365ffe2da"
      },
      "outputs": [
        {
          "name": "stdout",
          "output_type": "stream",
          "text": [
            "Exactitud de Random Forest            : Entrenamiento 1.000 || Pruebas 0.953\n",
            "Exactitud de SVM Cubic                : Entrenamiento 1.000 || Pruebas 0.896\n",
            "Exactitud de árbol de decisión        : Entrenamiento 0.803 || Pruebas 0.785\n",
            "Exactitud de k-NN                     : Entrenamiento 0.837 || Pruebas 0.766\n",
            "Exactitud de SVM de kernel gaussiano  : Entrenamiento 0.927 || Pruebas 0.896\n",
            "Exactitud de ensamble                 : Entrenamiento 0.993 || Validación 0.931\n"
          ]
        }
      ],
      "source": [
        "from sklearn.tree import DecisionTreeClassifier\n",
        "from sklearn.neighbors import KNeighborsClassifier\n",
        "from sklearn.ensemble import RandomForestClassifier\n",
        "from sklearn.svm import SVC\n",
        "from sklearn.ensemble import VotingClassifier\n",
        "from sklearn.pipeline import make_pipeline\n",
        "from sklearn.preprocessing import StandardScaler\n",
        "from sklearn import svm\n",
        "\n",
        "estimators = [\n",
        "     ('Random Forest', make_pipeline(StandardScaler(), RandomForestClassifier(oob_score = True, random_state=42))),\n",
        "     ('SVM Cubic', make_pipeline(StandardScaler(),svm.SVC(kernel='poly', degree=3,C=10, gamma=50,probability=True))),\n",
        "\n",
        "     ('árbol de decisión', DecisionTreeClassifier(max_depth=4)),\n",
        "     ('k-NN', make_pipeline(StandardScaler(),\n",
        "                            KNeighborsClassifier(n_neighbors=7) )),\n",
        "     ('SVM de kernel gaussiano', make_pipeline(StandardScaler(),\n",
        "                                               SVC(kernel='rbf', probability=True) ))\n",
        "]\n",
        "\n",
        "ensamble = VotingClassifier(estimators=estimators,\n",
        "                        voting='soft', weights=[3,2,2, 1, 2])\n",
        "ensamble.fit(X_train, y_train)\n",
        "\n",
        "for (name, estimator) in ensamble.named_estimators_.items():\n",
        "  print(f'Exactitud de {name: <25}: Entrenamiento {estimator.score(X_train, y_train):.03f} || Pruebas {estimator.score(X_val, y_val):.03f}',  )\n",
        "\n",
        "print(f'Exactitud de {\"ensamble\": <25}: Entrenamiento {ensamble.score(X_train, y_train):.03f} || Validación {ensamble.score(X_val, y_val):.03f}' )"
      ]
    },
    {
      "cell_type": "markdown",
      "metadata": {
        "id": "ycLbFaLfj8Zw"
      },
      "source": [
        "**SVM CUBIC**"
      ]
    },
    {
      "cell_type": "markdown",
      "metadata": {
        "id": "-vMUuyzqkACo"
      },
      "source": [
        "**C=10, gamma=50**"
      ]
    },
    {
      "cell_type": "code",
      "execution_count": null,
      "metadata": {
        "id": "lzrb4y1mjryx"
      },
      "outputs": [],
      "source": [
        "from sklearn import svm\n",
        "from sklearn.metrics import accuracy_score\n",
        "\n",
        "# Crear una instancia del clasificador SVM con kernel cúbico\n",
        "model = svm.SVC(kernel='poly', degree=3,C=10, gamma=50)\n",
        "\n",
        "# Entrenar el clasificador\n",
        "model.fit(X_train_scal, y_train)\n",
        "\n",
        "# Realizar predicciones en el conjunto de prueba\n",
        "y_pred = model.predict(X_val_scal)\n",
        "\n",
        "cv = cross_val_score(estimator = model, X = X_train_scal, y = y_train, cv = 10) #metodo para obtener la precisión\n",
        "cvForest = cv.mean()\n",
        "stdForest = cv.std()\n",
        "\n",
        "\n",
        "print(\"promedio Validación cruzada k=10: \", cvForest)\n",
        "print('Varianza de Random Forest: ',stdForest)\n",
        "print ('Exactitud en el conjunto de entrenamiento: %0.4f' % model.score(X_train_scal, y_train))\n",
        "print ('Exactitud en el conjunto de validación: %0.4f' % model.score(X_val_scal, y_val))"
      ]
    },
    {
      "cell_type": "markdown",
      "metadata": {
        "id": "6jlVyH-FlP0n"
      },
      "source": [
        "Para determinar valores C y γ que brinden una mejor generalización, es necesario probar con diferentes valores, ajustando el modelo en el conjunto de entrenamiento y probando su desempeño en el conjunto de validación."
      ]
    },
    {
      "cell_type": "code",
      "execution_count": null,
      "metadata": {
        "id": "l-9wFtVQlShu"
      },
      "outputs": [],
      "source": [
        "from sklearn import svm\n",
        "from sklearn.metrics import accuracy_score\n",
        "\n",
        "Cs = np.logspace(-2,2,9)  # ~ [0.01, 0.03, 0.1, ..., 100]\n",
        "gammas = np.logspace(-4,4,9)  # [0.0001, 0.001, ..., 10000]\n",
        "\n",
        "mejor_modelo = None\n",
        "mejor_score = 0\n",
        "for C in Cs:\n",
        "    for gamma in gammas:\n",
        "\n",
        "        model = svm.SVC(kernel='poly', degree=3, C=C, gamma=gamma)\n",
        "        model.fit(X_train_scal, y_train)\n",
        "\n",
        "        score_val = model.score(X_val_scal, y_val)\n",
        "\n",
        "        if score_val > mejor_score:\n",
        "            mejor_score = score_val\n",
        "            mejor_modelo = model\n",
        "\n",
        "\n",
        "cv = cross_val_score(estimator = mejor_modelo, X = X_train_scal, y = y_train, cv = 10) #metodo para obtener la precisión\n",
        "cvForest = cv.mean()\n",
        "\n",
        "print ('Mejor valor de C: %0.4f' % mejor_modelo.get_params()['C'])\n",
        "print ('Mejor valor de gamma: %0.4f' % mejor_modelo.get_params()['gamma'])\n",
        "print ('Exactitud en el conjunto de entrenamiento: %0.4f' % mejor_modelo.score(X_train_scal, y_train))\n",
        "print ('Exactitud en el conjunto de validación: %0.4f' % mejor_modelo.score(X_val_scal, y_val))\n",
        "print(\"promedio Validación cruzada k=10: \", cvForest)\n"
      ]
    },
    {
      "cell_type": "markdown",
      "metadata": {
        "id": "LwsGrEsqlYi-"
      },
      "source": [
        "**RandomForest con data escalada: OOB (Bagging)**"
      ]
    },
    {
      "cell_type": "code",
      "execution_count": null,
      "metadata": {
        "id": "pTVEtn3FlYIW"
      },
      "outputs": [],
      "source": [
        "from sklearn.ensemble import RandomForestClassifier\n",
        "from sklearn.metrics import accuracy_score\n",
        "\n",
        "rf = RandomForestClassifier(oob_score = True,random_state=42)\n",
        "rf.fit(X_train_scal, y_train)\n",
        "\n",
        "y_pred = rf.predict(X_val_scal) #Hacemos predicciones sobre el conjunto de test\n",
        "\n",
        "cv = cross_val_score(estimator = rf, X = X_train_scal, y = y_train, cv = 10) #metodo para obtener la precisión\n",
        "cvForest = cv.mean()\n",
        "stdForest = cv.std()\n",
        "print('Exactitud del modelo inicial en entrenamiento:', rf.score(X_train_scal, y_train))\n",
        "print('Exactitud del modelo inicial en entrenamiento (Out of Bag):', rf.oob_score_)\n",
        "print('Exactitud del modelo inicial en validación:', rf.score(X_val_scal, y_val))\n",
        "print(\"promedio Validación cruzada Random Forest: \", cvForest)\n",
        "print('Varianza de Random Forest: ',stdForest)"
      ]
    },
    {
      "cell_type": "markdown",
      "metadata": {
        "id": "Oy6qbHr7ldnR"
      },
      "source": [
        "# Matriz de confusión"
      ]
    },
    {
      "cell_type": "code",
      "execution_count": null,
      "metadata": {
        "id": "pojz0OEWlexP"
      },
      "outputs": [],
      "source": [
        "cm = confusion_matrix(y_val, y_pred, labels=rf.classes_)\n",
        "disp = ConfusionMatrixDisplay(confusion_matrix=cm, display_labels=rf.classes_)\n",
        "disp.plot()"
      ]
    },
    {
      "cell_type": "markdown",
      "metadata": {
        "id": "qFGo8cnmljp_"
      },
      "source": [
        "# Importancia de la características"
      ]
    },
    {
      "cell_type": "code",
      "execution_count": null,
      "metadata": {
        "id": "Kl8cuAq9llfH"
      },
      "outputs": [],
      "source": [
        "feature_names = X_train_val.columns.values\n",
        "tree_feature_importances = rf.feature_importances_\n",
        "sorted_idx = tree_feature_importances.argsort()\n",
        "\n",
        "y_ticks = np.arange(0, len(feature_names))\n",
        "fig, ax = plt.subplots()\n",
        "ax.barh(y_ticks, tree_feature_importances[sorted_idx])\n",
        "ax.set_yticklabels(feature_names[sorted_idx])\n",
        "ax.set_yticks(y_ticks)\n",
        "ax.set_title(\"Importancia de características\")\n",
        "fig.tight_layout()\n",
        "plt.show()"
      ]
    },
    {
      "cell_type": "markdown",
      "metadata": {
        "id": "627BpNVAlygY"
      },
      "source": [
        "** Estrategia De Validación A Emplear Para El Ajuste De Hiperparámetros.**"
      ]
    },
    {
      "cell_type": "markdown",
      "metadata": {
        "id": "K4bq0mhil1QP"
      },
      "source": [
        "Los principales hiperparámetros de Random Forest son:\n",
        "\n",
        "n_estimators -- el número de modelos base (árboles) a entrenar\n",
        "max_features -- el número de características a considerar en cada partición de los árboles\n",
        "max_depth -- la profundidad máxima de los árboles\n",
        "min_samples_leaf -- el numero mínimo de muestras que deben quedar en cada hoja del árbol\n",
        "Para identificar los mejores valores de los hiperparámetros usaremos primero búsqueda aleatoria y luego búsqueda en grilla."
      ]
    },
    {
      "cell_type": "code",
      "execution_count": null,
      "metadata": {
        "id": "zipsCni_lzc_"
      },
      "outputs": [],
      "source": [
        "from pprint import pprint\n",
        "import numpy as np\n",
        "\n",
        "n_estimators = [int(x) for x in np.linspace(start = 200, stop = 2000, num = 10)]\n",
        "max_features = ['auto', 8, 10, 12, None]  # 'auto' equivale a 'sqrt'; None equivale a todas las 15\n",
        "max_depth = [int(x) for x in np.linspace(10, 110, num = 11)] + [None]\n",
        "min_samples_leaf = [1, 2, 4]\n",
        "\n",
        "random_grid = {'n_estimators': n_estimators,\n",
        "               'max_features': max_features,\n",
        "               'max_depth': max_depth,\n",
        "               'min_samples_leaf': min_samples_leaf}\n",
        "\n",
        "print('Los valores a probar en la búsqueda aleatoria son:')\n",
        "pprint(random_grid)\n",
        "\n",
        "print()\n",
        "print('Si se probara todas las combinaciones se requeriría entrenar',\n",
        "      len(random_grid['n_estimators']) *\n",
        "      len(random_grid['max_features']) *\n",
        "      len(random_grid['max_depth']) *\n",
        "      len(random_grid['min_samples_leaf']),\n",
        "      'modelos'\n",
        "      )"
      ]
    },
    {
      "cell_type": "markdown",
      "metadata": {
        "id": "6N1smKxOl6ZW"
      },
      "source": [
        "Probaremos entrenando sólo un 1% de las combinaciones posibles, es decir, 18. (Se recomienda probar al menos un 10%)"
      ]
    },
    {
      "cell_type": "code",
      "execution_count": null,
      "metadata": {
        "id": "-vS_gyzLl494"
      },
      "outputs": [],
      "source": [
        "from sklearn.model_selection import RandomizedSearchCV\n",
        "\n",
        "rf = RandomForestClassifier(oob_score=True)\n",
        "rf_random = RandomizedSearchCV(estimator = rf,\n",
        "                               param_distributions = random_grid,\n",
        "                               n_iter = 18,\n",
        "                               cv = 10,          # Validación cruzada 10-fold\n",
        "                               verbose=2,\n",
        "                               random_state=0,\n",
        "                               n_jobs = -1      # Paralelizar en todos los cores disponibles\n",
        "                               )\n",
        "rf_random.fit(X_train_scal, y_train)"
      ]
    },
    {
      "cell_type": "code",
      "execution_count": null,
      "metadata": {
        "id": "mBCgmYUzl8CI"
      },
      "outputs": [],
      "source": [
        "rf_random_best = rf_random.best_estimator_\n",
        "\n",
        "print('Los hiperparámetros del mejor modelo son:')\n",
        "pprint(rf_random.best_params_)\n",
        "print()\n",
        "\n",
        "print('Exactitud luego de búsqueda aleatoria en entrenamiento:', rf_random_best.score(X_train_scal, y_train))\n",
        "print('Exactitud luego de búsqueda aleatoria en entrenamiento (Out of Bag):', rf_random_best.oob_score_)\n",
        "print('Exactitud luego de búsqueda aleatoria en validación:', rf_random_best.score(X_val_scal, y_val))"
      ]
    }
  ],
  "metadata": {
    "colab": {
      "provenance": [],
      "include_colab_link": true
    },
    "kernelspec": {
      "display_name": "Python 3",
      "name": "python3"
    },
    "language_info": {
      "name": "python"
    }
  },
  "nbformat": 4,
  "nbformat_minor": 0
}