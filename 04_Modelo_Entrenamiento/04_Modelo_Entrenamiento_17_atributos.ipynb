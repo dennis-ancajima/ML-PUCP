{
  "nbformat": 4,
  "nbformat_minor": 0,
  "metadata": {
    "colab": {
      "provenance": [],
      "authorship_tag": "ABX9TyNl3oB0X5sUz/1S9vExBWC0",
      "include_colab_link": true
    },
    "kernelspec": {
      "name": "python3",
      "display_name": "Python 3"
    },
    "language_info": {
      "name": "python"
    }
  },
  "cells": [
    {
      "cell_type": "markdown",
      "metadata": {
        "id": "view-in-github",
        "colab_type": "text"
      },
      "source": [
        "<a href=\"https://colab.research.google.com/github/dennis-ancajima/ML-PUCP/blob/main/04_Modelo_Entrenamiento_17_atributos.ipynb\" target=\"_parent\"><img src=\"https://colab.research.google.com/assets/colab-badge.svg\" alt=\"Open In Colab\"/></a>"
      ]
    },
    {
      "cell_type": "markdown",
      "source": [
        "En el presente cuaderno vamos a realizar la experimentación de resultados propios considerando todas las características del conjunto de datos comparando el método de codificación Label Encoder vs Dummies aplicando diferentes métodos de clasificación para estimar los niveles de obesidad con un conjunto de datos  pre-procesado en el cuaderno: **03_Preprocesamiento.ipynb**. Y utilizando validación cruzada considerando (k=10)"
      ],
      "metadata": {
        "id": "Qc4gZLlhx0r2"
      }
    },
    {
      "cell_type": "markdown",
      "source": [
        " **Tabla de contenido:**\n",
        "\n",
        "1. Cargar datos.\n",
        "2. Modelado.\n",
        "\n",
        "  2.1. Considerando la columna calculada: IMC y codificador: Dummies.\n",
        "\n",
        "  2.2. Considerando la columna calculada: IMC y codificador: LabelEncoder.\n",
        "\n",
        "  2.3. Sin considerar la columna calculada: IMC y codificador: dummies.\n",
        "\n",
        "  2.4. Sin considerar la columna calculada: IMC y codificador: LabelEncoder.\n",
        "\n",
        "4. Evaluación de Resultados\n",
        "\n"
      ],
      "metadata": {
        "id": "c0ElTvGmx5n-"
      }
    },
    {
      "cell_type": "markdown",
      "source": [
        "# 1. Cargar datos"
      ],
      "metadata": {
        "id": "DaXBI4uLyCLu"
      }
    },
    {
      "cell_type": "markdown",
      "source": [
        "En primero lugar, realizamos la importación de librerías y módulos necesarios para el análisis de datos y aprendizaje automático."
      ],
      "metadata": {
        "id": "4QKYrTnxyEjn"
      }
    },
    {
      "cell_type": "code",
      "source": [
        "import pandas as pd\n",
        "import numpy as np\n",
        "import seaborn as sns\n",
        "import matplotlib.pyplot as plt #visualizaciones\n",
        "from sklearn.model_selection import train_test_split\n",
        "from sklearn.metrics import mean_squared_error,accuracy_score, roc_curve, roc_auc_score, confusion_matrix, ConfusionMatrixDisplay, classification_report\n",
        "from sklearn.base import clone\n",
        "from sklearn.preprocessing import StandardScaler\n",
        "import seaborn as sns #Libreria para gráficar\n",
        "from sklearn.model_selection import cross_val_score\n",
        "from google.colab import drive\n",
        "\n",
        "pd.set_option(\"display.max_columns\", 50) #Controla la cantidad máxima de columnas que se mostrarán al imprimir un DataFrame.\n",
        "\n",
        "%matplotlib inline\n",
        "plt.style.use('ggplot')"
      ],
      "metadata": {
        "id": "zt9I0hkwyBbd"
      },
      "execution_count": 2,
      "outputs": []
    },
    {
      "cell_type": "markdown",
      "source": [
        "Realizamos la lectura de los archivo CSV pre-procesados sobre el conjunto de datos \"ObesityDataSet_raw_and_data_sinthetic.csv\" y los almacenamos en la siguientes variables utilizando la función read_csv() de la biblioteca panda."
      ],
      "metadata": {
        "id": "cmtxMa2JyRBF"
      }
    },
    {
      "cell_type": "code",
      "source": [
        "#Lectura de los dataset pre-procesados\n",
        "archivo1 = \"17c_dataset_imc_dummies.csv\"\n",
        "archivo2 = \"17c_dataset_imc_labelenconder.csv\"\n",
        "archivo3 = \"17c_dataset_sinimc_dummies.csv\"\n",
        "archivo4 = \"17c_dataset_sinimc_labelenconder.csv\"\n",
        "\n",
        "#El método \"read_csv\" nos permite leer un excel\n",
        "dataset_imc_dummies = pd.read_csv(archivo1)\n",
        "dataset_imc_labelenconder = pd.read_csv(archivo2)\n",
        "dataset_sinimc_dummies = pd.read_csv(archivo3)\n",
        "dataset_sinimc_labelenconder = pd.read_csv(archivo4)"
      ],
      "metadata": {
        "id": "zbxYTztYyQbt"
      },
      "execution_count": 4,
      "outputs": []
    },
    {
      "cell_type": "markdown",
      "source": [
        "# 2. Modelado"
      ],
      "metadata": {
        "id": "CNjJrhCn3e6a"
      }
    },
    {
      "cell_type": "markdown",
      "source": [
        "## 2.1. Considerando la columna calculada: IMC y codificador: Dummies."
      ],
      "metadata": {
        "id": "WQXWwQ_93ica"
      }
    },
    {
      "cell_type": "markdown",
      "source": [
        "Veamos las primeras 5 filas del conjunto de datos almacenado en la variable dataset."
      ],
      "metadata": {
        "id": "yJjOvgqB3NgJ"
      }
    },
    {
      "cell_type": "code",
      "source": [
        "dataset_imc_dummies.head()"
      ],
      "metadata": {
        "colab": {
          "base_uri": "https://localhost:8080/",
          "height": 270
        },
        "id": "1GbhpyzL3QL6",
        "outputId": "1b7bf6bf-61b3-43cd-af11-9d631fcfb31a"
      },
      "execution_count": 5,
      "outputs": [
        {
          "output_type": "execute_result",
          "data": {
            "text/plain": [
              "    Age  Height  Weight  FCVC  NCP  CH2O  FAF  TUE           NObeyesdad  \\\n",
              "0  21.0    1.62    64.0   2.0  3.0   2.0  0.0  1.0        Normal_Weight   \n",
              "1  21.0    1.52    56.0   3.0  3.0   3.0  3.0  0.0        Normal_Weight   \n",
              "2  23.0    1.80    77.0   2.0  3.0   2.0  2.0  1.0        Normal_Weight   \n",
              "3  27.0    1.80    87.0   3.0  3.0   2.0  2.0  0.0   Overweight_Level_I   \n",
              "4  22.0    1.78    89.8   2.0  1.0   2.0  0.0  0.0  Overweight_Level_II   \n",
              "\n",
              "       IMC  EsMujer  History_Family  FAVC_DU  SMOKE_DU  SCC_DU  CAEC_Always  \\\n",
              "0  24.3865     True            True    False     False   False            0   \n",
              "1  24.2382     True            True    False      True    True            0   \n",
              "2  23.7654    False            True    False     False   False            0   \n",
              "3  26.8519    False           False    False     False   False            0   \n",
              "4  28.3424    False           False    False     False   False            0   \n",
              "\n",
              "   CAEC_Frequently  CAEC_Sometimes  CAEC_no  CALC_Always  CALC_Frequently  \\\n",
              "0                0               1        0            0                0   \n",
              "1                0               1        0            0                0   \n",
              "2                0               1        0            0                1   \n",
              "3                0               1        0            0                1   \n",
              "4                0               1        0            0                0   \n",
              "\n",
              "   CALC_Sometimes  CALC_no  MTRANS_Automobile  MTRANS_Bike  MTRANS_Motorbike  \\\n",
              "0               0        1                  0            0                 0   \n",
              "1               1        0                  0            0                 0   \n",
              "2               0        0                  0            0                 0   \n",
              "3               0        0                  0            0                 0   \n",
              "4               1        0                  0            0                 0   \n",
              "\n",
              "   MTRANS_Public_Transportation  MTRANS_Walking  \n",
              "0                             1               0  \n",
              "1                             1               0  \n",
              "2                             1               0  \n",
              "3                             0               1  \n",
              "4                             1               0  "
            ],
            "text/html": [
              "\n",
              "  <div id=\"df-a34343da-2bb3-40af-8a4d-5a5df87d7535\">\n",
              "    <div class=\"colab-df-container\">\n",
              "      <div>\n",
              "<style scoped>\n",
              "    .dataframe tbody tr th:only-of-type {\n",
              "        vertical-align: middle;\n",
              "    }\n",
              "\n",
              "    .dataframe tbody tr th {\n",
              "        vertical-align: top;\n",
              "    }\n",
              "\n",
              "    .dataframe thead th {\n",
              "        text-align: right;\n",
              "    }\n",
              "</style>\n",
              "<table border=\"1\" class=\"dataframe\">\n",
              "  <thead>\n",
              "    <tr style=\"text-align: right;\">\n",
              "      <th></th>\n",
              "      <th>Age</th>\n",
              "      <th>Height</th>\n",
              "      <th>Weight</th>\n",
              "      <th>FCVC</th>\n",
              "      <th>NCP</th>\n",
              "      <th>CH2O</th>\n",
              "      <th>FAF</th>\n",
              "      <th>TUE</th>\n",
              "      <th>NObeyesdad</th>\n",
              "      <th>IMC</th>\n",
              "      <th>EsMujer</th>\n",
              "      <th>History_Family</th>\n",
              "      <th>FAVC_DU</th>\n",
              "      <th>SMOKE_DU</th>\n",
              "      <th>SCC_DU</th>\n",
              "      <th>CAEC_Always</th>\n",
              "      <th>CAEC_Frequently</th>\n",
              "      <th>CAEC_Sometimes</th>\n",
              "      <th>CAEC_no</th>\n",
              "      <th>CALC_Always</th>\n",
              "      <th>CALC_Frequently</th>\n",
              "      <th>CALC_Sometimes</th>\n",
              "      <th>CALC_no</th>\n",
              "      <th>MTRANS_Automobile</th>\n",
              "      <th>MTRANS_Bike</th>\n",
              "      <th>MTRANS_Motorbike</th>\n",
              "      <th>MTRANS_Public_Transportation</th>\n",
              "      <th>MTRANS_Walking</th>\n",
              "    </tr>\n",
              "  </thead>\n",
              "  <tbody>\n",
              "    <tr>\n",
              "      <th>0</th>\n",
              "      <td>21.0</td>\n",
              "      <td>1.62</td>\n",
              "      <td>64.0</td>\n",
              "      <td>2.0</td>\n",
              "      <td>3.0</td>\n",
              "      <td>2.0</td>\n",
              "      <td>0.0</td>\n",
              "      <td>1.0</td>\n",
              "      <td>Normal_Weight</td>\n",
              "      <td>24.3865</td>\n",
              "      <td>True</td>\n",
              "      <td>True</td>\n",
              "      <td>False</td>\n",
              "      <td>False</td>\n",
              "      <td>False</td>\n",
              "      <td>0</td>\n",
              "      <td>0</td>\n",
              "      <td>1</td>\n",
              "      <td>0</td>\n",
              "      <td>0</td>\n",
              "      <td>0</td>\n",
              "      <td>0</td>\n",
              "      <td>1</td>\n",
              "      <td>0</td>\n",
              "      <td>0</td>\n",
              "      <td>0</td>\n",
              "      <td>1</td>\n",
              "      <td>0</td>\n",
              "    </tr>\n",
              "    <tr>\n",
              "      <th>1</th>\n",
              "      <td>21.0</td>\n",
              "      <td>1.52</td>\n",
              "      <td>56.0</td>\n",
              "      <td>3.0</td>\n",
              "      <td>3.0</td>\n",
              "      <td>3.0</td>\n",
              "      <td>3.0</td>\n",
              "      <td>0.0</td>\n",
              "      <td>Normal_Weight</td>\n",
              "      <td>24.2382</td>\n",
              "      <td>True</td>\n",
              "      <td>True</td>\n",
              "      <td>False</td>\n",
              "      <td>True</td>\n",
              "      <td>True</td>\n",
              "      <td>0</td>\n",
              "      <td>0</td>\n",
              "      <td>1</td>\n",
              "      <td>0</td>\n",
              "      <td>0</td>\n",
              "      <td>0</td>\n",
              "      <td>1</td>\n",
              "      <td>0</td>\n",
              "      <td>0</td>\n",
              "      <td>0</td>\n",
              "      <td>0</td>\n",
              "      <td>1</td>\n",
              "      <td>0</td>\n",
              "    </tr>\n",
              "    <tr>\n",
              "      <th>2</th>\n",
              "      <td>23.0</td>\n",
              "      <td>1.80</td>\n",
              "      <td>77.0</td>\n",
              "      <td>2.0</td>\n",
              "      <td>3.0</td>\n",
              "      <td>2.0</td>\n",
              "      <td>2.0</td>\n",
              "      <td>1.0</td>\n",
              "      <td>Normal_Weight</td>\n",
              "      <td>23.7654</td>\n",
              "      <td>False</td>\n",
              "      <td>True</td>\n",
              "      <td>False</td>\n",
              "      <td>False</td>\n",
              "      <td>False</td>\n",
              "      <td>0</td>\n",
              "      <td>0</td>\n",
              "      <td>1</td>\n",
              "      <td>0</td>\n",
              "      <td>0</td>\n",
              "      <td>1</td>\n",
              "      <td>0</td>\n",
              "      <td>0</td>\n",
              "      <td>0</td>\n",
              "      <td>0</td>\n",
              "      <td>0</td>\n",
              "      <td>1</td>\n",
              "      <td>0</td>\n",
              "    </tr>\n",
              "    <tr>\n",
              "      <th>3</th>\n",
              "      <td>27.0</td>\n",
              "      <td>1.80</td>\n",
              "      <td>87.0</td>\n",
              "      <td>3.0</td>\n",
              "      <td>3.0</td>\n",
              "      <td>2.0</td>\n",
              "      <td>2.0</td>\n",
              "      <td>0.0</td>\n",
              "      <td>Overweight_Level_I</td>\n",
              "      <td>26.8519</td>\n",
              "      <td>False</td>\n",
              "      <td>False</td>\n",
              "      <td>False</td>\n",
              "      <td>False</td>\n",
              "      <td>False</td>\n",
              "      <td>0</td>\n",
              "      <td>0</td>\n",
              "      <td>1</td>\n",
              "      <td>0</td>\n",
              "      <td>0</td>\n",
              "      <td>1</td>\n",
              "      <td>0</td>\n",
              "      <td>0</td>\n",
              "      <td>0</td>\n",
              "      <td>0</td>\n",
              "      <td>0</td>\n",
              "      <td>0</td>\n",
              "      <td>1</td>\n",
              "    </tr>\n",
              "    <tr>\n",
              "      <th>4</th>\n",
              "      <td>22.0</td>\n",
              "      <td>1.78</td>\n",
              "      <td>89.8</td>\n",
              "      <td>2.0</td>\n",
              "      <td>1.0</td>\n",
              "      <td>2.0</td>\n",
              "      <td>0.0</td>\n",
              "      <td>0.0</td>\n",
              "      <td>Overweight_Level_II</td>\n",
              "      <td>28.3424</td>\n",
              "      <td>False</td>\n",
              "      <td>False</td>\n",
              "      <td>False</td>\n",
              "      <td>False</td>\n",
              "      <td>False</td>\n",
              "      <td>0</td>\n",
              "      <td>0</td>\n",
              "      <td>1</td>\n",
              "      <td>0</td>\n",
              "      <td>0</td>\n",
              "      <td>0</td>\n",
              "      <td>1</td>\n",
              "      <td>0</td>\n",
              "      <td>0</td>\n",
              "      <td>0</td>\n",
              "      <td>0</td>\n",
              "      <td>1</td>\n",
              "      <td>0</td>\n",
              "    </tr>\n",
              "  </tbody>\n",
              "</table>\n",
              "</div>\n",
              "      <button class=\"colab-df-convert\" onclick=\"convertToInteractive('df-a34343da-2bb3-40af-8a4d-5a5df87d7535')\"\n",
              "              title=\"Convert this dataframe to an interactive table.\"\n",
              "              style=\"display:none;\">\n",
              "        \n",
              "  <svg xmlns=\"http://www.w3.org/2000/svg\" height=\"24px\"viewBox=\"0 0 24 24\"\n",
              "       width=\"24px\">\n",
              "    <path d=\"M0 0h24v24H0V0z\" fill=\"none\"/>\n",
              "    <path d=\"M18.56 5.44l.94 2.06.94-2.06 2.06-.94-2.06-.94-.94-2.06-.94 2.06-2.06.94zm-11 1L8.5 8.5l.94-2.06 2.06-.94-2.06-.94L8.5 2.5l-.94 2.06-2.06.94zm10 10l.94 2.06.94-2.06 2.06-.94-2.06-.94-.94-2.06-.94 2.06-2.06.94z\"/><path d=\"M17.41 7.96l-1.37-1.37c-.4-.4-.92-.59-1.43-.59-.52 0-1.04.2-1.43.59L10.3 9.45l-7.72 7.72c-.78.78-.78 2.05 0 2.83L4 21.41c.39.39.9.59 1.41.59.51 0 1.02-.2 1.41-.59l7.78-7.78 2.81-2.81c.8-.78.8-2.07 0-2.86zM5.41 20L4 18.59l7.72-7.72 1.47 1.35L5.41 20z\"/>\n",
              "  </svg>\n",
              "      </button>\n",
              "      \n",
              "  <style>\n",
              "    .colab-df-container {\n",
              "      display:flex;\n",
              "      flex-wrap:wrap;\n",
              "      gap: 12px;\n",
              "    }\n",
              "\n",
              "    .colab-df-convert {\n",
              "      background-color: #E8F0FE;\n",
              "      border: none;\n",
              "      border-radius: 50%;\n",
              "      cursor: pointer;\n",
              "      display: none;\n",
              "      fill: #1967D2;\n",
              "      height: 32px;\n",
              "      padding: 0 0 0 0;\n",
              "      width: 32px;\n",
              "    }\n",
              "\n",
              "    .colab-df-convert:hover {\n",
              "      background-color: #E2EBFA;\n",
              "      box-shadow: 0px 1px 2px rgba(60, 64, 67, 0.3), 0px 1px 3px 1px rgba(60, 64, 67, 0.15);\n",
              "      fill: #174EA6;\n",
              "    }\n",
              "\n",
              "    [theme=dark] .colab-df-convert {\n",
              "      background-color: #3B4455;\n",
              "      fill: #D2E3FC;\n",
              "    }\n",
              "\n",
              "    [theme=dark] .colab-df-convert:hover {\n",
              "      background-color: #434B5C;\n",
              "      box-shadow: 0px 1px 3px 1px rgba(0, 0, 0, 0.15);\n",
              "      filter: drop-shadow(0px 1px 2px rgba(0, 0, 0, 0.3));\n",
              "      fill: #FFFFFF;\n",
              "    }\n",
              "  </style>\n",
              "\n",
              "      <script>\n",
              "        const buttonEl =\n",
              "          document.querySelector('#df-a34343da-2bb3-40af-8a4d-5a5df87d7535 button.colab-df-convert');\n",
              "        buttonEl.style.display =\n",
              "          google.colab.kernel.accessAllowed ? 'block' : 'none';\n",
              "\n",
              "        async function convertToInteractive(key) {\n",
              "          const element = document.querySelector('#df-a34343da-2bb3-40af-8a4d-5a5df87d7535');\n",
              "          const dataTable =\n",
              "            await google.colab.kernel.invokeFunction('convertToInteractive',\n",
              "                                                     [key], {});\n",
              "          if (!dataTable) return;\n",
              "\n",
              "          const docLinkHtml = 'Like what you see? Visit the ' +\n",
              "            '<a target=\"_blank\" href=https://colab.research.google.com/notebooks/data_table.ipynb>data table notebook</a>'\n",
              "            + ' to learn more about interactive tables.';\n",
              "          element.innerHTML = '';\n",
              "          dataTable['output_type'] = 'display_data';\n",
              "          await google.colab.output.renderOutput(dataTable, element);\n",
              "          const docLink = document.createElement('div');\n",
              "          docLink.innerHTML = docLinkHtml;\n",
              "          element.appendChild(docLink);\n",
              "        }\n",
              "      </script>\n",
              "    </div>\n",
              "  </div>\n",
              "  "
            ]
          },
          "metadata": {},
          "execution_count": 5
        }
      ]
    },
    {
      "cell_type": "markdown",
      "metadata": {
        "id": "iBWXogP_prIz"
      },
      "source": [
        "**División de datos de entrenamiento y test**"
      ]
    },
    {
      "cell_type": "code",
      "execution_count": 9,
      "metadata": {
        "id": "21_UF3vU2UOr"
      },
      "outputs": [],
      "source": [
        "#Separamos la data, en variables independientes (x) y dependientes (y), para poder entrenar el modelo de regresión\n",
        "X_train_val = dataset_imc_dummies.drop(['NObeyesdad'], axis=1)\n",
        "y_train_val = dataset_imc_dummies['NObeyesdad']"
      ]
    },
    {
      "cell_type": "markdown",
      "source": [
        "Debido al tamaño del conjunto de datos se decidió utilizar el 70\\% de los datos para el entrenamiento y el 30\\% para la validación."
      ],
      "metadata": {
        "id": "FRDShHLZ44ng"
      }
    },
    {
      "cell_type": "code",
      "execution_count": 10,
      "metadata": {
        "id": "2id7w0E6N88n"
      },
      "outputs": [],
      "source": [
        "# Dividimos la data en conjunto de \"entrenamiento\" y \"prueba\"\n",
        "X_train, X_val, y_train, y_val = train_test_split(X_train_val, y_train_val, test_size=0.3, random_state=0)"
      ]
    },
    {
      "cell_type": "code",
      "source": [
        "#Observamos el tamaño actual de los datos de entrenamiento y de validación.\n",
        "print(f\"Train shape: {X_train.shape}\")\n",
        "print(f\"Test shape: {X_val.shape}\")"
      ],
      "metadata": {
        "colab": {
          "base_uri": "https://localhost:8080/"
        },
        "id": "oHZgTHfy46w2",
        "outputId": "99729c74-de6e-44de-a408-08e2de7694ba"
      },
      "execution_count": 11,
      "outputs": [
        {
          "output_type": "stream",
          "name": "stdout",
          "text": [
            "Train shape: (1460, 27)\n",
            "Test shape: (627, 27)\n"
          ]
        }
      ]
    },
    {
      "cell_type": "markdown",
      "source": [
        "Decidimos utilizar el método **StandardScaler** para escalar los datos: siendo la media igual a 0 y la varianza igual a 1."
      ],
      "metadata": {
        "id": "qGLDsiTA6Se7"
      }
    },
    {
      "cell_type": "code",
      "source": [
        "# Se crea un objeto de la clase StandardScaler de la librería scikit-learn.\n",
        "scaler = StandardScaler()\n",
        "\n",
        "X_train_scal = scaler.fit_transform(X_train) #Escalar los datos de entrenamiento\n",
        "X_val_scal = scaler.fit_transform(X_val) #Escalar los datos de prueba"
      ],
      "metadata": {
        "id": "OehRhw1F6P16"
      },
      "execution_count": 12,
      "outputs": []
    },
    {
      "cell_type": "markdown",
      "source": [
        "### Modelo: SVM Cúbico"
      ],
      "metadata": {
        "id": "-hgYbMjt7OMn"
      }
    },
    {
      "cell_type": "code",
      "source": [
        "# Tomado de notebook trabajado en clase \"SVM - Ejercicio.ipynb\"\n",
        "from sklearn import svm\n",
        "#Importa la función accuracy_score del módulo sklearn.metrics, que se utilizará para calcular la precisión del modelo.\n",
        "from sklearn.metrics import accuracy_score\n",
        "\n",
        "# Crea una instancia del clasificador SVM utilizando el kernel cúbico.\n",
        "model = svm.SVC(kernel='poly', degree=3,C=0.0316, gamma=1)\n",
        "\n",
        "# Entrenamiento del clasificador\n",
        "model.fit(X_train_scal, y_train)\n",
        "\n",
        "# Realizar predicciones en el conjunto de prueba\n",
        "y_pred = model.predict(X_val_scal)\n",
        "\n",
        "#Realiza una validación cruzada de 10 divisiones utilizando el modelo SVM y los datos de entrenamiento escalados.\n",
        "cv = cross_val_score(estimator = model, X = X_train_scal, y = y_train, cv = 10)\n",
        "\n",
        "#Calcula la media de las puntuaciones de rendimiento obtenidas en la validación cruzada.\n",
        "cvForest = cv.mean()\n",
        "# Calcula la desviación estándar de las puntuaciones de rendimiento obtenidas en la validación cruzada.\n",
        "stdForest = cv.std()\n",
        "\n",
        "\n",
        "print(\"promedio Validación cruzada k=10: \", cvForest)\n",
        "print('Varianza de SVM Cúbico: ',stdForest)\n",
        "print ('Exactitud en el conjunto de entrenamiento: %0.4f' % model.score(X_train_scal, y_train))\n",
        "print ('Exactitud en el conjunto de validación: %0.4f' % model.score(X_val_scal, y_val))"
      ],
      "metadata": {
        "colab": {
          "base_uri": "https://localhost:8080/"
        },
        "id": "EC74OzGX7GOa",
        "outputId": "3e4af9dc-3e0d-4c65-9dc6-f94ccadd4d20"
      },
      "execution_count": 16,
      "outputs": [
        {
          "output_type": "stream",
          "name": "stdout",
          "text": [
            "promedio Validación cruzada k=10:  0.8958904109589041\n",
            "Varianza de SVM Cúbico:  0.013629964891871502\n",
            "Exactitud en el conjunto de entrenamiento: 1.0000\n",
            "Exactitud en el conjunto de validación: 0.8947\n"
          ]
        }
      ]
    },
    {
      "cell_type": "markdown",
      "source": [
        "Observamos un síntoma claro de sobreajuste (overfitting)."
      ],
      "metadata": {
        "id": "C8F9WLSW7hzf"
      }
    },
    {
      "cell_type": "markdown",
      "source": [
        "### Modelo: Random Forest con bagging"
      ],
      "metadata": {
        "id": "dHp7zehe5_DA"
      }
    },
    {
      "cell_type": "code",
      "source": [
        "from sklearn import svm\n",
        "from sklearn.metrics import accuracy_score\n",
        "from sklearn.ensemble import RandomForestClassifier\n",
        "\n",
        "# Crear una instancia del clasificador RandomForest\n",
        "model = RandomForestClassifier(oob_score = True, random_state=42)\n",
        "\n",
        "# Entrenar el clasificador\n",
        "model.fit(X_train_scal, y_train)\n",
        "\n",
        "# Realizar predicciones en el conjunto de prueba\n",
        "y_pred = model.predict(X_val_scal)\n",
        "\n",
        "cv = cross_val_score(estimator = model, X = X_train_scal, y = y_train, cv = 10) #metodo para obtener la precisión\n",
        "cvForest = cv.mean()\n",
        "stdForest = cv.std()\n",
        "\n",
        "print(\"promedio Validación cruzada k=10: \", cvForest)\n",
        "print('Varianza de Random Forest: ',stdForest)\n",
        "print ('Exactitud en el conjunto de entrenamiento: %0.4f' % model.score(X_train_scal, y_train))\n",
        "print ('Exactitud en el conjunto de validación: %0.4f' % model.score(X_val_scal, y_val))"
      ],
      "metadata": {
        "colab": {
          "base_uri": "https://localhost:8080/"
        },
        "id": "VCKEzp6-5rf4",
        "outputId": "0a8f58b8-c119-4701-a003-bb4bd6a3cbe3"
      },
      "execution_count": 13,
      "outputs": [
        {
          "output_type": "stream",
          "name": "stdout",
          "text": [
            "promedio Validación cruzada k=10:  0.9835616438356164\n",
            "Varianza de Random Forest:  0.0076270744696301475\n",
            "Exactitud en el conjunto de entrenamiento: 1.0000\n",
            "Exactitud en el conjunto de validación: 0.9697\n"
          ]
        }
      ]
    },
    {
      "cell_type": "markdown",
      "source": [
        "### Modelo: Redes neuronales"
      ],
      "metadata": {
        "id": "idHOk_eJ702u"
      }
    },
    {
      "cell_type": "code",
      "source": [
        "#Importación de librerias\n",
        "from sklearn import svm\n",
        "from sklearn.metrics import accuracy_score\n",
        "from sklearn.neural_network import MLPClassifier\n",
        "\n",
        "# Crear una instancia del clasificador MLPClassifier\n",
        "model = MLPClassifier(random_state=1, max_iter=300)\n",
        "\n",
        "# Entrenar el clasificador\n",
        "model.fit(X_train_scal, y_train)\n",
        "\n",
        "# Realizar predicciones en el conjunto de prueba\n",
        "y_pred = model.predict(X_val_scal)\n",
        "\n",
        "#metodo para obtener la precisión\n",
        "cv = cross_val_score(estimator = model, X = X_train_scal, y = y_train, cv = 10)\n",
        "cvForest = cv.mean()\n",
        "stdForest = cv.std()\n",
        "\n",
        "#Resultados\n",
        "print(\"promedio Validación cruzada k=10: \", cvForest)\n",
        "print('Varianza de Random Forest: ',stdForest)\n",
        "print ('Exactitud en el conjunto de entrenamiento: %0.4f' % model.score(X_train_scal, y_train))\n",
        "print ('Exactitud en el conjunto de validación: %0.4f' % model.score(X_val_scal, y_val))"
      ],
      "metadata": {
        "colab": {
          "base_uri": "https://localhost:8080/"
        },
        "id": "mWvVKk6r8glR",
        "outputId": "4961551c-6bb2-4668-930a-9ec6736a8009"
      },
      "execution_count": 18,
      "outputs": [
        {
          "output_type": "stream",
          "name": "stderr",
          "text": [
            "/usr/local/lib/python3.10/dist-packages/sklearn/neural_network/_multilayer_perceptron.py:686: ConvergenceWarning: Stochastic Optimizer: Maximum iterations (300) reached and the optimization hasn't converged yet.\n",
            "  warnings.warn(\n",
            "/usr/local/lib/python3.10/dist-packages/sklearn/neural_network/_multilayer_perceptron.py:686: ConvergenceWarning: Stochastic Optimizer: Maximum iterations (300) reached and the optimization hasn't converged yet.\n",
            "  warnings.warn(\n",
            "/usr/local/lib/python3.10/dist-packages/sklearn/neural_network/_multilayer_perceptron.py:686: ConvergenceWarning: Stochastic Optimizer: Maximum iterations (300) reached and the optimization hasn't converged yet.\n",
            "  warnings.warn(\n",
            "/usr/local/lib/python3.10/dist-packages/sklearn/neural_network/_multilayer_perceptron.py:686: ConvergenceWarning: Stochastic Optimizer: Maximum iterations (300) reached and the optimization hasn't converged yet.\n",
            "  warnings.warn(\n",
            "/usr/local/lib/python3.10/dist-packages/sklearn/neural_network/_multilayer_perceptron.py:686: ConvergenceWarning: Stochastic Optimizer: Maximum iterations (300) reached and the optimization hasn't converged yet.\n",
            "  warnings.warn(\n",
            "/usr/local/lib/python3.10/dist-packages/sklearn/neural_network/_multilayer_perceptron.py:686: ConvergenceWarning: Stochastic Optimizer: Maximum iterations (300) reached and the optimization hasn't converged yet.\n",
            "  warnings.warn(\n",
            "/usr/local/lib/python3.10/dist-packages/sklearn/neural_network/_multilayer_perceptron.py:686: ConvergenceWarning: Stochastic Optimizer: Maximum iterations (300) reached and the optimization hasn't converged yet.\n",
            "  warnings.warn(\n",
            "/usr/local/lib/python3.10/dist-packages/sklearn/neural_network/_multilayer_perceptron.py:686: ConvergenceWarning: Stochastic Optimizer: Maximum iterations (300) reached and the optimization hasn't converged yet.\n",
            "  warnings.warn(\n",
            "/usr/local/lib/python3.10/dist-packages/sklearn/neural_network/_multilayer_perceptron.py:686: ConvergenceWarning: Stochastic Optimizer: Maximum iterations (300) reached and the optimization hasn't converged yet.\n",
            "  warnings.warn(\n",
            "/usr/local/lib/python3.10/dist-packages/sklearn/neural_network/_multilayer_perceptron.py:686: ConvergenceWarning: Stochastic Optimizer: Maximum iterations (300) reached and the optimization hasn't converged yet.\n",
            "  warnings.warn(\n"
          ]
        },
        {
          "output_type": "stream",
          "name": "stdout",
          "text": [
            "promedio Validación cruzada k=10:  0.9287671232876713\n",
            "Varianza de Random Forest:  0.020132792406437075\n",
            "Exactitud en el conjunto de entrenamiento: 1.0000\n",
            "Exactitud en el conjunto de validación: 0.9155\n"
          ]
        },
        {
          "output_type": "stream",
          "name": "stderr",
          "text": [
            "/usr/local/lib/python3.10/dist-packages/sklearn/neural_network/_multilayer_perceptron.py:686: ConvergenceWarning: Stochastic Optimizer: Maximum iterations (300) reached and the optimization hasn't converged yet.\n",
            "  warnings.warn(\n"
          ]
        }
      ]
    },
    {
      "cell_type": "markdown",
      "source": [
        "**Conclusión**: Mejor modelo con Random Forest, con una exactitud en el conjunto de validación de **0.9697**"
      ],
      "metadata": {
        "id": "WFRT5e6H80T_"
      }
    },
    {
      "cell_type": "markdown",
      "source": [
        "## 2.2. Considerando la columna calculada: IMC y codificador: LabelEncoder."
      ],
      "metadata": {
        "id": "QpMby0pQ3r37"
      }
    },
    {
      "cell_type": "markdown",
      "source": [
        "Veamos las primeras 5 filas del conjunto de datos almacenado en la variable dataset."
      ],
      "metadata": {
        "id": "gTR6qj9S4BFx"
      }
    },
    {
      "cell_type": "code",
      "source": [
        "dataset_imc_labelenconder.head()"
      ],
      "metadata": {
        "colab": {
          "base_uri": "https://localhost:8080/",
          "height": 206
        },
        "outputId": "8d1c309a-e88c-4c28-e2c2-73fe0fce1d12",
        "id": "xIo9J3pK4HYq"
      },
      "execution_count": 28,
      "outputs": [
        {
          "output_type": "execute_result",
          "data": {
            "text/plain": [
              "   Gender   Age  Height  Weight  family_history_with_overweight  FAVC  FCVC  \\\n",
              "0       0  21.0    1.62    64.0                               1     0   2.0   \n",
              "1       0  21.0    1.52    56.0                               1     0   3.0   \n",
              "2       1  23.0    1.80    77.0                               1     0   2.0   \n",
              "3       1  27.0    1.80    87.0                               0     0   3.0   \n",
              "4       1  22.0    1.78    89.8                               0     0   2.0   \n",
              "\n",
              "   NCP  CAEC  SMOKE  CH2O  SCC  FAF  TUE  CALC  MTRANS  NObeyesdad      IMC  \n",
              "0  3.0     2      0   2.0    0  0.0  1.0     3       3           1  24.3865  \n",
              "1  3.0     2      1   3.0    1  3.0  0.0     2       3           1  24.2382  \n",
              "2  3.0     2      0   2.0    0  2.0  1.0     1       3           1  23.7654  \n",
              "3  3.0     2      0   2.0    0  2.0  0.0     1       4           5  26.8519  \n",
              "4  1.0     2      0   2.0    0  0.0  0.0     2       3           6  28.3424  "
            ],
            "text/html": [
              "\n",
              "  <div id=\"df-d7c4f9e4-320f-4c98-be0f-b981f064f5b9\">\n",
              "    <div class=\"colab-df-container\">\n",
              "      <div>\n",
              "<style scoped>\n",
              "    .dataframe tbody tr th:only-of-type {\n",
              "        vertical-align: middle;\n",
              "    }\n",
              "\n",
              "    .dataframe tbody tr th {\n",
              "        vertical-align: top;\n",
              "    }\n",
              "\n",
              "    .dataframe thead th {\n",
              "        text-align: right;\n",
              "    }\n",
              "</style>\n",
              "<table border=\"1\" class=\"dataframe\">\n",
              "  <thead>\n",
              "    <tr style=\"text-align: right;\">\n",
              "      <th></th>\n",
              "      <th>Gender</th>\n",
              "      <th>Age</th>\n",
              "      <th>Height</th>\n",
              "      <th>Weight</th>\n",
              "      <th>family_history_with_overweight</th>\n",
              "      <th>FAVC</th>\n",
              "      <th>FCVC</th>\n",
              "      <th>NCP</th>\n",
              "      <th>CAEC</th>\n",
              "      <th>SMOKE</th>\n",
              "      <th>CH2O</th>\n",
              "      <th>SCC</th>\n",
              "      <th>FAF</th>\n",
              "      <th>TUE</th>\n",
              "      <th>CALC</th>\n",
              "      <th>MTRANS</th>\n",
              "      <th>NObeyesdad</th>\n",
              "      <th>IMC</th>\n",
              "    </tr>\n",
              "  </thead>\n",
              "  <tbody>\n",
              "    <tr>\n",
              "      <th>0</th>\n",
              "      <td>0</td>\n",
              "      <td>21.0</td>\n",
              "      <td>1.62</td>\n",
              "      <td>64.0</td>\n",
              "      <td>1</td>\n",
              "      <td>0</td>\n",
              "      <td>2.0</td>\n",
              "      <td>3.0</td>\n",
              "      <td>2</td>\n",
              "      <td>0</td>\n",
              "      <td>2.0</td>\n",
              "      <td>0</td>\n",
              "      <td>0.0</td>\n",
              "      <td>1.0</td>\n",
              "      <td>3</td>\n",
              "      <td>3</td>\n",
              "      <td>1</td>\n",
              "      <td>24.3865</td>\n",
              "    </tr>\n",
              "    <tr>\n",
              "      <th>1</th>\n",
              "      <td>0</td>\n",
              "      <td>21.0</td>\n",
              "      <td>1.52</td>\n",
              "      <td>56.0</td>\n",
              "      <td>1</td>\n",
              "      <td>0</td>\n",
              "      <td>3.0</td>\n",
              "      <td>3.0</td>\n",
              "      <td>2</td>\n",
              "      <td>1</td>\n",
              "      <td>3.0</td>\n",
              "      <td>1</td>\n",
              "      <td>3.0</td>\n",
              "      <td>0.0</td>\n",
              "      <td>2</td>\n",
              "      <td>3</td>\n",
              "      <td>1</td>\n",
              "      <td>24.2382</td>\n",
              "    </tr>\n",
              "    <tr>\n",
              "      <th>2</th>\n",
              "      <td>1</td>\n",
              "      <td>23.0</td>\n",
              "      <td>1.80</td>\n",
              "      <td>77.0</td>\n",
              "      <td>1</td>\n",
              "      <td>0</td>\n",
              "      <td>2.0</td>\n",
              "      <td>3.0</td>\n",
              "      <td>2</td>\n",
              "      <td>0</td>\n",
              "      <td>2.0</td>\n",
              "      <td>0</td>\n",
              "      <td>2.0</td>\n",
              "      <td>1.0</td>\n",
              "      <td>1</td>\n",
              "      <td>3</td>\n",
              "      <td>1</td>\n",
              "      <td>23.7654</td>\n",
              "    </tr>\n",
              "    <tr>\n",
              "      <th>3</th>\n",
              "      <td>1</td>\n",
              "      <td>27.0</td>\n",
              "      <td>1.80</td>\n",
              "      <td>87.0</td>\n",
              "      <td>0</td>\n",
              "      <td>0</td>\n",
              "      <td>3.0</td>\n",
              "      <td>3.0</td>\n",
              "      <td>2</td>\n",
              "      <td>0</td>\n",
              "      <td>2.0</td>\n",
              "      <td>0</td>\n",
              "      <td>2.0</td>\n",
              "      <td>0.0</td>\n",
              "      <td>1</td>\n",
              "      <td>4</td>\n",
              "      <td>5</td>\n",
              "      <td>26.8519</td>\n",
              "    </tr>\n",
              "    <tr>\n",
              "      <th>4</th>\n",
              "      <td>1</td>\n",
              "      <td>22.0</td>\n",
              "      <td>1.78</td>\n",
              "      <td>89.8</td>\n",
              "      <td>0</td>\n",
              "      <td>0</td>\n",
              "      <td>2.0</td>\n",
              "      <td>1.0</td>\n",
              "      <td>2</td>\n",
              "      <td>0</td>\n",
              "      <td>2.0</td>\n",
              "      <td>0</td>\n",
              "      <td>0.0</td>\n",
              "      <td>0.0</td>\n",
              "      <td>2</td>\n",
              "      <td>3</td>\n",
              "      <td>6</td>\n",
              "      <td>28.3424</td>\n",
              "    </tr>\n",
              "  </tbody>\n",
              "</table>\n",
              "</div>\n",
              "      <button class=\"colab-df-convert\" onclick=\"convertToInteractive('df-d7c4f9e4-320f-4c98-be0f-b981f064f5b9')\"\n",
              "              title=\"Convert this dataframe to an interactive table.\"\n",
              "              style=\"display:none;\">\n",
              "        \n",
              "  <svg xmlns=\"http://www.w3.org/2000/svg\" height=\"24px\"viewBox=\"0 0 24 24\"\n",
              "       width=\"24px\">\n",
              "    <path d=\"M0 0h24v24H0V0z\" fill=\"none\"/>\n",
              "    <path d=\"M18.56 5.44l.94 2.06.94-2.06 2.06-.94-2.06-.94-.94-2.06-.94 2.06-2.06.94zm-11 1L8.5 8.5l.94-2.06 2.06-.94-2.06-.94L8.5 2.5l-.94 2.06-2.06.94zm10 10l.94 2.06.94-2.06 2.06-.94-2.06-.94-.94-2.06-.94 2.06-2.06.94z\"/><path d=\"M17.41 7.96l-1.37-1.37c-.4-.4-.92-.59-1.43-.59-.52 0-1.04.2-1.43.59L10.3 9.45l-7.72 7.72c-.78.78-.78 2.05 0 2.83L4 21.41c.39.39.9.59 1.41.59.51 0 1.02-.2 1.41-.59l7.78-7.78 2.81-2.81c.8-.78.8-2.07 0-2.86zM5.41 20L4 18.59l7.72-7.72 1.47 1.35L5.41 20z\"/>\n",
              "  </svg>\n",
              "      </button>\n",
              "      \n",
              "  <style>\n",
              "    .colab-df-container {\n",
              "      display:flex;\n",
              "      flex-wrap:wrap;\n",
              "      gap: 12px;\n",
              "    }\n",
              "\n",
              "    .colab-df-convert {\n",
              "      background-color: #E8F0FE;\n",
              "      border: none;\n",
              "      border-radius: 50%;\n",
              "      cursor: pointer;\n",
              "      display: none;\n",
              "      fill: #1967D2;\n",
              "      height: 32px;\n",
              "      padding: 0 0 0 0;\n",
              "      width: 32px;\n",
              "    }\n",
              "\n",
              "    .colab-df-convert:hover {\n",
              "      background-color: #E2EBFA;\n",
              "      box-shadow: 0px 1px 2px rgba(60, 64, 67, 0.3), 0px 1px 3px 1px rgba(60, 64, 67, 0.15);\n",
              "      fill: #174EA6;\n",
              "    }\n",
              "\n",
              "    [theme=dark] .colab-df-convert {\n",
              "      background-color: #3B4455;\n",
              "      fill: #D2E3FC;\n",
              "    }\n",
              "\n",
              "    [theme=dark] .colab-df-convert:hover {\n",
              "      background-color: #434B5C;\n",
              "      box-shadow: 0px 1px 3px 1px rgba(0, 0, 0, 0.15);\n",
              "      filter: drop-shadow(0px 1px 2px rgba(0, 0, 0, 0.3));\n",
              "      fill: #FFFFFF;\n",
              "    }\n",
              "  </style>\n",
              "\n",
              "      <script>\n",
              "        const buttonEl =\n",
              "          document.querySelector('#df-d7c4f9e4-320f-4c98-be0f-b981f064f5b9 button.colab-df-convert');\n",
              "        buttonEl.style.display =\n",
              "          google.colab.kernel.accessAllowed ? 'block' : 'none';\n",
              "\n",
              "        async function convertToInteractive(key) {\n",
              "          const element = document.querySelector('#df-d7c4f9e4-320f-4c98-be0f-b981f064f5b9');\n",
              "          const dataTable =\n",
              "            await google.colab.kernel.invokeFunction('convertToInteractive',\n",
              "                                                     [key], {});\n",
              "          if (!dataTable) return;\n",
              "\n",
              "          const docLinkHtml = 'Like what you see? Visit the ' +\n",
              "            '<a target=\"_blank\" href=https://colab.research.google.com/notebooks/data_table.ipynb>data table notebook</a>'\n",
              "            + ' to learn more about interactive tables.';\n",
              "          element.innerHTML = '';\n",
              "          dataTable['output_type'] = 'display_data';\n",
              "          await google.colab.output.renderOutput(dataTable, element);\n",
              "          const docLink = document.createElement('div');\n",
              "          docLink.innerHTML = docLinkHtml;\n",
              "          element.appendChild(docLink);\n",
              "        }\n",
              "      </script>\n",
              "    </div>\n",
              "  </div>\n",
              "  "
            ]
          },
          "metadata": {},
          "execution_count": 28
        }
      ]
    },
    {
      "cell_type": "markdown",
      "metadata": {
        "id": "bcz3yY0F9h1J"
      },
      "source": [
        "**División de datos de entrenamiento y test**"
      ]
    },
    {
      "cell_type": "code",
      "execution_count": 29,
      "metadata": {
        "id": "RDt1ljdr9h1J"
      },
      "outputs": [],
      "source": [
        "#Separamos la data, en variables independientes (x) y dependientes (y), para poder entrenar el modelo de regresión\n",
        "X_train_val = dataset_imc_labelenconder.drop(['NObeyesdad'], axis=1)\n",
        "y_train_val = dataset_imc_labelenconder['NObeyesdad']"
      ]
    },
    {
      "cell_type": "markdown",
      "source": [
        "Debido al tamaño del conjunto de datos se decidió utilizar el 70\\% de los datos para el entrenamiento y el 30\\% para la validación."
      ],
      "metadata": {
        "id": "4W8MQz3f9h1X"
      }
    },
    {
      "cell_type": "code",
      "execution_count": 30,
      "metadata": {
        "id": "Ro8RwQL39h1Y"
      },
      "outputs": [],
      "source": [
        "# Dividimos la data en conjunto de \"entrenamiento\" y \"prueba\"\n",
        "X_train, X_val, y_train, y_val = train_test_split(X_train_val, y_train_val, test_size=0.3, random_state=0)"
      ]
    },
    {
      "cell_type": "code",
      "source": [
        "#Observamos el tamaño actual de los datos de entrenamiento y de validación.\n",
        "print(f\"Train shape: {X_train.shape}\")\n",
        "print(f\"Test shape: {X_val.shape}\")"
      ],
      "metadata": {
        "colab": {
          "base_uri": "https://localhost:8080/"
        },
        "outputId": "a8829353-0f3d-4729-a71f-40acd74017f8",
        "id": "5g0IidU19h1Y"
      },
      "execution_count": 31,
      "outputs": [
        {
          "output_type": "stream",
          "name": "stdout",
          "text": [
            "Train shape: (1460, 17)\n",
            "Test shape: (627, 17)\n"
          ]
        }
      ]
    },
    {
      "cell_type": "markdown",
      "source": [
        "Decidimos utilizar el método **StandardScaler** para escalar los datos: siendo la media igual a 0 y la varianza igual a 1."
      ],
      "metadata": {
        "id": "V1xj81iK9h1Y"
      }
    },
    {
      "cell_type": "code",
      "source": [
        "# Se crea un objeto de la clase StandardScaler de la librería scikit-learn.\n",
        "scaler = StandardScaler()\n",
        "\n",
        "X_train_scal = scaler.fit_transform(X_train) #Escalar los datos de entrenamiento\n",
        "X_val_scal = scaler.fit_transform(X_val) #Escalar los datos de prueba"
      ],
      "metadata": {
        "id": "08GQD6hs9h1Y"
      },
      "execution_count": 32,
      "outputs": []
    },
    {
      "cell_type": "markdown",
      "source": [
        "### Modelo: SVM Cúbico"
      ],
      "metadata": {
        "id": "JymXEBV39h1Y"
      }
    },
    {
      "cell_type": "code",
      "source": [
        "# Tomado de notebook trabajado en clase \"SVM - Ejercicio.ipynb\"\n",
        "from sklearn import svm\n",
        "#Importa la función accuracy_score del módulo sklearn.metrics, que se utilizará para calcular la precisión del modelo.\n",
        "from sklearn.metrics import accuracy_score\n",
        "\n",
        "# Crea una instancia del clasificador SVM utilizando el kernel cúbico.\n",
        "model = svm.SVC(kernel='poly', degree=3,C=0.0316, gamma=1)\n",
        "\n",
        "# Entrenamiento del clasificador\n",
        "model.fit(X_train_scal, y_train)\n",
        "\n",
        "# Realizar predicciones en el conjunto de prueba\n",
        "y_pred = model.predict(X_val_scal)\n",
        "\n",
        "#Realiza una validación cruzada de 10 divisiones utilizando el modelo SVM y los datos de entrenamiento escalados.\n",
        "cv = cross_val_score(estimator = model, X = X_train_scal, y = y_train, cv = 10)\n",
        "\n",
        "#Calcula la media de las puntuaciones de rendimiento obtenidas en la validación cruzada.\n",
        "cvForest = cv.mean()\n",
        "# Calcula la desviación estándar de las puntuaciones de rendimiento obtenidas en la validación cruzada.\n",
        "stdForest = cv.std()\n",
        "\n",
        "\n",
        "print(\"promedio Validación cruzada k=10: \", cvForest)\n",
        "print('Varianza de SVM Cúbico: ',stdForest)\n",
        "print ('Exactitud en el conjunto de entrenamiento: %0.4f' % model.score(X_train_scal, y_train))\n",
        "print ('Exactitud en el conjunto de validación: %0.4f' % model.score(X_val_scal, y_val))"
      ],
      "metadata": {
        "colab": {
          "base_uri": "https://localhost:8080/"
        },
        "outputId": "a6900417-28c6-43e7-d6e4-36fc6b7cb5e3",
        "id": "UKya_nUx9h1Z"
      },
      "execution_count": 33,
      "outputs": [
        {
          "output_type": "stream",
          "name": "stdout",
          "text": [
            "promedio Validación cruzada k=10:  0.8965753424657533\n",
            "Varianza de SVM Cúbico:  0.02175668517023094\n",
            "Exactitud en el conjunto de entrenamiento: 1.0000\n",
            "Exactitud en el conjunto de validación: 0.9139\n"
          ]
        }
      ]
    },
    {
      "cell_type": "markdown",
      "source": [
        "Obtenemos una exactitud de **0.9139**"
      ],
      "metadata": {
        "id": "F2GYn0rY9h1Z"
      }
    },
    {
      "cell_type": "markdown",
      "source": [
        "### Modelo: Random Forest con bagging"
      ],
      "metadata": {
        "id": "TlFQa3wU9h1Z"
      }
    },
    {
      "cell_type": "code",
      "source": [
        "from sklearn import svm\n",
        "from sklearn.metrics import accuracy_score\n",
        "from sklearn.ensemble import RandomForestClassifier\n",
        "\n",
        "# Crear una instancia del clasificador RandomForest\n",
        "model = RandomForestClassifier(oob_score = True, random_state=42)\n",
        "\n",
        "# Entrenar el clasificador\n",
        "model.fit(X_train_scal, y_train)\n",
        "\n",
        "# Realizar predicciones en el conjunto de prueba\n",
        "y_pred = model.predict(X_val_scal)\n",
        "\n",
        "cv = cross_val_score(estimator = model, X = X_train_scal, y = y_train, cv = 10) #metodo para obtener la precisión\n",
        "cvForest = cv.mean()\n",
        "stdForest = cv.std()\n",
        "\n",
        "print(\"promedio Validación cruzada k=10: \", cvForest)\n",
        "print('Varianza de Random Forest: ',stdForest)\n",
        "print ('Exactitud en el conjunto de entrenamiento: %0.4f' % model.score(X_train_scal, y_train))\n",
        "print ('Exactitud en el conjunto de validación: %0.4f' % model.score(X_val_scal, y_val))"
      ],
      "metadata": {
        "colab": {
          "base_uri": "https://localhost:8080/"
        },
        "outputId": "c3aa5838-c097-4b8d-fb96-b4738e4dafaa",
        "id": "09uFxx2p9h1Z"
      },
      "execution_count": 34,
      "outputs": [
        {
          "output_type": "stream",
          "name": "stdout",
          "text": [
            "promedio Validación cruzada k=10:  0.986986301369863\n",
            "Varianza de Random Forest:  0.006461630912367524\n",
            "Exactitud en el conjunto de entrenamiento: 1.0000\n",
            "Exactitud en el conjunto de validación: 0.9617\n"
          ]
        }
      ]
    },
    {
      "cell_type": "markdown",
      "source": [
        "### Modelo: Redes neuronales"
      ],
      "metadata": {
        "id": "KGz_nio49h1Z"
      }
    },
    {
      "cell_type": "code",
      "source": [
        "#Importación de librerias\n",
        "from sklearn import svm\n",
        "from sklearn.metrics import accuracy_score\n",
        "from sklearn.neural_network import MLPClassifier\n",
        "\n",
        "# Crear una instancia del clasificador MLPClassifier\n",
        "model = MLPClassifier(random_state=1, max_iter=300)\n",
        "\n",
        "# Entrenar el clasificador\n",
        "model.fit(X_train_scal, y_train)\n",
        "\n",
        "# Realizar predicciones en el conjunto de prueba\n",
        "y_pred = model.predict(X_val_scal)\n",
        "\n",
        "#metodo para obtener la precisión\n",
        "cv = cross_val_score(estimator = model, X = X_train_scal, y = y_train, cv = 10)\n",
        "cvForest = cv.mean()\n",
        "stdForest = cv.std()\n",
        "\n",
        "#Resultados\n",
        "print(\"promedio Validación cruzada k=10: \", cvForest)\n",
        "print('Varianza de Random Forest: ',stdForest)\n",
        "print ('Exactitud en el conjunto de entrenamiento: %0.4f' % model.score(X_train_scal, y_train))\n",
        "print ('Exactitud en el conjunto de validación: %0.4f' % model.score(X_val_scal, y_val))"
      ],
      "metadata": {
        "colab": {
          "base_uri": "https://localhost:8080/"
        },
        "outputId": "69bd9216-525d-43c2-d53b-271ef69aaecc",
        "id": "r_svLZnW9h1Z"
      },
      "execution_count": 35,
      "outputs": [
        {
          "output_type": "stream",
          "name": "stderr",
          "text": [
            "/usr/local/lib/python3.10/dist-packages/sklearn/neural_network/_multilayer_perceptron.py:686: ConvergenceWarning: Stochastic Optimizer: Maximum iterations (300) reached and the optimization hasn't converged yet.\n",
            "  warnings.warn(\n",
            "/usr/local/lib/python3.10/dist-packages/sklearn/neural_network/_multilayer_perceptron.py:686: ConvergenceWarning: Stochastic Optimizer: Maximum iterations (300) reached and the optimization hasn't converged yet.\n",
            "  warnings.warn(\n",
            "/usr/local/lib/python3.10/dist-packages/sklearn/neural_network/_multilayer_perceptron.py:686: ConvergenceWarning: Stochastic Optimizer: Maximum iterations (300) reached and the optimization hasn't converged yet.\n",
            "  warnings.warn(\n",
            "/usr/local/lib/python3.10/dist-packages/sklearn/neural_network/_multilayer_perceptron.py:686: ConvergenceWarning: Stochastic Optimizer: Maximum iterations (300) reached and the optimization hasn't converged yet.\n",
            "  warnings.warn(\n",
            "/usr/local/lib/python3.10/dist-packages/sklearn/neural_network/_multilayer_perceptron.py:686: ConvergenceWarning: Stochastic Optimizer: Maximum iterations (300) reached and the optimization hasn't converged yet.\n",
            "  warnings.warn(\n",
            "/usr/local/lib/python3.10/dist-packages/sklearn/neural_network/_multilayer_perceptron.py:686: ConvergenceWarning: Stochastic Optimizer: Maximum iterations (300) reached and the optimization hasn't converged yet.\n",
            "  warnings.warn(\n",
            "/usr/local/lib/python3.10/dist-packages/sklearn/neural_network/_multilayer_perceptron.py:686: ConvergenceWarning: Stochastic Optimizer: Maximum iterations (300) reached and the optimization hasn't converged yet.\n",
            "  warnings.warn(\n",
            "/usr/local/lib/python3.10/dist-packages/sklearn/neural_network/_multilayer_perceptron.py:686: ConvergenceWarning: Stochastic Optimizer: Maximum iterations (300) reached and the optimization hasn't converged yet.\n",
            "  warnings.warn(\n",
            "/usr/local/lib/python3.10/dist-packages/sklearn/neural_network/_multilayer_perceptron.py:686: ConvergenceWarning: Stochastic Optimizer: Maximum iterations (300) reached and the optimization hasn't converged yet.\n",
            "  warnings.warn(\n",
            "/usr/local/lib/python3.10/dist-packages/sklearn/neural_network/_multilayer_perceptron.py:686: ConvergenceWarning: Stochastic Optimizer: Maximum iterations (300) reached and the optimization hasn't converged yet.\n",
            "  warnings.warn(\n"
          ]
        },
        {
          "output_type": "stream",
          "name": "stdout",
          "text": [
            "promedio Validación cruzada k=10:  0.9260273972602739\n",
            "Varianza de Random Forest:  0.014943441252925634\n",
            "Exactitud en el conjunto de entrenamiento: 1.0000\n",
            "Exactitud en el conjunto de validación: 0.9378\n"
          ]
        },
        {
          "output_type": "stream",
          "name": "stderr",
          "text": [
            "/usr/local/lib/python3.10/dist-packages/sklearn/neural_network/_multilayer_perceptron.py:686: ConvergenceWarning: Stochastic Optimizer: Maximum iterations (300) reached and the optimization hasn't converged yet.\n",
            "  warnings.warn(\n"
          ]
        }
      ]
    },
    {
      "cell_type": "markdown",
      "source": [
        "### Ensamble por votación manual"
      ],
      "metadata": {
        "id": "oXQvE3rB-uee"
      }
    },
    {
      "cell_type": "code",
      "source": [
        "#Importación de bibliotecas y clasificadores\n",
        "from sklearn.tree import DecisionTreeClassifier\n",
        "from sklearn.neighbors import KNeighborsClassifier\n",
        "from sklearn.ensemble import RandomForestClassifier\n",
        "from sklearn.svm import SVC\n",
        "from sklearn.ensemble import VotingClassifier\n",
        "from sklearn.pipeline import make_pipeline\n",
        "from sklearn.preprocessing import StandardScaler\n",
        "from sklearn import svm\n",
        "\n",
        "# Crear  instancias para todos los siguientes clasificadores\n",
        "estimators = [\n",
        "     ('Random Forest', make_pipeline(StandardScaler(), RandomForestClassifier(oob_score = True, random_state=42))),\n",
        "     ('SVM Cubic', make_pipeline(StandardScaler(),svm.SVC(kernel='poly', degree=3,C=10, gamma=50,probability=True))),\n",
        "\n",
        "     ('árbol de decisión', DecisionTreeClassifier(max_depth=4)),\n",
        "     ('k-NN', make_pipeline(StandardScaler(),\n",
        "                            KNeighborsClassifier(n_neighbors=7) )),\n",
        "     ('SVM de kernel gaussiano', make_pipeline(StandardScaler(),\n",
        "                                               SVC(kernel='rbf', probability=True) ))\n",
        "]\n",
        "\n",
        "#Definición del ensamble\n",
        "ensamble = VotingClassifier(estimators=estimators,\n",
        "                        voting='soft', weights=[3,2,2, 1, 2])\n",
        "\n",
        "#Ajuste del ensamble\n",
        "ensamble.fit(X_train, y_train)\n",
        "\n",
        "for (name, estimator) in ensamble.named_estimators_.items():\n",
        "  print(f'Exactitud de {name: <25}: Entrenamiento {estimator.score(X_train, y_train):.03f} || Pruebas {estimator.score(X_val, y_val):.03f}',  )\n",
        "\n",
        "print(f'Exactitud de {\"ensamble\": <25}: Entrenamiento {ensamble.score(X_train, y_train):.03f} || Validación {ensamble.score(X_val, y_val):.03f}' )"
      ],
      "metadata": {
        "colab": {
          "base_uri": "https://localhost:8080/"
        },
        "id": "cxl8AbOV7rDI",
        "outputId": "01707b96-fa46-4502-93c4-e28b72c50a59"
      },
      "execution_count": 36,
      "outputs": [
        {
          "output_type": "stream",
          "name": "stdout",
          "text": [
            "Exactitud de Random Forest            : Entrenamiento 1.000 || Pruebas 0.994\n",
            "Exactitud de SVM Cubic                : Entrenamiento 1.000 || Pruebas 0.917\n",
            "Exactitud de árbol de decisión        : Entrenamiento 0.977 || Pruebas 0.974\n",
            "Exactitud de k-NN                     : Entrenamiento 0.846 || Pruebas 0.842\n",
            "Exactitud de SVM de kernel gaussiano  : Entrenamiento 0.964 || Pruebas 0.914\n",
            "Exactitud de ensamble                 : Entrenamiento 0.999 || Validación 0.984\n"
          ]
        }
      ]
    },
    {
      "cell_type": "markdown",
      "source": [
        "**Conclusión**: Mejor modelo con Ensamble por votación manual, con una exactitud en el conjunto de validación de **0.984**"
      ],
      "metadata": {
        "id": "3F-Siwhi9h1Z"
      }
    },
    {
      "cell_type": "markdown",
      "source": [
        "## 2.3. Sin considerar la columna calculada: IMC y codificador: dummies."
      ],
      "metadata": {
        "id": "R0CTNBKn3tDh"
      }
    },
    {
      "cell_type": "markdown",
      "source": [
        "Veamos las primeras 5 filas del conjunto de datos almacenado en la variable dataset."
      ],
      "metadata": {
        "id": "xGTXpt2e4BrN"
      }
    },
    {
      "cell_type": "code",
      "source": [
        "dataset_sinimc_dummies.head()"
      ],
      "metadata": {
        "colab": {
          "base_uri": "https://localhost:8080/",
          "height": 270
        },
        "outputId": "572dd85e-7037-4dc7-c409-f1abdf886fad",
        "id": "06DFyOsR4IHo"
      },
      "execution_count": 37,
      "outputs": [
        {
          "output_type": "execute_result",
          "data": {
            "text/plain": [
              "    Age  Height  Weight  FCVC  NCP  CH2O  FAF  TUE           NObeyesdad  \\\n",
              "0  21.0    1.62    64.0   2.0  3.0   2.0  0.0  1.0        Normal_Weight   \n",
              "1  21.0    1.52    56.0   3.0  3.0   3.0  3.0  0.0        Normal_Weight   \n",
              "2  23.0    1.80    77.0   2.0  3.0   2.0  2.0  1.0        Normal_Weight   \n",
              "3  27.0    1.80    87.0   3.0  3.0   2.0  2.0  0.0   Overweight_Level_I   \n",
              "4  22.0    1.78    89.8   2.0  1.0   2.0  0.0  0.0  Overweight_Level_II   \n",
              "\n",
              "   EsMujer  History_Family  FAVC_DU  SMOKE_DU  SCC_DU  CAEC_Always  \\\n",
              "0     True            True    False     False   False            0   \n",
              "1     True            True    False      True    True            0   \n",
              "2    False            True    False     False   False            0   \n",
              "3    False           False    False     False   False            0   \n",
              "4    False           False    False     False   False            0   \n",
              "\n",
              "   CAEC_Frequently  CAEC_Sometimes  CAEC_no  CALC_Always  CALC_Frequently  \\\n",
              "0                0               1        0            0                0   \n",
              "1                0               1        0            0                0   \n",
              "2                0               1        0            0                1   \n",
              "3                0               1        0            0                1   \n",
              "4                0               1        0            0                0   \n",
              "\n",
              "   CALC_Sometimes  CALC_no  MTRANS_Automobile  MTRANS_Bike  MTRANS_Motorbike  \\\n",
              "0               0        1                  0            0                 0   \n",
              "1               1        0                  0            0                 0   \n",
              "2               0        0                  0            0                 0   \n",
              "3               0        0                  0            0                 0   \n",
              "4               1        0                  0            0                 0   \n",
              "\n",
              "   MTRANS_Public_Transportation  MTRANS_Walking  \n",
              "0                             1               0  \n",
              "1                             1               0  \n",
              "2                             1               0  \n",
              "3                             0               1  \n",
              "4                             1               0  "
            ],
            "text/html": [
              "\n",
              "  <div id=\"df-a176178c-4b03-48c0-bae3-4bd9498424e3\">\n",
              "    <div class=\"colab-df-container\">\n",
              "      <div>\n",
              "<style scoped>\n",
              "    .dataframe tbody tr th:only-of-type {\n",
              "        vertical-align: middle;\n",
              "    }\n",
              "\n",
              "    .dataframe tbody tr th {\n",
              "        vertical-align: top;\n",
              "    }\n",
              "\n",
              "    .dataframe thead th {\n",
              "        text-align: right;\n",
              "    }\n",
              "</style>\n",
              "<table border=\"1\" class=\"dataframe\">\n",
              "  <thead>\n",
              "    <tr style=\"text-align: right;\">\n",
              "      <th></th>\n",
              "      <th>Age</th>\n",
              "      <th>Height</th>\n",
              "      <th>Weight</th>\n",
              "      <th>FCVC</th>\n",
              "      <th>NCP</th>\n",
              "      <th>CH2O</th>\n",
              "      <th>FAF</th>\n",
              "      <th>TUE</th>\n",
              "      <th>NObeyesdad</th>\n",
              "      <th>EsMujer</th>\n",
              "      <th>History_Family</th>\n",
              "      <th>FAVC_DU</th>\n",
              "      <th>SMOKE_DU</th>\n",
              "      <th>SCC_DU</th>\n",
              "      <th>CAEC_Always</th>\n",
              "      <th>CAEC_Frequently</th>\n",
              "      <th>CAEC_Sometimes</th>\n",
              "      <th>CAEC_no</th>\n",
              "      <th>CALC_Always</th>\n",
              "      <th>CALC_Frequently</th>\n",
              "      <th>CALC_Sometimes</th>\n",
              "      <th>CALC_no</th>\n",
              "      <th>MTRANS_Automobile</th>\n",
              "      <th>MTRANS_Bike</th>\n",
              "      <th>MTRANS_Motorbike</th>\n",
              "      <th>MTRANS_Public_Transportation</th>\n",
              "      <th>MTRANS_Walking</th>\n",
              "    </tr>\n",
              "  </thead>\n",
              "  <tbody>\n",
              "    <tr>\n",
              "      <th>0</th>\n",
              "      <td>21.0</td>\n",
              "      <td>1.62</td>\n",
              "      <td>64.0</td>\n",
              "      <td>2.0</td>\n",
              "      <td>3.0</td>\n",
              "      <td>2.0</td>\n",
              "      <td>0.0</td>\n",
              "      <td>1.0</td>\n",
              "      <td>Normal_Weight</td>\n",
              "      <td>True</td>\n",
              "      <td>True</td>\n",
              "      <td>False</td>\n",
              "      <td>False</td>\n",
              "      <td>False</td>\n",
              "      <td>0</td>\n",
              "      <td>0</td>\n",
              "      <td>1</td>\n",
              "      <td>0</td>\n",
              "      <td>0</td>\n",
              "      <td>0</td>\n",
              "      <td>0</td>\n",
              "      <td>1</td>\n",
              "      <td>0</td>\n",
              "      <td>0</td>\n",
              "      <td>0</td>\n",
              "      <td>1</td>\n",
              "      <td>0</td>\n",
              "    </tr>\n",
              "    <tr>\n",
              "      <th>1</th>\n",
              "      <td>21.0</td>\n",
              "      <td>1.52</td>\n",
              "      <td>56.0</td>\n",
              "      <td>3.0</td>\n",
              "      <td>3.0</td>\n",
              "      <td>3.0</td>\n",
              "      <td>3.0</td>\n",
              "      <td>0.0</td>\n",
              "      <td>Normal_Weight</td>\n",
              "      <td>True</td>\n",
              "      <td>True</td>\n",
              "      <td>False</td>\n",
              "      <td>True</td>\n",
              "      <td>True</td>\n",
              "      <td>0</td>\n",
              "      <td>0</td>\n",
              "      <td>1</td>\n",
              "      <td>0</td>\n",
              "      <td>0</td>\n",
              "      <td>0</td>\n",
              "      <td>1</td>\n",
              "      <td>0</td>\n",
              "      <td>0</td>\n",
              "      <td>0</td>\n",
              "      <td>0</td>\n",
              "      <td>1</td>\n",
              "      <td>0</td>\n",
              "    </tr>\n",
              "    <tr>\n",
              "      <th>2</th>\n",
              "      <td>23.0</td>\n",
              "      <td>1.80</td>\n",
              "      <td>77.0</td>\n",
              "      <td>2.0</td>\n",
              "      <td>3.0</td>\n",
              "      <td>2.0</td>\n",
              "      <td>2.0</td>\n",
              "      <td>1.0</td>\n",
              "      <td>Normal_Weight</td>\n",
              "      <td>False</td>\n",
              "      <td>True</td>\n",
              "      <td>False</td>\n",
              "      <td>False</td>\n",
              "      <td>False</td>\n",
              "      <td>0</td>\n",
              "      <td>0</td>\n",
              "      <td>1</td>\n",
              "      <td>0</td>\n",
              "      <td>0</td>\n",
              "      <td>1</td>\n",
              "      <td>0</td>\n",
              "      <td>0</td>\n",
              "      <td>0</td>\n",
              "      <td>0</td>\n",
              "      <td>0</td>\n",
              "      <td>1</td>\n",
              "      <td>0</td>\n",
              "    </tr>\n",
              "    <tr>\n",
              "      <th>3</th>\n",
              "      <td>27.0</td>\n",
              "      <td>1.80</td>\n",
              "      <td>87.0</td>\n",
              "      <td>3.0</td>\n",
              "      <td>3.0</td>\n",
              "      <td>2.0</td>\n",
              "      <td>2.0</td>\n",
              "      <td>0.0</td>\n",
              "      <td>Overweight_Level_I</td>\n",
              "      <td>False</td>\n",
              "      <td>False</td>\n",
              "      <td>False</td>\n",
              "      <td>False</td>\n",
              "      <td>False</td>\n",
              "      <td>0</td>\n",
              "      <td>0</td>\n",
              "      <td>1</td>\n",
              "      <td>0</td>\n",
              "      <td>0</td>\n",
              "      <td>1</td>\n",
              "      <td>0</td>\n",
              "      <td>0</td>\n",
              "      <td>0</td>\n",
              "      <td>0</td>\n",
              "      <td>0</td>\n",
              "      <td>0</td>\n",
              "      <td>1</td>\n",
              "    </tr>\n",
              "    <tr>\n",
              "      <th>4</th>\n",
              "      <td>22.0</td>\n",
              "      <td>1.78</td>\n",
              "      <td>89.8</td>\n",
              "      <td>2.0</td>\n",
              "      <td>1.0</td>\n",
              "      <td>2.0</td>\n",
              "      <td>0.0</td>\n",
              "      <td>0.0</td>\n",
              "      <td>Overweight_Level_II</td>\n",
              "      <td>False</td>\n",
              "      <td>False</td>\n",
              "      <td>False</td>\n",
              "      <td>False</td>\n",
              "      <td>False</td>\n",
              "      <td>0</td>\n",
              "      <td>0</td>\n",
              "      <td>1</td>\n",
              "      <td>0</td>\n",
              "      <td>0</td>\n",
              "      <td>0</td>\n",
              "      <td>1</td>\n",
              "      <td>0</td>\n",
              "      <td>0</td>\n",
              "      <td>0</td>\n",
              "      <td>0</td>\n",
              "      <td>1</td>\n",
              "      <td>0</td>\n",
              "    </tr>\n",
              "  </tbody>\n",
              "</table>\n",
              "</div>\n",
              "      <button class=\"colab-df-convert\" onclick=\"convertToInteractive('df-a176178c-4b03-48c0-bae3-4bd9498424e3')\"\n",
              "              title=\"Convert this dataframe to an interactive table.\"\n",
              "              style=\"display:none;\">\n",
              "        \n",
              "  <svg xmlns=\"http://www.w3.org/2000/svg\" height=\"24px\"viewBox=\"0 0 24 24\"\n",
              "       width=\"24px\">\n",
              "    <path d=\"M0 0h24v24H0V0z\" fill=\"none\"/>\n",
              "    <path d=\"M18.56 5.44l.94 2.06.94-2.06 2.06-.94-2.06-.94-.94-2.06-.94 2.06-2.06.94zm-11 1L8.5 8.5l.94-2.06 2.06-.94-2.06-.94L8.5 2.5l-.94 2.06-2.06.94zm10 10l.94 2.06.94-2.06 2.06-.94-2.06-.94-.94-2.06-.94 2.06-2.06.94z\"/><path d=\"M17.41 7.96l-1.37-1.37c-.4-.4-.92-.59-1.43-.59-.52 0-1.04.2-1.43.59L10.3 9.45l-7.72 7.72c-.78.78-.78 2.05 0 2.83L4 21.41c.39.39.9.59 1.41.59.51 0 1.02-.2 1.41-.59l7.78-7.78 2.81-2.81c.8-.78.8-2.07 0-2.86zM5.41 20L4 18.59l7.72-7.72 1.47 1.35L5.41 20z\"/>\n",
              "  </svg>\n",
              "      </button>\n",
              "      \n",
              "  <style>\n",
              "    .colab-df-container {\n",
              "      display:flex;\n",
              "      flex-wrap:wrap;\n",
              "      gap: 12px;\n",
              "    }\n",
              "\n",
              "    .colab-df-convert {\n",
              "      background-color: #E8F0FE;\n",
              "      border: none;\n",
              "      border-radius: 50%;\n",
              "      cursor: pointer;\n",
              "      display: none;\n",
              "      fill: #1967D2;\n",
              "      height: 32px;\n",
              "      padding: 0 0 0 0;\n",
              "      width: 32px;\n",
              "    }\n",
              "\n",
              "    .colab-df-convert:hover {\n",
              "      background-color: #E2EBFA;\n",
              "      box-shadow: 0px 1px 2px rgba(60, 64, 67, 0.3), 0px 1px 3px 1px rgba(60, 64, 67, 0.15);\n",
              "      fill: #174EA6;\n",
              "    }\n",
              "\n",
              "    [theme=dark] .colab-df-convert {\n",
              "      background-color: #3B4455;\n",
              "      fill: #D2E3FC;\n",
              "    }\n",
              "\n",
              "    [theme=dark] .colab-df-convert:hover {\n",
              "      background-color: #434B5C;\n",
              "      box-shadow: 0px 1px 3px 1px rgba(0, 0, 0, 0.15);\n",
              "      filter: drop-shadow(0px 1px 2px rgba(0, 0, 0, 0.3));\n",
              "      fill: #FFFFFF;\n",
              "    }\n",
              "  </style>\n",
              "\n",
              "      <script>\n",
              "        const buttonEl =\n",
              "          document.querySelector('#df-a176178c-4b03-48c0-bae3-4bd9498424e3 button.colab-df-convert');\n",
              "        buttonEl.style.display =\n",
              "          google.colab.kernel.accessAllowed ? 'block' : 'none';\n",
              "\n",
              "        async function convertToInteractive(key) {\n",
              "          const element = document.querySelector('#df-a176178c-4b03-48c0-bae3-4bd9498424e3');\n",
              "          const dataTable =\n",
              "            await google.colab.kernel.invokeFunction('convertToInteractive',\n",
              "                                                     [key], {});\n",
              "          if (!dataTable) return;\n",
              "\n",
              "          const docLinkHtml = 'Like what you see? Visit the ' +\n",
              "            '<a target=\"_blank\" href=https://colab.research.google.com/notebooks/data_table.ipynb>data table notebook</a>'\n",
              "            + ' to learn more about interactive tables.';\n",
              "          element.innerHTML = '';\n",
              "          dataTable['output_type'] = 'display_data';\n",
              "          await google.colab.output.renderOutput(dataTable, element);\n",
              "          const docLink = document.createElement('div');\n",
              "          docLink.innerHTML = docLinkHtml;\n",
              "          element.appendChild(docLink);\n",
              "        }\n",
              "      </script>\n",
              "    </div>\n",
              "  </div>\n",
              "  "
            ]
          },
          "metadata": {},
          "execution_count": 37
        }
      ]
    },
    {
      "cell_type": "markdown",
      "metadata": {
        "id": "wow3O64u_wsK"
      },
      "source": [
        "**División de datos de entrenamiento y test**"
      ]
    },
    {
      "cell_type": "code",
      "execution_count": 38,
      "metadata": {
        "id": "4otd01I__wsT"
      },
      "outputs": [],
      "source": [
        "#Separamos la data, en variables independientes (x) y dependientes (y), para poder entrenar el modelo de regresión\n",
        "X_train_val = dataset_sinimc_dummies.drop(['NObeyesdad'], axis=1)\n",
        "y_train_val = dataset_sinimc_dummies['NObeyesdad']"
      ]
    },
    {
      "cell_type": "markdown",
      "source": [
        "Debido al tamaño del conjunto de datos se decidió utilizar el 70\\% de los datos para el entrenamiento y el 30\\% para la validación."
      ],
      "metadata": {
        "id": "qlK90PgK_wsU"
      }
    },
    {
      "cell_type": "code",
      "execution_count": 39,
      "metadata": {
        "id": "hOxwi4sT_wsU"
      },
      "outputs": [],
      "source": [
        "# Dividimos la data en conjunto de \"entrenamiento\" y \"prueba\"\n",
        "X_train, X_val, y_train, y_val = train_test_split(X_train_val, y_train_val, test_size=0.3, random_state=0)"
      ]
    },
    {
      "cell_type": "code",
      "source": [
        "#Observamos el tamaño actual de los datos de entrenamiento y de validación.\n",
        "print(f\"Train shape: {X_train.shape}\")\n",
        "print(f\"Test shape: {X_val.shape}\")"
      ],
      "metadata": {
        "colab": {
          "base_uri": "https://localhost:8080/"
        },
        "outputId": "f47e70e3-d9d4-43be-f2b7-3978be699164",
        "id": "Gh7WbXHf_wsU"
      },
      "execution_count": 40,
      "outputs": [
        {
          "output_type": "stream",
          "name": "stdout",
          "text": [
            "Train shape: (1460, 26)\n",
            "Test shape: (627, 26)\n"
          ]
        }
      ]
    },
    {
      "cell_type": "markdown",
      "source": [
        "Decidimos utilizar el método **StandardScaler** para escalar los datos: siendo la media igual a 0 y la varianza igual a 1."
      ],
      "metadata": {
        "id": "Szf3wByO_wsU"
      }
    },
    {
      "cell_type": "code",
      "source": [
        "# Se crea un objeto de la clase StandardScaler de la librería scikit-learn.\n",
        "scaler = StandardScaler()\n",
        "\n",
        "X_train_scal = scaler.fit_transform(X_train) #Escalar los datos de entrenamiento\n",
        "X_val_scal = scaler.fit_transform(X_val) #Escalar los datos de prueba"
      ],
      "metadata": {
        "id": "OBPcOe0T_wsV"
      },
      "execution_count": 41,
      "outputs": []
    },
    {
      "cell_type": "markdown",
      "source": [
        "### Modelo: SVM Cúbico"
      ],
      "metadata": {
        "id": "fVTi8z1S_wsV"
      }
    },
    {
      "cell_type": "code",
      "source": [
        "# Tomado de notebook trabajado en clase \"SVM - Ejercicio.ipynb\"\n",
        "from sklearn import svm\n",
        "#Importa la función accuracy_score del módulo sklearn.metrics, que se utilizará para calcular la precisión del modelo.\n",
        "from sklearn.metrics import accuracy_score\n",
        "\n",
        "# Crea una instancia del clasificador SVM utilizando el kernel cúbico.\n",
        "model = svm.SVC(kernel='poly', degree=3,C=0.0316, gamma=1)\n",
        "\n",
        "# Entrenamiento del clasificador\n",
        "model.fit(X_train_scal, y_train)\n",
        "\n",
        "# Realizar predicciones en el conjunto de prueba\n",
        "y_pred = model.predict(X_val_scal)\n",
        "\n",
        "#Realiza una validación cruzada de 10 divisiones utilizando el modelo SVM y los datos de entrenamiento escalados.\n",
        "cv = cross_val_score(estimator = model, X = X_train_scal, y = y_train, cv = 10)\n",
        "\n",
        "#Calcula la media de las puntuaciones de rendimiento obtenidas en la validación cruzada.\n",
        "cvForest = cv.mean()\n",
        "# Calcula la desviación estándar de las puntuaciones de rendimiento obtenidas en la validación cruzada.\n",
        "stdForest = cv.std()\n",
        "\n",
        "\n",
        "print(\"promedio Validación cruzada k=10: \", cvForest)\n",
        "print('Varianza de SVM Cúbico: ',stdForest)\n",
        "print ('Exactitud en el conjunto de entrenamiento: %0.4f' % model.score(X_train_scal, y_train))\n",
        "print ('Exactitud en el conjunto de validación: %0.4f' % model.score(X_val_scal, y_val))"
      ],
      "metadata": {
        "colab": {
          "base_uri": "https://localhost:8080/"
        },
        "outputId": "59507098-4f94-4bef-fbe6-ab4be0d5f581",
        "id": "b_ZMTaZy_wsV"
      },
      "execution_count": 42,
      "outputs": [
        {
          "output_type": "stream",
          "name": "stdout",
          "text": [
            "promedio Validación cruzada k=10:  0.8691780821917808\n",
            "Varianza de SVM Cúbico:  0.015753424657534244\n",
            "Exactitud en el conjunto de entrenamiento: 1.0000\n",
            "Exactitud en el conjunto de validación: 0.8517\n"
          ]
        }
      ]
    },
    {
      "cell_type": "markdown",
      "source": [
        "Observamos un síntoma claro de sobreajuste (overfitting)."
      ],
      "metadata": {
        "id": "zSzuagZF_wsV"
      }
    },
    {
      "cell_type": "markdown",
      "source": [
        "### Modelo: Random Forest con bagging"
      ],
      "metadata": {
        "id": "nh_cXf8w_wsV"
      }
    },
    {
      "cell_type": "code",
      "source": [
        "from sklearn import svm\n",
        "from sklearn.metrics import accuracy_score\n",
        "from sklearn.ensemble import RandomForestClassifier\n",
        "\n",
        "# Crear una instancia del clasificador RandomForest\n",
        "model = RandomForestClassifier(oob_score = True, random_state=42)\n",
        "\n",
        "# Entrenar el clasificador\n",
        "model.fit(X_train_scal, y_train)\n",
        "\n",
        "# Realizar predicciones en el conjunto de prueba\n",
        "y_pred = model.predict(X_val_scal)\n",
        "\n",
        "cv = cross_val_score(estimator = model, X = X_train_scal, y = y_train, cv = 10) #metodo para obtener la precisión\n",
        "cvForest = cv.mean()\n",
        "stdForest = cv.std()\n",
        "\n",
        "print(\"promedio Validación cruzada k=10: \", cvForest)\n",
        "print('Varianza de Random Forest: ',stdForest)\n",
        "print ('Exactitud en el conjunto de entrenamiento: %0.4f' % model.score(X_train_scal, y_train))\n",
        "print ('Exactitud en el conjunto de validación: %0.4f' % model.score(X_val_scal, y_val))"
      ],
      "metadata": {
        "colab": {
          "base_uri": "https://localhost:8080/"
        },
        "outputId": "676bb28b-2478-477e-fc62-1cc46400a749",
        "id": "L-_Odvx1_wsW"
      },
      "execution_count": 43,
      "outputs": [
        {
          "output_type": "stream",
          "name": "stdout",
          "text": [
            "promedio Validación cruzada k=10:  0.9417808219178083\n",
            "Varianza de Random Forest:  0.019190309213865626\n",
            "Exactitud en el conjunto de entrenamiento: 1.0000\n",
            "Exactitud en el conjunto de validación: 0.9330\n"
          ]
        }
      ]
    },
    {
      "cell_type": "markdown",
      "source": [
        "Con Random Forest se obtiene una exactitud en el conjunto de validación de **0.9330**"
      ],
      "metadata": {
        "id": "WnfocbAXAqMl"
      }
    },
    {
      "cell_type": "markdown",
      "source": [
        "### Modelo: Redes neuronales"
      ],
      "metadata": {
        "id": "tYR_RYkn_wsW"
      }
    },
    {
      "cell_type": "code",
      "source": [
        "#Importación de librerias\n",
        "from sklearn import svm\n",
        "from sklearn.metrics import accuracy_score\n",
        "from sklearn.neural_network import MLPClassifier\n",
        "\n",
        "# Crear una instancia del clasificador MLPClassifier\n",
        "model = MLPClassifier(random_state=1, max_iter=300)\n",
        "\n",
        "# Entrenar el clasificador\n",
        "model.fit(X_train_scal, y_train)\n",
        "\n",
        "# Realizar predicciones en el conjunto de prueba\n",
        "y_pred = model.predict(X_val_scal)\n",
        "\n",
        "#metodo para obtener la precisión\n",
        "cv = cross_val_score(estimator = model, X = X_train_scal, y = y_train, cv = 10)\n",
        "cvForest = cv.mean()\n",
        "stdForest = cv.std()\n",
        "\n",
        "#Resultados\n",
        "print(\"promedio Validación cruzada k=10: \", cvForest)\n",
        "print('Varianza de Random Forest: ',stdForest)\n",
        "print ('Exactitud en el conjunto de entrenamiento: %0.4f' % model.score(X_train_scal, y_train))\n",
        "print ('Exactitud en el conjunto de validación: %0.4f' % model.score(X_val_scal, y_val))"
      ],
      "metadata": {
        "colab": {
          "base_uri": "https://localhost:8080/"
        },
        "outputId": "676976ff-cff9-4e59-c3f4-b49c61e7fefb",
        "id": "qnJjs9u7_wsW"
      },
      "execution_count": 44,
      "outputs": [
        {
          "output_type": "stream",
          "name": "stderr",
          "text": [
            "/usr/local/lib/python3.10/dist-packages/sklearn/neural_network/_multilayer_perceptron.py:686: ConvergenceWarning: Stochastic Optimizer: Maximum iterations (300) reached and the optimization hasn't converged yet.\n",
            "  warnings.warn(\n",
            "/usr/local/lib/python3.10/dist-packages/sklearn/neural_network/_multilayer_perceptron.py:686: ConvergenceWarning: Stochastic Optimizer: Maximum iterations (300) reached and the optimization hasn't converged yet.\n",
            "  warnings.warn(\n",
            "/usr/local/lib/python3.10/dist-packages/sklearn/neural_network/_multilayer_perceptron.py:686: ConvergenceWarning: Stochastic Optimizer: Maximum iterations (300) reached and the optimization hasn't converged yet.\n",
            "  warnings.warn(\n",
            "/usr/local/lib/python3.10/dist-packages/sklearn/neural_network/_multilayer_perceptron.py:686: ConvergenceWarning: Stochastic Optimizer: Maximum iterations (300) reached and the optimization hasn't converged yet.\n",
            "  warnings.warn(\n",
            "/usr/local/lib/python3.10/dist-packages/sklearn/neural_network/_multilayer_perceptron.py:686: ConvergenceWarning: Stochastic Optimizer: Maximum iterations (300) reached and the optimization hasn't converged yet.\n",
            "  warnings.warn(\n",
            "/usr/local/lib/python3.10/dist-packages/sklearn/neural_network/_multilayer_perceptron.py:686: ConvergenceWarning: Stochastic Optimizer: Maximum iterations (300) reached and the optimization hasn't converged yet.\n",
            "  warnings.warn(\n",
            "/usr/local/lib/python3.10/dist-packages/sklearn/neural_network/_multilayer_perceptron.py:686: ConvergenceWarning: Stochastic Optimizer: Maximum iterations (300) reached and the optimization hasn't converged yet.\n",
            "  warnings.warn(\n",
            "/usr/local/lib/python3.10/dist-packages/sklearn/neural_network/_multilayer_perceptron.py:686: ConvergenceWarning: Stochastic Optimizer: Maximum iterations (300) reached and the optimization hasn't converged yet.\n",
            "  warnings.warn(\n",
            "/usr/local/lib/python3.10/dist-packages/sklearn/neural_network/_multilayer_perceptron.py:686: ConvergenceWarning: Stochastic Optimizer: Maximum iterations (300) reached and the optimization hasn't converged yet.\n",
            "  warnings.warn(\n",
            "/usr/local/lib/python3.10/dist-packages/sklearn/neural_network/_multilayer_perceptron.py:686: ConvergenceWarning: Stochastic Optimizer: Maximum iterations (300) reached and the optimization hasn't converged yet.\n",
            "  warnings.warn(\n"
          ]
        },
        {
          "output_type": "stream",
          "name": "stdout",
          "text": [
            "promedio Validación cruzada k=10:  0.9095890410958903\n",
            "Varianza de Random Forest:  0.014626134591823707\n",
            "Exactitud en el conjunto de entrenamiento: 0.9993\n",
            "Exactitud en el conjunto de validación: 0.9043\n"
          ]
        },
        {
          "output_type": "stream",
          "name": "stderr",
          "text": [
            "/usr/local/lib/python3.10/dist-packages/sklearn/neural_network/_multilayer_perceptron.py:686: ConvergenceWarning: Stochastic Optimizer: Maximum iterations (300) reached and the optimization hasn't converged yet.\n",
            "  warnings.warn(\n"
          ]
        }
      ]
    },
    {
      "cell_type": "markdown",
      "source": [
        "**Conclusión**: Mejor modelo con Random Forest, con una exactitud en el conjunto de validación de **0.9330**"
      ],
      "metadata": {
        "id": "pEzFBP3K_wsW"
      }
    },
    {
      "cell_type": "markdown",
      "source": [
        "## 2.4. Sin considerar la columna calculada: IMC y codificador: LabelEncoder."
      ],
      "metadata": {
        "id": "AJDSLhdN3t7E"
      }
    },
    {
      "cell_type": "markdown",
      "source": [
        "Veamos las primeras 5 filas del conjunto de datos almacenado en la variable dataset."
      ],
      "metadata": {
        "id": "rPb9_M2l4CE4"
      }
    },
    {
      "cell_type": "code",
      "source": [
        "dataset_sinimc_labelenconder.head()"
      ],
      "metadata": {
        "colab": {
          "base_uri": "https://localhost:8080/",
          "height": 206
        },
        "outputId": "c5e87142-a3e8-4d77-e902-4c73784c7429",
        "id": "cS-epP9x4Iit"
      },
      "execution_count": 45,
      "outputs": [
        {
          "output_type": "execute_result",
          "data": {
            "text/plain": [
              "   Gender   Age  Height  Weight  family_history_with_overweight  FAVC  FCVC  \\\n",
              "0       0  21.0    1.62    64.0                               1     0   2.0   \n",
              "1       0  21.0    1.52    56.0                               1     0   3.0   \n",
              "2       1  23.0    1.80    77.0                               1     0   2.0   \n",
              "3       1  27.0    1.80    87.0                               0     0   3.0   \n",
              "4       1  22.0    1.78    89.8                               0     0   2.0   \n",
              "\n",
              "   NCP  CAEC  SMOKE  CH2O  SCC  FAF  TUE  CALC  MTRANS  NObeyesdad  \n",
              "0  3.0     2      0   2.0    0  0.0  1.0     3       3           1  \n",
              "1  3.0     2      1   3.0    1  3.0  0.0     2       3           1  \n",
              "2  3.0     2      0   2.0    0  2.0  1.0     1       3           1  \n",
              "3  3.0     2      0   2.0    0  2.0  0.0     1       4           5  \n",
              "4  1.0     2      0   2.0    0  0.0  0.0     2       3           6  "
            ],
            "text/html": [
              "\n",
              "  <div id=\"df-5d526683-f7c7-457f-8a34-6662182fa4b4\">\n",
              "    <div class=\"colab-df-container\">\n",
              "      <div>\n",
              "<style scoped>\n",
              "    .dataframe tbody tr th:only-of-type {\n",
              "        vertical-align: middle;\n",
              "    }\n",
              "\n",
              "    .dataframe tbody tr th {\n",
              "        vertical-align: top;\n",
              "    }\n",
              "\n",
              "    .dataframe thead th {\n",
              "        text-align: right;\n",
              "    }\n",
              "</style>\n",
              "<table border=\"1\" class=\"dataframe\">\n",
              "  <thead>\n",
              "    <tr style=\"text-align: right;\">\n",
              "      <th></th>\n",
              "      <th>Gender</th>\n",
              "      <th>Age</th>\n",
              "      <th>Height</th>\n",
              "      <th>Weight</th>\n",
              "      <th>family_history_with_overweight</th>\n",
              "      <th>FAVC</th>\n",
              "      <th>FCVC</th>\n",
              "      <th>NCP</th>\n",
              "      <th>CAEC</th>\n",
              "      <th>SMOKE</th>\n",
              "      <th>CH2O</th>\n",
              "      <th>SCC</th>\n",
              "      <th>FAF</th>\n",
              "      <th>TUE</th>\n",
              "      <th>CALC</th>\n",
              "      <th>MTRANS</th>\n",
              "      <th>NObeyesdad</th>\n",
              "    </tr>\n",
              "  </thead>\n",
              "  <tbody>\n",
              "    <tr>\n",
              "      <th>0</th>\n",
              "      <td>0</td>\n",
              "      <td>21.0</td>\n",
              "      <td>1.62</td>\n",
              "      <td>64.0</td>\n",
              "      <td>1</td>\n",
              "      <td>0</td>\n",
              "      <td>2.0</td>\n",
              "      <td>3.0</td>\n",
              "      <td>2</td>\n",
              "      <td>0</td>\n",
              "      <td>2.0</td>\n",
              "      <td>0</td>\n",
              "      <td>0.0</td>\n",
              "      <td>1.0</td>\n",
              "      <td>3</td>\n",
              "      <td>3</td>\n",
              "      <td>1</td>\n",
              "    </tr>\n",
              "    <tr>\n",
              "      <th>1</th>\n",
              "      <td>0</td>\n",
              "      <td>21.0</td>\n",
              "      <td>1.52</td>\n",
              "      <td>56.0</td>\n",
              "      <td>1</td>\n",
              "      <td>0</td>\n",
              "      <td>3.0</td>\n",
              "      <td>3.0</td>\n",
              "      <td>2</td>\n",
              "      <td>1</td>\n",
              "      <td>3.0</td>\n",
              "      <td>1</td>\n",
              "      <td>3.0</td>\n",
              "      <td>0.0</td>\n",
              "      <td>2</td>\n",
              "      <td>3</td>\n",
              "      <td>1</td>\n",
              "    </tr>\n",
              "    <tr>\n",
              "      <th>2</th>\n",
              "      <td>1</td>\n",
              "      <td>23.0</td>\n",
              "      <td>1.80</td>\n",
              "      <td>77.0</td>\n",
              "      <td>1</td>\n",
              "      <td>0</td>\n",
              "      <td>2.0</td>\n",
              "      <td>3.0</td>\n",
              "      <td>2</td>\n",
              "      <td>0</td>\n",
              "      <td>2.0</td>\n",
              "      <td>0</td>\n",
              "      <td>2.0</td>\n",
              "      <td>1.0</td>\n",
              "      <td>1</td>\n",
              "      <td>3</td>\n",
              "      <td>1</td>\n",
              "    </tr>\n",
              "    <tr>\n",
              "      <th>3</th>\n",
              "      <td>1</td>\n",
              "      <td>27.0</td>\n",
              "      <td>1.80</td>\n",
              "      <td>87.0</td>\n",
              "      <td>0</td>\n",
              "      <td>0</td>\n",
              "      <td>3.0</td>\n",
              "      <td>3.0</td>\n",
              "      <td>2</td>\n",
              "      <td>0</td>\n",
              "      <td>2.0</td>\n",
              "      <td>0</td>\n",
              "      <td>2.0</td>\n",
              "      <td>0.0</td>\n",
              "      <td>1</td>\n",
              "      <td>4</td>\n",
              "      <td>5</td>\n",
              "    </tr>\n",
              "    <tr>\n",
              "      <th>4</th>\n",
              "      <td>1</td>\n",
              "      <td>22.0</td>\n",
              "      <td>1.78</td>\n",
              "      <td>89.8</td>\n",
              "      <td>0</td>\n",
              "      <td>0</td>\n",
              "      <td>2.0</td>\n",
              "      <td>1.0</td>\n",
              "      <td>2</td>\n",
              "      <td>0</td>\n",
              "      <td>2.0</td>\n",
              "      <td>0</td>\n",
              "      <td>0.0</td>\n",
              "      <td>0.0</td>\n",
              "      <td>2</td>\n",
              "      <td>3</td>\n",
              "      <td>6</td>\n",
              "    </tr>\n",
              "  </tbody>\n",
              "</table>\n",
              "</div>\n",
              "      <button class=\"colab-df-convert\" onclick=\"convertToInteractive('df-5d526683-f7c7-457f-8a34-6662182fa4b4')\"\n",
              "              title=\"Convert this dataframe to an interactive table.\"\n",
              "              style=\"display:none;\">\n",
              "        \n",
              "  <svg xmlns=\"http://www.w3.org/2000/svg\" height=\"24px\"viewBox=\"0 0 24 24\"\n",
              "       width=\"24px\">\n",
              "    <path d=\"M0 0h24v24H0V0z\" fill=\"none\"/>\n",
              "    <path d=\"M18.56 5.44l.94 2.06.94-2.06 2.06-.94-2.06-.94-.94-2.06-.94 2.06-2.06.94zm-11 1L8.5 8.5l.94-2.06 2.06-.94-2.06-.94L8.5 2.5l-.94 2.06-2.06.94zm10 10l.94 2.06.94-2.06 2.06-.94-2.06-.94-.94-2.06-.94 2.06-2.06.94z\"/><path d=\"M17.41 7.96l-1.37-1.37c-.4-.4-.92-.59-1.43-.59-.52 0-1.04.2-1.43.59L10.3 9.45l-7.72 7.72c-.78.78-.78 2.05 0 2.83L4 21.41c.39.39.9.59 1.41.59.51 0 1.02-.2 1.41-.59l7.78-7.78 2.81-2.81c.8-.78.8-2.07 0-2.86zM5.41 20L4 18.59l7.72-7.72 1.47 1.35L5.41 20z\"/>\n",
              "  </svg>\n",
              "      </button>\n",
              "      \n",
              "  <style>\n",
              "    .colab-df-container {\n",
              "      display:flex;\n",
              "      flex-wrap:wrap;\n",
              "      gap: 12px;\n",
              "    }\n",
              "\n",
              "    .colab-df-convert {\n",
              "      background-color: #E8F0FE;\n",
              "      border: none;\n",
              "      border-radius: 50%;\n",
              "      cursor: pointer;\n",
              "      display: none;\n",
              "      fill: #1967D2;\n",
              "      height: 32px;\n",
              "      padding: 0 0 0 0;\n",
              "      width: 32px;\n",
              "    }\n",
              "\n",
              "    .colab-df-convert:hover {\n",
              "      background-color: #E2EBFA;\n",
              "      box-shadow: 0px 1px 2px rgba(60, 64, 67, 0.3), 0px 1px 3px 1px rgba(60, 64, 67, 0.15);\n",
              "      fill: #174EA6;\n",
              "    }\n",
              "\n",
              "    [theme=dark] .colab-df-convert {\n",
              "      background-color: #3B4455;\n",
              "      fill: #D2E3FC;\n",
              "    }\n",
              "\n",
              "    [theme=dark] .colab-df-convert:hover {\n",
              "      background-color: #434B5C;\n",
              "      box-shadow: 0px 1px 3px 1px rgba(0, 0, 0, 0.15);\n",
              "      filter: drop-shadow(0px 1px 2px rgba(0, 0, 0, 0.3));\n",
              "      fill: #FFFFFF;\n",
              "    }\n",
              "  </style>\n",
              "\n",
              "      <script>\n",
              "        const buttonEl =\n",
              "          document.querySelector('#df-5d526683-f7c7-457f-8a34-6662182fa4b4 button.colab-df-convert');\n",
              "        buttonEl.style.display =\n",
              "          google.colab.kernel.accessAllowed ? 'block' : 'none';\n",
              "\n",
              "        async function convertToInteractive(key) {\n",
              "          const element = document.querySelector('#df-5d526683-f7c7-457f-8a34-6662182fa4b4');\n",
              "          const dataTable =\n",
              "            await google.colab.kernel.invokeFunction('convertToInteractive',\n",
              "                                                     [key], {});\n",
              "          if (!dataTable) return;\n",
              "\n",
              "          const docLinkHtml = 'Like what you see? Visit the ' +\n",
              "            '<a target=\"_blank\" href=https://colab.research.google.com/notebooks/data_table.ipynb>data table notebook</a>'\n",
              "            + ' to learn more about interactive tables.';\n",
              "          element.innerHTML = '';\n",
              "          dataTable['output_type'] = 'display_data';\n",
              "          await google.colab.output.renderOutput(dataTable, element);\n",
              "          const docLink = document.createElement('div');\n",
              "          docLink.innerHTML = docLinkHtml;\n",
              "          element.appendChild(docLink);\n",
              "        }\n",
              "      </script>\n",
              "    </div>\n",
              "  </div>\n",
              "  "
            ]
          },
          "metadata": {},
          "execution_count": 45
        }
      ]
    },
    {
      "cell_type": "markdown",
      "metadata": {
        "id": "cfVwQ4L8AVrw"
      },
      "source": [
        "**División de datos de entrenamiento y test**"
      ]
    },
    {
      "cell_type": "code",
      "execution_count": 46,
      "metadata": {
        "id": "Eij6mkHrAVr4"
      },
      "outputs": [],
      "source": [
        "#Separamos la data, en variables independientes (x) y dependientes (y), para poder entrenar el modelo de regresión\n",
        "X_train_val = dataset_sinimc_labelenconder.drop(['NObeyesdad'], axis=1)\n",
        "y_train_val = dataset_sinimc_labelenconder['NObeyesdad']"
      ]
    },
    {
      "cell_type": "markdown",
      "source": [
        "Debido al tamaño del conjunto de datos se decidió utilizar el 70\\% de los datos para el entrenamiento y el 30\\% para la validación."
      ],
      "metadata": {
        "id": "oWqXcakvAVr5"
      }
    },
    {
      "cell_type": "code",
      "execution_count": 47,
      "metadata": {
        "id": "D5T5fybJAVr5"
      },
      "outputs": [],
      "source": [
        "# Dividimos la data en conjunto de \"entrenamiento\" y \"prueba\"\n",
        "X_train, X_val, y_train, y_val = train_test_split(X_train_val, y_train_val, test_size=0.3, random_state=0)"
      ]
    },
    {
      "cell_type": "code",
      "source": [
        "#Observamos el tamaño actual de los datos de entrenamiento y de validación.\n",
        "print(f\"Train shape: {X_train.shape}\")\n",
        "print(f\"Test shape: {X_val.shape}\")"
      ],
      "metadata": {
        "colab": {
          "base_uri": "https://localhost:8080/"
        },
        "outputId": "32ba711e-5da6-45ee-9e07-70c0eaa115be",
        "id": "jz1aJ8TdAVr5"
      },
      "execution_count": 48,
      "outputs": [
        {
          "output_type": "stream",
          "name": "stdout",
          "text": [
            "Train shape: (1460, 16)\n",
            "Test shape: (627, 16)\n"
          ]
        }
      ]
    },
    {
      "cell_type": "markdown",
      "source": [
        "Decidimos utilizar el método **StandardScaler** para escalar los datos: siendo la media igual a 0 y la varianza igual a 1."
      ],
      "metadata": {
        "id": "qv2WxW_ZAVr5"
      }
    },
    {
      "cell_type": "code",
      "source": [
        "# Se crea un objeto de la clase StandardScaler de la librería scikit-learn.\n",
        "scaler = StandardScaler()\n",
        "\n",
        "X_train_scal = scaler.fit_transform(X_train) #Escalar los datos de entrenamiento\n",
        "X_val_scal = scaler.fit_transform(X_val) #Escalar los datos de prueba"
      ],
      "metadata": {
        "id": "KIT9-ZWpAVr5"
      },
      "execution_count": 49,
      "outputs": []
    },
    {
      "cell_type": "markdown",
      "source": [
        "### Modelo: SVM Cúbico"
      ],
      "metadata": {
        "id": "Krk0Oq-uAVr6"
      }
    },
    {
      "cell_type": "code",
      "source": [
        "# Tomado de notebook trabajado en clase \"SVM - Ejercicio.ipynb\"\n",
        "from sklearn import svm\n",
        "#Importa la función accuracy_score del módulo sklearn.metrics, que se utilizará para calcular la precisión del modelo.\n",
        "from sklearn.metrics import accuracy_score\n",
        "\n",
        "# Crea una instancia del clasificador SVM utilizando el kernel cúbico.\n",
        "model = svm.SVC(kernel='poly', degree=3,C=0.0316, gamma=1)\n",
        "\n",
        "# Entrenamiento del clasificador\n",
        "model.fit(X_train_scal, y_train)\n",
        "\n",
        "# Realizar predicciones en el conjunto de prueba\n",
        "y_pred = model.predict(X_val_scal)\n",
        "\n",
        "#Realiza una validación cruzada de 10 divisiones utilizando el modelo SVM y los datos de entrenamiento escalados.\n",
        "cv = cross_val_score(estimator = model, X = X_train_scal, y = y_train, cv = 10)\n",
        "\n",
        "#Calcula la media de las puntuaciones de rendimiento obtenidas en la validación cruzada.\n",
        "cvForest = cv.mean()\n",
        "# Calcula la desviación estándar de las puntuaciones de rendimiento obtenidas en la validación cruzada.\n",
        "stdForest = cv.std()\n",
        "\n",
        "\n",
        "print(\"promedio Validación cruzada k=10: \", cvForest)\n",
        "print('Varianza de SVM Cúbico: ',stdForest)\n",
        "print ('Exactitud en el conjunto de entrenamiento: %0.4f' % model.score(X_train_scal, y_train))\n",
        "print ('Exactitud en el conjunto de validación: %0.4f' % model.score(X_val_scal, y_val))"
      ],
      "metadata": {
        "colab": {
          "base_uri": "https://localhost:8080/"
        },
        "outputId": "a6fdccfc-97e2-4150-f8d6-13c47fe795a2",
        "id": "Jjk18uCJAVr6"
      },
      "execution_count": 50,
      "outputs": [
        {
          "output_type": "stream",
          "name": "stdout",
          "text": [
            "promedio Validación cruzada k=10:  0.8664383561643836\n",
            "Varianza de SVM Cúbico:  0.019433234190563163\n",
            "Exactitud en el conjunto de entrenamiento: 1.0000\n",
            "Exactitud en el conjunto de validación: 0.8804\n"
          ]
        }
      ]
    },
    {
      "cell_type": "markdown",
      "source": [
        "Obtenemos una exactitud de **0.8804** (Overfitting)"
      ],
      "metadata": {
        "id": "4yoFyzYUAVr6"
      }
    },
    {
      "cell_type": "markdown",
      "source": [
        "### Modelo: Random Forest con bagging"
      ],
      "metadata": {
        "id": "fHKpGFaBAVr6"
      }
    },
    {
      "cell_type": "code",
      "source": [
        "from sklearn import svm\n",
        "from sklearn.metrics import accuracy_score\n",
        "from sklearn.ensemble import RandomForestClassifier\n",
        "\n",
        "# Crear una instancia del clasificador RandomForest\n",
        "model = RandomForestClassifier(oob_score = True, random_state=42)\n",
        "\n",
        "# Entrenar el clasificador\n",
        "model.fit(X_train_scal, y_train)\n",
        "\n",
        "# Realizar predicciones en el conjunto de prueba\n",
        "y_pred = model.predict(X_val_scal)\n",
        "\n",
        "cv = cross_val_score(estimator = model, X = X_train_scal, y = y_train, cv = 10) #metodo para obtener la precisión\n",
        "cvForest = cv.mean()\n",
        "stdForest = cv.std()\n",
        "\n",
        "print(\"promedio Validación cruzada k=10: \", cvForest)\n",
        "print('Varianza de Random Forest: ',stdForest)\n",
        "print ('Exactitud en el conjunto de entrenamiento: %0.4f' % model.score(X_train_scal, y_train))\n",
        "print ('Exactitud en el conjunto de validación: %0.4f' % model.score(X_val_scal, y_val))"
      ],
      "metadata": {
        "colab": {
          "base_uri": "https://localhost:8080/"
        },
        "outputId": "b11da5ec-c74f-4abf-f5a8-f0a2ff8a3a5b",
        "id": "_zJZKEk5AVr6"
      },
      "execution_count": 51,
      "outputs": [
        {
          "output_type": "stream",
          "name": "stdout",
          "text": [
            "promedio Validación cruzada k=10:  0.9445205479452055\n",
            "Varianza de Random Forest:  0.0171779947999787\n",
            "Exactitud en el conjunto de entrenamiento: 1.0000\n",
            "Exactitud en el conjunto de validación: 0.9346\n"
          ]
        }
      ]
    },
    {
      "cell_type": "markdown",
      "source": [
        "### Modelo: Redes neuronales"
      ],
      "metadata": {
        "id": "WEMOjbLsAVr6"
      }
    },
    {
      "cell_type": "code",
      "source": [
        "#Importación de librerias\n",
        "from sklearn import svm\n",
        "from sklearn.metrics import accuracy_score\n",
        "from sklearn.neural_network import MLPClassifier\n",
        "\n",
        "# Crear una instancia del clasificador MLPClassifier\n",
        "model = MLPClassifier(random_state=1, max_iter=300)\n",
        "\n",
        "# Entrenar el clasificador\n",
        "model.fit(X_train_scal, y_train)\n",
        "\n",
        "# Realizar predicciones en el conjunto de prueba\n",
        "y_pred = model.predict(X_val_scal)\n",
        "\n",
        "#metodo para obtener la precisión\n",
        "cv = cross_val_score(estimator = model, X = X_train_scal, y = y_train, cv = 10)\n",
        "cvForest = cv.mean()\n",
        "stdForest = cv.std()\n",
        "\n",
        "#Resultados\n",
        "print(\"promedio Validación cruzada k=10: \", cvForest)\n",
        "print('Varianza de Random Forest: ',stdForest)\n",
        "print ('Exactitud en el conjunto de entrenamiento: %0.4f' % model.score(X_train_scal, y_train))\n",
        "print ('Exactitud en el conjunto de validación: %0.4f' % model.score(X_val_scal, y_val))"
      ],
      "metadata": {
        "colab": {
          "base_uri": "https://localhost:8080/"
        },
        "outputId": "02ce47b9-44b6-403b-b2d1-4cb6f672477b",
        "id": "8uvmKrbJAVr6"
      },
      "execution_count": 52,
      "outputs": [
        {
          "output_type": "stream",
          "name": "stderr",
          "text": [
            "/usr/local/lib/python3.10/dist-packages/sklearn/neural_network/_multilayer_perceptron.py:686: ConvergenceWarning: Stochastic Optimizer: Maximum iterations (300) reached and the optimization hasn't converged yet.\n",
            "  warnings.warn(\n",
            "/usr/local/lib/python3.10/dist-packages/sklearn/neural_network/_multilayer_perceptron.py:686: ConvergenceWarning: Stochastic Optimizer: Maximum iterations (300) reached and the optimization hasn't converged yet.\n",
            "  warnings.warn(\n",
            "/usr/local/lib/python3.10/dist-packages/sklearn/neural_network/_multilayer_perceptron.py:686: ConvergenceWarning: Stochastic Optimizer: Maximum iterations (300) reached and the optimization hasn't converged yet.\n",
            "  warnings.warn(\n",
            "/usr/local/lib/python3.10/dist-packages/sklearn/neural_network/_multilayer_perceptron.py:686: ConvergenceWarning: Stochastic Optimizer: Maximum iterations (300) reached and the optimization hasn't converged yet.\n",
            "  warnings.warn(\n",
            "/usr/local/lib/python3.10/dist-packages/sklearn/neural_network/_multilayer_perceptron.py:686: ConvergenceWarning: Stochastic Optimizer: Maximum iterations (300) reached and the optimization hasn't converged yet.\n",
            "  warnings.warn(\n",
            "/usr/local/lib/python3.10/dist-packages/sklearn/neural_network/_multilayer_perceptron.py:686: ConvergenceWarning: Stochastic Optimizer: Maximum iterations (300) reached and the optimization hasn't converged yet.\n",
            "  warnings.warn(\n",
            "/usr/local/lib/python3.10/dist-packages/sklearn/neural_network/_multilayer_perceptron.py:686: ConvergenceWarning: Stochastic Optimizer: Maximum iterations (300) reached and the optimization hasn't converged yet.\n",
            "  warnings.warn(\n",
            "/usr/local/lib/python3.10/dist-packages/sklearn/neural_network/_multilayer_perceptron.py:686: ConvergenceWarning: Stochastic Optimizer: Maximum iterations (300) reached and the optimization hasn't converged yet.\n",
            "  warnings.warn(\n",
            "/usr/local/lib/python3.10/dist-packages/sklearn/neural_network/_multilayer_perceptron.py:686: ConvergenceWarning: Stochastic Optimizer: Maximum iterations (300) reached and the optimization hasn't converged yet.\n",
            "  warnings.warn(\n",
            "/usr/local/lib/python3.10/dist-packages/sklearn/neural_network/_multilayer_perceptron.py:686: ConvergenceWarning: Stochastic Optimizer: Maximum iterations (300) reached and the optimization hasn't converged yet.\n",
            "  warnings.warn(\n"
          ]
        },
        {
          "output_type": "stream",
          "name": "stdout",
          "text": [
            "promedio Validación cruzada k=10:  0.9102739726027398\n",
            "Varianza de Random Forest:  0.018745112580005475\n",
            "Exactitud en el conjunto de entrenamiento: 0.9993\n",
            "Exactitud en el conjunto de validación: 0.9266\n"
          ]
        },
        {
          "output_type": "stream",
          "name": "stderr",
          "text": [
            "/usr/local/lib/python3.10/dist-packages/sklearn/neural_network/_multilayer_perceptron.py:686: ConvergenceWarning: Stochastic Optimizer: Maximum iterations (300) reached and the optimization hasn't converged yet.\n",
            "  warnings.warn(\n"
          ]
        }
      ]
    },
    {
      "cell_type": "markdown",
      "source": [
        "### Ensamble por votación manual"
      ],
      "metadata": {
        "id": "7EKQ3zOSAVr6"
      }
    },
    {
      "cell_type": "code",
      "source": [
        "#Ejercicio considerado de la notebook desarrollado en clase.\n",
        "#Importación de bibliotecas y clasificadores\n",
        "from sklearn.tree import DecisionTreeClassifier\n",
        "from sklearn.neighbors import KNeighborsClassifier\n",
        "from sklearn.ensemble import RandomForestClassifier\n",
        "from sklearn.svm import SVC\n",
        "from sklearn.ensemble import VotingClassifier\n",
        "from sklearn.pipeline import make_pipeline\n",
        "from sklearn.preprocessing import StandardScaler\n",
        "from sklearn import svm\n",
        "\n",
        "# Crear  instancias para todos los siguientes clasificadores\n",
        "estimators = [\n",
        "     ('Random Forest', make_pipeline(StandardScaler(), RandomForestClassifier(oob_score = True, random_state=42))),\n",
        "     ('SVM Cubic', make_pipeline(StandardScaler(),svm.SVC(kernel='poly', degree=3,C=10, gamma=50,probability=True))),\n",
        "\n",
        "     ('árbol de decisión', DecisionTreeClassifier(max_depth=4)),\n",
        "     ('k-NN', make_pipeline(StandardScaler(),\n",
        "                            KNeighborsClassifier(n_neighbors=7) )),\n",
        "     ('SVM de kernel gaussiano', make_pipeline(StandardScaler(),\n",
        "                                               SVC(kernel='rbf', probability=True) ))\n",
        "]\n",
        "\n",
        "#Definición del ensamble\n",
        "ensamble = VotingClassifier(estimators=estimators,\n",
        "                        voting='soft', weights=[3,2,2, 1, 2])\n",
        "\n",
        "#Ajuste del ensamble\n",
        "ensamble.fit(X_train, y_train)\n",
        "\n",
        "for (name, estimator) in ensamble.named_estimators_.items():\n",
        "  print(f'Exactitud de {name: <25}: Entrenamiento {estimator.score(X_train, y_train):.03f} || Pruebas {estimator.score(X_val, y_val):.03f}',  )\n",
        "\n",
        "print(f'Exactitud de {\"ensamble\": <25}: Entrenamiento {ensamble.score(X_train, y_train):.03f} || Validación {ensamble.score(X_val, y_val):.03f}' )"
      ],
      "metadata": {
        "colab": {
          "base_uri": "https://localhost:8080/"
        },
        "outputId": "4249dd4e-b6a1-4860-b839-c4a7c377b741",
        "id": "dq_MyADgAVr6"
      },
      "execution_count": 53,
      "outputs": [
        {
          "output_type": "stream",
          "name": "stdout",
          "text": [
            "Exactitud de Random Forest            : Entrenamiento 1.000 || Pruebas 0.955\n",
            "Exactitud de SVM Cubic                : Entrenamiento 1.000 || Pruebas 0.869\n",
            "Exactitud de árbol de decisión        : Entrenamiento 0.805 || Pruebas 0.788\n",
            "Exactitud de k-NN                     : Entrenamiento 0.828 || Pruebas 0.813\n",
            "Exactitud de SVM de kernel gaussiano  : Entrenamiento 0.944 || Pruebas 0.880\n",
            "Exactitud de ensamble                 : Entrenamiento 0.997 || Validación 0.939\n"
          ]
        }
      ]
    },
    {
      "cell_type": "markdown",
      "source": [
        "**Conclusión**: Mejor modelo con Ensamble por votación manual, con una exactitud en el conjunto de validación de **0.939**"
      ],
      "metadata": {
        "id": "qKm0pI7LAVr6"
      }
    },
    {
      "cell_type": "markdown",
      "source": [
        "# 3. Evaluación de Resultados"
      ],
      "metadata": {
        "id": "Ml85MdR3BYm3"
      }
    },
    {
      "cell_type": "markdown",
      "source": [
        "Se concluye que el mejor modelo tuvo una exactitud de **0.984** con el modelo Ensamble por votación manual, con una validación cruzada de 10 folders."
      ],
      "metadata": {
        "id": "RPRjp-vyBb2a"
      }
    }
  ]
}
