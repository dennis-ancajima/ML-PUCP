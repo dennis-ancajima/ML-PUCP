{
  "cells": [
    {
      "cell_type": "markdown",
      "metadata": {
        "id": "view-in-github",
        "colab_type": "text"
      },
      "source": [
        "<a href=\"https://colab.research.google.com/github/dennis-ancajima/ML-PUCP/blob/main/04_Modelo_Entrenamiento_BasePaper_SVMCubic.ipynb\" target=\"_parent\"><img src=\"https://colab.research.google.com/assets/colab-badge.svg\" alt=\"Open In Colab\"/></a>"
      ]
    },
    {
      "cell_type": "markdown",
      "source": [
        "En el presente notebook vamos a realizar la reproducción de la experimentación del estudio de Celik, Guney y Dengiz (2021), quienes aplicaron diferentes métodos de clasificación para estimar los niveles de obesidad con un conjunto de datos conformado por 2111 datos y 12 características, obteniendo  una precisión (accuracy) de **97,8%** usando el modelo **SVM Cúbico.**\n",
        "\n",
        "\n",
        "\n"
      ],
      "metadata": {
        "id": "zHTC9b2_c9jV"
      }
    },
    {
      "cell_type": "markdown",
      "source": [
        " **Tabla de contenido:**\n",
        "\n",
        "1. Cargar datos.\n",
        "2. Pre - procesamiento.\n",
        "\n",
        "  2.1. Codificación de variables categóricas.\n",
        "\n",
        "  2.2. Selección de características.\n",
        "\n",
        "  2.3. Eliminación características con menor score.\n",
        "\n",
        "3. Modelado.\n",
        "4. Evaluación de Resultados\n",
        "5. Referencias.\n",
        "\n"
      ],
      "metadata": {
        "id": "922O3VbDQhNb"
      }
    },
    {
      "cell_type": "markdown",
      "source": [
        "# 1. Cargar datos"
      ],
      "metadata": {
        "id": "whxdbvYcQxQH"
      }
    },
    {
      "cell_type": "markdown",
      "source": [
        "En primero lugar, realizamos la importación de librerías y módulos necesarios para el análisis de datos y aprendizaje automático."
      ],
      "metadata": {
        "id": "iHFfc1DpaxLC"
      }
    },
    {
      "cell_type": "code",
      "execution_count": 7,
      "metadata": {
        "id": "RHGd0csCY-PM"
      },
      "outputs": [],
      "source": [
        "import pandas as pd\n",
        "import numpy as np\n",
        "import seaborn as sns\n",
        "import matplotlib.pyplot as plt #visualizaciones\n",
        "from sklearn.model_selection import train_test_split\n",
        "from sklearn.metrics import mean_squared_error,accuracy_score, roc_curve, roc_auc_score, confusion_matrix, ConfusionMatrixDisplay, classification_report\n",
        "from sklearn.base import clone\n",
        "from sklearn.preprocessing import StandardScaler\n",
        "import seaborn as sns #Libreria para gráficar\n",
        "from sklearn.model_selection import cross_val_score\n",
        "from google.colab import drive\n",
        "\n",
        "pd.set_option(\"display.max_columns\", 50) #Controla la cantidad máxima de columnas que se mostrarán al imprimir un DataFrame.\n",
        "\n",
        "%matplotlib inline\n",
        "plt.style.use('ggplot')"
      ]
    },
    {
      "cell_type": "markdown",
      "source": [
        "Realizamos la lectura del archivo CSV \"ObesityDataSet_raw_and_data_sinthetic.csv\" y los almacenamos en la variable **dataset** utilizando la función **read_csv()** de la biblioteca panda.\n"
      ],
      "metadata": {
        "id": "fXQos5JIawSn"
      }
    },
    {
      "cell_type": "code",
      "execution_count": 8,
      "metadata": {
        "id": "NGcBx_HLkJZU"
      },
      "outputs": [],
      "source": [
        "#Lectura del dataset\n",
        "archivo = \"ObesityDataSet_raw_and_data_sinthetic.csv\"\n",
        "\n",
        "#El método \"read_csv\" nos permite leer un excel\n",
        "dataset = pd.read_csv(archivo)"
      ]
    },
    {
      "cell_type": "markdown",
      "source": [
        "Veamos las primeras 5 filas del conjunto de datos almacenado en la variable **dataset**."
      ],
      "metadata": {
        "id": "hJM8yRb5csb9"
      }
    },
    {
      "cell_type": "code",
      "execution_count": 9,
      "metadata": {
        "colab": {
          "base_uri": "https://localhost:8080/",
          "height": 206
        },
        "id": "m89XTN2olcTD",
        "outputId": "5b0df4a8-4962-4fdc-ef5a-7eeb139ce579"
      },
      "outputs": [
        {
          "output_type": "execute_result",
          "data": {
            "text/plain": [
              "   Gender   Age  Height  Weight family_history_with_overweight FAVC  FCVC  \\\n",
              "0  Female  21.0    1.62    64.0                            yes   no   2.0   \n",
              "1  Female  21.0    1.52    56.0                            yes   no   3.0   \n",
              "2    Male  23.0    1.80    77.0                            yes   no   2.0   \n",
              "3    Male  27.0    1.80    87.0                             no   no   3.0   \n",
              "4    Male  22.0    1.78    89.8                             no   no   2.0   \n",
              "\n",
              "   NCP       CAEC SMOKE  CH2O  SCC  FAF  TUE        CALC  \\\n",
              "0  3.0  Sometimes    no   2.0   no  0.0  1.0          no   \n",
              "1  3.0  Sometimes   yes   3.0  yes  3.0  0.0   Sometimes   \n",
              "2  3.0  Sometimes    no   2.0   no  2.0  1.0  Frequently   \n",
              "3  3.0  Sometimes    no   2.0   no  2.0  0.0  Frequently   \n",
              "4  1.0  Sometimes    no   2.0   no  0.0  0.0   Sometimes   \n",
              "\n",
              "                  MTRANS           NObeyesdad  \n",
              "0  Public_Transportation        Normal_Weight  \n",
              "1  Public_Transportation        Normal_Weight  \n",
              "2  Public_Transportation        Normal_Weight  \n",
              "3                Walking   Overweight_Level_I  \n",
              "4  Public_Transportation  Overweight_Level_II  "
            ],
            "text/html": [
              "\n",
              "  <div id=\"df-1d3eee18-3d2a-4af5-be09-d86965a53598\">\n",
              "    <div class=\"colab-df-container\">\n",
              "      <div>\n",
              "<style scoped>\n",
              "    .dataframe tbody tr th:only-of-type {\n",
              "        vertical-align: middle;\n",
              "    }\n",
              "\n",
              "    .dataframe tbody tr th {\n",
              "        vertical-align: top;\n",
              "    }\n",
              "\n",
              "    .dataframe thead th {\n",
              "        text-align: right;\n",
              "    }\n",
              "</style>\n",
              "<table border=\"1\" class=\"dataframe\">\n",
              "  <thead>\n",
              "    <tr style=\"text-align: right;\">\n",
              "      <th></th>\n",
              "      <th>Gender</th>\n",
              "      <th>Age</th>\n",
              "      <th>Height</th>\n",
              "      <th>Weight</th>\n",
              "      <th>family_history_with_overweight</th>\n",
              "      <th>FAVC</th>\n",
              "      <th>FCVC</th>\n",
              "      <th>NCP</th>\n",
              "      <th>CAEC</th>\n",
              "      <th>SMOKE</th>\n",
              "      <th>CH2O</th>\n",
              "      <th>SCC</th>\n",
              "      <th>FAF</th>\n",
              "      <th>TUE</th>\n",
              "      <th>CALC</th>\n",
              "      <th>MTRANS</th>\n",
              "      <th>NObeyesdad</th>\n",
              "    </tr>\n",
              "  </thead>\n",
              "  <tbody>\n",
              "    <tr>\n",
              "      <th>0</th>\n",
              "      <td>Female</td>\n",
              "      <td>21.0</td>\n",
              "      <td>1.62</td>\n",
              "      <td>64.0</td>\n",
              "      <td>yes</td>\n",
              "      <td>no</td>\n",
              "      <td>2.0</td>\n",
              "      <td>3.0</td>\n",
              "      <td>Sometimes</td>\n",
              "      <td>no</td>\n",
              "      <td>2.0</td>\n",
              "      <td>no</td>\n",
              "      <td>0.0</td>\n",
              "      <td>1.0</td>\n",
              "      <td>no</td>\n",
              "      <td>Public_Transportation</td>\n",
              "      <td>Normal_Weight</td>\n",
              "    </tr>\n",
              "    <tr>\n",
              "      <th>1</th>\n",
              "      <td>Female</td>\n",
              "      <td>21.0</td>\n",
              "      <td>1.52</td>\n",
              "      <td>56.0</td>\n",
              "      <td>yes</td>\n",
              "      <td>no</td>\n",
              "      <td>3.0</td>\n",
              "      <td>3.0</td>\n",
              "      <td>Sometimes</td>\n",
              "      <td>yes</td>\n",
              "      <td>3.0</td>\n",
              "      <td>yes</td>\n",
              "      <td>3.0</td>\n",
              "      <td>0.0</td>\n",
              "      <td>Sometimes</td>\n",
              "      <td>Public_Transportation</td>\n",
              "      <td>Normal_Weight</td>\n",
              "    </tr>\n",
              "    <tr>\n",
              "      <th>2</th>\n",
              "      <td>Male</td>\n",
              "      <td>23.0</td>\n",
              "      <td>1.80</td>\n",
              "      <td>77.0</td>\n",
              "      <td>yes</td>\n",
              "      <td>no</td>\n",
              "      <td>2.0</td>\n",
              "      <td>3.0</td>\n",
              "      <td>Sometimes</td>\n",
              "      <td>no</td>\n",
              "      <td>2.0</td>\n",
              "      <td>no</td>\n",
              "      <td>2.0</td>\n",
              "      <td>1.0</td>\n",
              "      <td>Frequently</td>\n",
              "      <td>Public_Transportation</td>\n",
              "      <td>Normal_Weight</td>\n",
              "    </tr>\n",
              "    <tr>\n",
              "      <th>3</th>\n",
              "      <td>Male</td>\n",
              "      <td>27.0</td>\n",
              "      <td>1.80</td>\n",
              "      <td>87.0</td>\n",
              "      <td>no</td>\n",
              "      <td>no</td>\n",
              "      <td>3.0</td>\n",
              "      <td>3.0</td>\n",
              "      <td>Sometimes</td>\n",
              "      <td>no</td>\n",
              "      <td>2.0</td>\n",
              "      <td>no</td>\n",
              "      <td>2.0</td>\n",
              "      <td>0.0</td>\n",
              "      <td>Frequently</td>\n",
              "      <td>Walking</td>\n",
              "      <td>Overweight_Level_I</td>\n",
              "    </tr>\n",
              "    <tr>\n",
              "      <th>4</th>\n",
              "      <td>Male</td>\n",
              "      <td>22.0</td>\n",
              "      <td>1.78</td>\n",
              "      <td>89.8</td>\n",
              "      <td>no</td>\n",
              "      <td>no</td>\n",
              "      <td>2.0</td>\n",
              "      <td>1.0</td>\n",
              "      <td>Sometimes</td>\n",
              "      <td>no</td>\n",
              "      <td>2.0</td>\n",
              "      <td>no</td>\n",
              "      <td>0.0</td>\n",
              "      <td>0.0</td>\n",
              "      <td>Sometimes</td>\n",
              "      <td>Public_Transportation</td>\n",
              "      <td>Overweight_Level_II</td>\n",
              "    </tr>\n",
              "  </tbody>\n",
              "</table>\n",
              "</div>\n",
              "      <button class=\"colab-df-convert\" onclick=\"convertToInteractive('df-1d3eee18-3d2a-4af5-be09-d86965a53598')\"\n",
              "              title=\"Convert this dataframe to an interactive table.\"\n",
              "              style=\"display:none;\">\n",
              "        \n",
              "  <svg xmlns=\"http://www.w3.org/2000/svg\" height=\"24px\"viewBox=\"0 0 24 24\"\n",
              "       width=\"24px\">\n",
              "    <path d=\"M0 0h24v24H0V0z\" fill=\"none\"/>\n",
              "    <path d=\"M18.56 5.44l.94 2.06.94-2.06 2.06-.94-2.06-.94-.94-2.06-.94 2.06-2.06.94zm-11 1L8.5 8.5l.94-2.06 2.06-.94-2.06-.94L8.5 2.5l-.94 2.06-2.06.94zm10 10l.94 2.06.94-2.06 2.06-.94-2.06-.94-.94-2.06-.94 2.06-2.06.94z\"/><path d=\"M17.41 7.96l-1.37-1.37c-.4-.4-.92-.59-1.43-.59-.52 0-1.04.2-1.43.59L10.3 9.45l-7.72 7.72c-.78.78-.78 2.05 0 2.83L4 21.41c.39.39.9.59 1.41.59.51 0 1.02-.2 1.41-.59l7.78-7.78 2.81-2.81c.8-.78.8-2.07 0-2.86zM5.41 20L4 18.59l7.72-7.72 1.47 1.35L5.41 20z\"/>\n",
              "  </svg>\n",
              "      </button>\n",
              "      \n",
              "  <style>\n",
              "    .colab-df-container {\n",
              "      display:flex;\n",
              "      flex-wrap:wrap;\n",
              "      gap: 12px;\n",
              "    }\n",
              "\n",
              "    .colab-df-convert {\n",
              "      background-color: #E8F0FE;\n",
              "      border: none;\n",
              "      border-radius: 50%;\n",
              "      cursor: pointer;\n",
              "      display: none;\n",
              "      fill: #1967D2;\n",
              "      height: 32px;\n",
              "      padding: 0 0 0 0;\n",
              "      width: 32px;\n",
              "    }\n",
              "\n",
              "    .colab-df-convert:hover {\n",
              "      background-color: #E2EBFA;\n",
              "      box-shadow: 0px 1px 2px rgba(60, 64, 67, 0.3), 0px 1px 3px 1px rgba(60, 64, 67, 0.15);\n",
              "      fill: #174EA6;\n",
              "    }\n",
              "\n",
              "    [theme=dark] .colab-df-convert {\n",
              "      background-color: #3B4455;\n",
              "      fill: #D2E3FC;\n",
              "    }\n",
              "\n",
              "    [theme=dark] .colab-df-convert:hover {\n",
              "      background-color: #434B5C;\n",
              "      box-shadow: 0px 1px 3px 1px rgba(0, 0, 0, 0.15);\n",
              "      filter: drop-shadow(0px 1px 2px rgba(0, 0, 0, 0.3));\n",
              "      fill: #FFFFFF;\n",
              "    }\n",
              "  </style>\n",
              "\n",
              "      <script>\n",
              "        const buttonEl =\n",
              "          document.querySelector('#df-1d3eee18-3d2a-4af5-be09-d86965a53598 button.colab-df-convert');\n",
              "        buttonEl.style.display =\n",
              "          google.colab.kernel.accessAllowed ? 'block' : 'none';\n",
              "\n",
              "        async function convertToInteractive(key) {\n",
              "          const element = document.querySelector('#df-1d3eee18-3d2a-4af5-be09-d86965a53598');\n",
              "          const dataTable =\n",
              "            await google.colab.kernel.invokeFunction('convertToInteractive',\n",
              "                                                     [key], {});\n",
              "          if (!dataTable) return;\n",
              "\n",
              "          const docLinkHtml = 'Like what you see? Visit the ' +\n",
              "            '<a target=\"_blank\" href=https://colab.research.google.com/notebooks/data_table.ipynb>data table notebook</a>'\n",
              "            + ' to learn more about interactive tables.';\n",
              "          element.innerHTML = '';\n",
              "          dataTable['output_type'] = 'display_data';\n",
              "          await google.colab.output.renderOutput(dataTable, element);\n",
              "          const docLink = document.createElement('div');\n",
              "          docLink.innerHTML = docLinkHtml;\n",
              "          element.appendChild(docLink);\n",
              "        }\n",
              "      </script>\n",
              "    </div>\n",
              "  </div>\n",
              "  "
            ]
          },
          "metadata": {},
          "execution_count": 9
        }
      ],
      "source": [
        "dataset.head()"
      ]
    },
    {
      "cell_type": "markdown",
      "source": [
        "# 2. Pre - procesamiento"
      ],
      "metadata": {
        "id": "oWxwiH_qkdgg"
      }
    },
    {
      "cell_type": "markdown",
      "source": [
        "Según el estudio no consideran limpieza de la data, validamos que existen 24 datos duplicados, pero son considerados dentro del entrenamiento."
      ],
      "metadata": {
        "id": "FC5j2CwQmA56"
      }
    },
    {
      "cell_type": "code",
      "source": [
        "#Revisando duplicados\n",
        "dataset.duplicated().sum()"
      ],
      "metadata": {
        "colab": {
          "base_uri": "https://localhost:8080/"
        },
        "id": "6ZvEySN8mK0z",
        "outputId": "798d8549-1997-4ea9-fae3-e31ace173e3c"
      },
      "execution_count": 10,
      "outputs": [
        {
          "output_type": "execute_result",
          "data": {
            "text/plain": [
              "24"
            ]
          },
          "metadata": {},
          "execution_count": 10
        }
      ]
    },
    {
      "cell_type": "markdown",
      "source": [
        "## 2.1. Codificación de variables categóricas."
      ],
      "metadata": {
        "id": "f5g63kzTTYeZ"
      }
    },
    {
      "cell_type": "markdown",
      "source": [
        "Como parte del pre-procesamiento utilizaron **LabelEncoder** para convertir los datos categóricos en númericos. Siendo un paso importante de pre-procesamiento para luego aplicar los algoritmos de clasificación con características numéricas."
      ],
      "metadata": {
        "id": "_uqE_KcykGKc"
      }
    },
    {
      "cell_type": "code",
      "execution_count": 11,
      "metadata": {
        "colab": {
          "base_uri": "https://localhost:8080/"
        },
        "id": "8GfF5v5nn2L-",
        "outputId": "2809e384-f4b3-4a23-a0fe-0563842916c7"
      },
      "outputs": [
        {
          "output_type": "stream",
          "name": "stdout",
          "text": [
            "Shape all_data: (2111, 17)\n"
          ]
        }
      ],
      "source": [
        "#Se importa la clase LabelEncoder desde sklearn.preprocessing para poder utilizarla en el código.\n",
        "from sklearn.preprocessing import LabelEncoder\n",
        "\n",
        "#Se define una lista cols_categoricas que contiene los nombres de las columnas del dataset que contienen variables categóricas que se desean transformar.\n",
        "cols_categoricas = ['CAEC','CALC','MTRANS','FAVC', 'SMOKE', 'SCC','family_history_with_overweight','Gender','NObeyesdad']\n",
        "\n",
        "#Se itera sobre cada columna categórica en cols_categoricas utilizando un bucle for.\n",
        "for c in cols_categoricas:\n",
        "  #Se crea una instancia de LabelEncoder llamada lbl.\n",
        "    lbl = LabelEncoder()\n",
        "    # Se utiliza el método fit_transform() de LabelEncoder para ajustar y transformar la columna categórica del dataset.\n",
        "    #Esto asigna un valor numérico único a cada categoría presente en la columna.\n",
        "    dataset[c] = lbl.fit_transform(dataset[c])\n",
        "# Se imprime la forma del dataset después de aplicar las transformaciones.\n",
        "print('Shape all_data: {}'.format(dataset.shape))"
      ]
    },
    {
      "cell_type": "markdown",
      "metadata": {
        "id": "qwscAKOPmwLe"
      },
      "source": [
        "## 2.2. Selección de características: Eliminación recursiva de características.\n"
      ]
    },
    {
      "cell_type": "markdown",
      "source": [
        "Aplicaron selección de características importantes al conjunto de datos usando el método  **Backward feature elimination** (Eliminación hacia atrás) con validación cruzada de 10 divisiones. Esto con la finalidad de reducir el número de características y eliminar data irrelevante. Las características: CALC, MTRANS, FCVC y family_history_with_overweight fueron eliminadas de las 16 características, según el estudio de Celik, Guney y Dengiz (2021)."
      ],
      "metadata": {
        "id": "0aEUcu6Hjnmv"
      }
    },
    {
      "cell_type": "code",
      "execution_count": 12,
      "metadata": {
        "id": "pfX_Uo51o4ve"
      },
      "outputs": [],
      "source": [
        "#Separamos la data, en variables independientes (X_train_val) y dependientes (y_train_val), para poder aplicar el método de eliminación hacia atrás.\n",
        "X_train_val = dataset.drop(['NObeyesdad'], axis=1)\n",
        "y_train_val = dataset['NObeyesdad']"
      ]
    },
    {
      "cell_type": "markdown",
      "metadata": {
        "id": "JYuDHNlAnu18"
      },
      "source": [
        "Se debe escalar los datos antes de aplicar el método de selección de características: siendo la media igual a 0 y la varianza igual a 1. Podemos hacerlo usando la función **scaler** de la biblioteca sklearn:"
      ]
    },
    {
      "cell_type": "code",
      "source": [
        "#Creamos la instancia de StandardScaler llamada scaler\n",
        "scaler = StandardScaler()\n",
        "\n",
        "#Ajuste y transformación de datos de entrenamiento a través del método fit_transform(), método que aplica una estandarización.\n",
        "X_train_scal = scaler.fit_transform(X_train_val)\n"
      ],
      "metadata": {
        "id": "-r4Ed69k_KC_"
      },
      "execution_count": 13,
      "outputs": []
    },
    {
      "cell_type": "markdown",
      "source": [
        "Para aplicar el método de eliminación recursiva de características elegimos los modelos RandomForestClassifier y LinearSVC, ya que tienen atributos como **feature_importances_** o **coef_** respectivamente."
      ],
      "metadata": {
        "id": "WeHr5i0oxmEM"
      }
    },
    {
      "cell_type": "markdown",
      "source": [
        "Usando como estimador el modelo **RandomForest**, se obtiene:"
      ],
      "metadata": {
        "id": "pJiO16gzCc2J"
      }
    },
    {
      "cell_type": "code",
      "execution_count": 14,
      "metadata": {
        "colab": {
          "base_uri": "https://localhost:8080/",
          "height": 0
        },
        "id": "fN-BSDrOnQMl",
        "outputId": "41d83602-e00e-4c2d-ceee-1bc032d13df1"
      },
      "outputs": [
        {
          "output_type": "stream",
          "name": "stdout",
          "text": [
            "[True, True]\n",
            "Número de características óptimas: 2\n"
          ]
        },
        {
          "output_type": "display_data",
          "data": {
            "text/plain": [
              "<Figure size 640x480 with 1 Axes>"
            ],
            "image/png": "[encoded data removed]"
          },
          "metadata": {}
        }
      ],
      "source": [
        "#Importación de librerías y módulos necesarios para aplicar Eliminación recursiva.\n",
        "import matplotlib.pyplot as plt\n",
        "from sklearn.svm import SVC\n",
        "from sklearn.model_selection import StratifiedKFold\n",
        "from sklearn.feature_selection import RFECV\n",
        "from sklearn.datasets import make_classification\n",
        "from sklearn.ensemble import RandomForestClassifier\n",
        "from sklearn.metrics import accuracy_score\n",
        "\n",
        "#Definimos el estimador utilizado en RFECV como un RandomForestClassifier con bagging.\n",
        "estimator=RandomForestClassifier(oob_score = True, random_state=42)\n",
        "\n",
        "#Creamos un objeto RFECV con el estimador definido, utilizando una validación cruzada de 10 divisiones y el puntaje de precisión (accuracy) como métrica de evaluación.\n",
        "rfecv = RFECV(estimator, cv=10,scoring='accuracy' )\n",
        "\n",
        "#Ajuste del objeto a los datos de entranimiento escalados.\n",
        "rfecv.fit(X_train_scal, y_train_val)\n",
        "\n",
        "#Obtenemos las características seleccionadas.\n",
        "selected_features = rfecv.support_\n",
        "\n",
        "#Imprime las características seleccionadas (selected_feature_names) y el número óptimo de características (rfecv.n_features_).\n",
        "selected_feature_names = [feature for feature, selected in zip(selected_features, selected_features) if selected]\n",
        "print(selected_feature_names)\n",
        "print(\"Número de características óptimas: %d\" % rfecv.n_features_)\n",
        "\n",
        "#Se crea un gráfico para visualizar el rendimiento de la validación cruzada en función del número de características seleccionadas.\n",
        "plt.figure()\n",
        "plt.xlabel(\"Número de características seleccionadas\")\n",
        "plt.ylabel(\"Score de validación cruzada\")\n",
        "plt.plot(range(1, len(rfecv.cv_results_['mean_test_score']) + 1), rfecv.cv_results_['mean_test_score'])\n",
        "plt.show()"
      ]
    },
    {
      "cell_type": "markdown",
      "source": [
        "A continuación, visualizamos las 2 características óptimas según el modelo random Forest."
      ],
      "metadata": {
        "id": "TwWTTBAkJYhG"
      }
    },
    {
      "cell_type": "code",
      "source": [
        "# Obtener las características seleccionadas\n",
        "selected_features = rfecv.support_\n",
        "\n",
        "# Obtener los nombres de todas las características originales\n",
        "all_feature_names = ['Gender', 'Age', 'Height', 'Weight','family_history_with_overweight','FAVC','FCVC','NCP','CAEC','SMOKE','CH2O','SCC','FAF','TUE','CALC','MTRANS']\n",
        "\n",
        "# Obtener los nombres de las características seleccionadas\n",
        "selected_feature_names = [name for name, selected in zip(all_feature_names, selected_features) if selected]\n",
        "\n",
        "# Imprimir las mejores características\n",
        "print(\"Mejores características seleccionadas:\")\n",
        "for name in selected_feature_names:\n",
        "  print(name)"
      ],
      "metadata": {
        "colab": {
          "base_uri": "https://localhost:8080/"
        },
        "id": "FIfsWDRWCoXm",
        "outputId": "c6820525-8fff-407f-ad03-7fa9c8623998"
      },
      "execution_count": 15,
      "outputs": [
        {
          "output_type": "stream",
          "name": "stdout",
          "text": [
            "Mejores características seleccionadas:\n",
            "Height\n",
            "Weight\n"
          ]
        }
      ]
    },
    {
      "cell_type": "markdown",
      "source": [
        "A continuación, visualizamos las 4 características según Random Forest con menor score: 'SMOKE', 'SCC', 'FAVC', 'MTRANS'"
      ],
      "metadata": {
        "id": "q4wWunhJNid5"
      }
    },
    {
      "cell_type": "code",
      "source": [
        "# Obtiene los rankings de las características\n",
        "feature_ranking = rfecv.ranking_\n",
        "\n",
        "# Crea una lista de tuplas con el nombre de la característica y su ranking.\n",
        "feature_ranking_tuples = [(feature, rank) for feature, rank in zip(dataset.columns, feature_ranking)]\n",
        "\n",
        "# Ordena las características por ranking en orden descendente.\n",
        "sorted_features = sorted(feature_ranking_tuples, key=lambda x: x[1], reverse=True)\n",
        "\n",
        "# Obtenemos las 4 características con menor score (mayor ranking)\n",
        "features_to_remove = [feature for feature, rank in sorted_features[:4]]\n",
        "features_to_remove"
      ],
      "metadata": {
        "colab": {
          "base_uri": "https://localhost:8080/"
        },
        "id": "i8sMW88y2xXv",
        "outputId": "539614e0-2d95-423b-d6b3-e94103630e5d"
      },
      "execution_count": 16,
      "outputs": [
        {
          "output_type": "execute_result",
          "data": {
            "text/plain": [
              "['SMOKE', 'SCC', 'FAVC', 'MTRANS']"
            ]
          },
          "metadata": {},
          "execution_count": 16
        }
      ]
    },
    {
      "cell_type": "markdown",
      "source": [
        "Usando como estimador el modelo **SVC lineal**, se obtiene:"
      ],
      "metadata": {
        "id": "7w5ke-EYCyrV"
      }
    },
    {
      "cell_type": "code",
      "source": [
        "#Importación de librerías y módulos necesarios para aplicar Eliminación recursiva.\n",
        "import matplotlib.pyplot as plt\n",
        "from sklearn.svm import SVC\n",
        "from sklearn.model_selection import StratifiedKFold\n",
        "from sklearn.feature_selection import RFECV\n",
        "from sklearn.datasets import make_classification\n",
        "from sklearn import svm\n",
        "from sklearn.metrics import accuracy_score\n",
        "\n",
        "#Definimos el estimador utilizado en RFECV como un SVM lineal.\n",
        "estimator = SVC(kernel=\"linear\")\n",
        "\n",
        "#Creamos un objeto RFECV con el estimador definido, utilizando una validación cruzada de 10 divisiones y el puntaje de precisión (accuracy) como métrica de evaluación.\n",
        "rfecv = RFECV(estimator, cv=10,scoring='accuracy' )\n",
        "\n",
        "#Ajuste del objeto a los datos de entranimiento escalados.\n",
        "rfecv.fit(X_train_scal, y_train_val)\n",
        "\n",
        "#Obtenemos las características seleccionadas.\n",
        "selected_features = rfecv.support_\n",
        "\n",
        "#Imprime las características seleccionadas (selected_feature_names) y el número óptimo de características (rfecv.n_features_).\n",
        "selected_feature_names = [feature for feature, selected in zip(selected_features, selected_features) if selected]\n",
        "print(selected_feature_names)\n",
        "print(\"Número de características óptimas: %d\" % rfecv.n_features_)\n",
        "\n",
        "#Se crea un gráfico para visualizar el rendimiento de la validación cruzada en función del número de características seleccionadas.\n",
        "plt.figure()\n",
        "plt.xlabel(\"Número de características seleccionadas\")\n",
        "plt.ylabel(\"Score de validación cruzada\")\n",
        "plt.plot(range(1, len(rfecv.cv_results_['mean_test_score']) + 1), rfecv.cv_results_['mean_test_score'])\n",
        "plt.show()"
      ],
      "metadata": {
        "colab": {
          "base_uri": "https://localhost:8080/",
          "height": 0
        },
        "id": "t4Fr30z1CxVI",
        "outputId": "cac3f6ca-e19c-4723-e66b-82d38aeceabb"
      },
      "execution_count": 17,
      "outputs": [
        {
          "output_type": "stream",
          "name": "stdout",
          "text": [
            "[True, True, True, True, True]\n",
            "Número de características óptimas: 5\n"
          ]
        },
        {
          "output_type": "display_data",
          "data": {
            "text/plain": [
              "<Figure size 640x480 with 1 Axes>"
            ],
            "image/png": "[encoded data removed]"
          },
          "metadata": {}
        }
      ]
    },
    {
      "cell_type": "markdown",
      "source": [
        "A continuación, visualizamos las 4 características según SVM lineal con menor score: 'SMOKE', 'SCC', 'TUE', 'FAVC'"
      ],
      "metadata": {
        "id": "zxmdKb13z4ud"
      }
    },
    {
      "cell_type": "code",
      "source": [
        "# Obtener los rankings de las características\n",
        "feature_ranking = rfecv.ranking_\n",
        "\n",
        "# Crear una lista de tuplas con el nombre de la característica y su ranking\n",
        "feature_ranking_tuples = [(feature, rank) for feature, rank in zip(dataset.columns, feature_ranking)]\n",
        "\n",
        "# Ordenar las características por ranking en orden descendente\n",
        "sorted_features = sorted(feature_ranking_tuples, key=lambda x: x[1], reverse=True)\n",
        "\n",
        "# Obtenemos las 4 características con menor score (mayor ranking)\n",
        "features_to_remove = [feature for feature, rank in sorted_features[:4]]\n",
        "features_to_remove\n"
      ],
      "metadata": {
        "colab": {
          "base_uri": "https://localhost:8080/"
        },
        "id": "Jlf1Ukpx0-Ri",
        "outputId": "a5dd6540-3eaa-44d8-c097-b0e0933000e5"
      },
      "execution_count": 18,
      "outputs": [
        {
          "output_type": "execute_result",
          "data": {
            "text/plain": [
              "['SMOKE', 'SCC', 'TUE', 'FAVC']"
            ]
          },
          "metadata": {},
          "execution_count": 18
        }
      ]
    },
    {
      "cell_type": "markdown",
      "source": [
        "En resumen, las características con menor score según **Random Forest** son: 'SMOKE', 'SCC', 'FAVC', 'MTRANS' y según **SVM lineal** son: 'SMOKE', 'SCC', 'TUE', 'FAVC'. Sin embargo, según el estudio de Celik, Guney y Dengiz (2021) determinaron eliminaron las siguientes 4 de las 16 características: CALC, MTRANS, FCVC y family_history_with_overweight ya que se consideran irrelevantes para efectos de la predicción."
      ],
      "metadata": {
        "id": "5OaABKvQTJsM"
      }
    },
    {
      "cell_type": "markdown",
      "source": [
        "## 2.3. Eliminación características con menor score."
      ],
      "metadata": {
        "id": "tciWAef8WNj4"
      }
    },
    {
      "cell_type": "markdown",
      "metadata": {
        "id": "S15W48XEqpFb"
      },
      "source": [
        "A continuación, se procede a eliminar las 4 características mencionadas:"
      ]
    },
    {
      "cell_type": "code",
      "execution_count": 19,
      "metadata": {
        "id": "Qx1kbvncNqYp"
      },
      "outputs": [],
      "source": [
        "dataset.drop(['CALC','MTRANS','FCVC','family_history_with_overweight'], axis=1, inplace=True)"
      ]
    },
    {
      "cell_type": "markdown",
      "source": [
        "El conjunto de datos quedaría de la siguiente forma:"
      ],
      "metadata": {
        "id": "awsjq88dWYId"
      }
    },
    {
      "cell_type": "code",
      "execution_count": 20,
      "metadata": {
        "id": "OlGoMus4Nfyl",
        "colab": {
          "base_uri": "https://localhost:8080/",
          "height": 206
        },
        "outputId": "8e05abb7-0985-4d71-ff8b-c2a20b75e6df"
      },
      "outputs": [
        {
          "output_type": "execute_result",
          "data": {
            "text/plain": [
              "   Gender   Age  Height  Weight  FAVC  NCP  CAEC  SMOKE  CH2O  SCC  FAF  TUE  \\\n",
              "0       0  21.0    1.62    64.0     0  3.0     2      0   2.0    0  0.0  1.0   \n",
              "1       0  21.0    1.52    56.0     0  3.0     2      1   3.0    1  3.0  0.0   \n",
              "2       1  23.0    1.80    77.0     0  3.0     2      0   2.0    0  2.0  1.0   \n",
              "3       1  27.0    1.80    87.0     0  3.0     2      0   2.0    0  2.0  0.0   \n",
              "4       1  22.0    1.78    89.8     0  1.0     2      0   2.0    0  0.0  0.0   \n",
              "\n",
              "   NObeyesdad  \n",
              "0           1  \n",
              "1           1  \n",
              "2           1  \n",
              "3           5  \n",
              "4           6  "
            ],
            "text/html": [
              "\n",
              "  <div id=\"df-0ffc8c43-c31f-4286-a179-ea00dc4d3b33\">\n",
              "    <div class=\"colab-df-container\">\n",
              "      <div>\n",
              "<style scoped>\n",
              "    .dataframe tbody tr th:only-of-type {\n",
              "        vertical-align: middle;\n",
              "    }\n",
              "\n",
              "    .dataframe tbody tr th {\n",
              "        vertical-align: top;\n",
              "    }\n",
              "\n",
              "    .dataframe thead th {\n",
              "        text-align: right;\n",
              "    }\n",
              "</style>\n",
              "<table border=\"1\" class=\"dataframe\">\n",
              "  <thead>\n",
              "    <tr style=\"text-align: right;\">\n",
              "      <th></th>\n",
              "      <th>Gender</th>\n",
              "      <th>Age</th>\n",
              "      <th>Height</th>\n",
              "      <th>Weight</th>\n",
              "      <th>FAVC</th>\n",
              "      <th>NCP</th>\n",
              "      <th>CAEC</th>\n",
              "      <th>SMOKE</th>\n",
              "      <th>CH2O</th>\n",
              "      <th>SCC</th>\n",
              "      <th>FAF</th>\n",
              "      <th>TUE</th>\n",
              "      <th>NObeyesdad</th>\n",
              "    </tr>\n",
              "  </thead>\n",
              "  <tbody>\n",
              "    <tr>\n",
              "      <th>0</th>\n",
              "      <td>0</td>\n",
              "      <td>21.0</td>\n",
              "      <td>1.62</td>\n",
              "      <td>64.0</td>\n",
              "      <td>0</td>\n",
              "      <td>3.0</td>\n",
              "      <td>2</td>\n",
              "      <td>0</td>\n",
              "      <td>2.0</td>\n",
              "      <td>0</td>\n",
              "      <td>0.0</td>\n",
              "      <td>1.0</td>\n",
              "      <td>1</td>\n",
              "    </tr>\n",
              "    <tr>\n",
              "      <th>1</th>\n",
              "      <td>0</td>\n",
              "      <td>21.0</td>\n",
              "      <td>1.52</td>\n",
              "      <td>56.0</td>\n",
              "      <td>0</td>\n",
              "      <td>3.0</td>\n",
              "      <td>2</td>\n",
              "      <td>1</td>\n",
              "      <td>3.0</td>\n",
              "      <td>1</td>\n",
              "      <td>3.0</td>\n",
              "      <td>0.0</td>\n",
              "      <td>1</td>\n",
              "    </tr>\n",
              "    <tr>\n",
              "      <th>2</th>\n",
              "      <td>1</td>\n",
              "      <td>23.0</td>\n",
              "      <td>1.80</td>\n",
              "      <td>77.0</td>\n",
              "      <td>0</td>\n",
              "      <td>3.0</td>\n",
              "      <td>2</td>\n",
              "      <td>0</td>\n",
              "      <td>2.0</td>\n",
              "      <td>0</td>\n",
              "      <td>2.0</td>\n",
              "      <td>1.0</td>\n",
              "      <td>1</td>\n",
              "    </tr>\n",
              "    <tr>\n",
              "      <th>3</th>\n",
              "      <td>1</td>\n",
              "      <td>27.0</td>\n",
              "      <td>1.80</td>\n",
              "      <td>87.0</td>\n",
              "      <td>0</td>\n",
              "      <td>3.0</td>\n",
              "      <td>2</td>\n",
              "      <td>0</td>\n",
              "      <td>2.0</td>\n",
              "      <td>0</td>\n",
              "      <td>2.0</td>\n",
              "      <td>0.0</td>\n",
              "      <td>5</td>\n",
              "    </tr>\n",
              "    <tr>\n",
              "      <th>4</th>\n",
              "      <td>1</td>\n",
              "      <td>22.0</td>\n",
              "      <td>1.78</td>\n",
              "      <td>89.8</td>\n",
              "      <td>0</td>\n",
              "      <td>1.0</td>\n",
              "      <td>2</td>\n",
              "      <td>0</td>\n",
              "      <td>2.0</td>\n",
              "      <td>0</td>\n",
              "      <td>0.0</td>\n",
              "      <td>0.0</td>\n",
              "      <td>6</td>\n",
              "    </tr>\n",
              "  </tbody>\n",
              "</table>\n",
              "</div>\n",
              "      <button class=\"colab-df-convert\" onclick=\"convertToInteractive('df-0ffc8c43-c31f-4286-a179-ea00dc4d3b33')\"\n",
              "              title=\"Convert this dataframe to an interactive table.\"\n",
              "              style=\"display:none;\">\n",
              "        \n",
              "  <svg xmlns=\"http://www.w3.org/2000/svg\" height=\"24px\"viewBox=\"0 0 24 24\"\n",
              "       width=\"24px\">\n",
              "    <path d=\"M0 0h24v24H0V0z\" fill=\"none\"/>\n",
              "    <path d=\"M18.56 5.44l.94 2.06.94-2.06 2.06-.94-2.06-.94-.94-2.06-.94 2.06-2.06.94zm-11 1L8.5 8.5l.94-2.06 2.06-.94-2.06-.94L8.5 2.5l-.94 2.06-2.06.94zm10 10l.94 2.06.94-2.06 2.06-.94-2.06-.94-.94-2.06-.94 2.06-2.06.94z\"/><path d=\"M17.41 7.96l-1.37-1.37c-.4-.4-.92-.59-1.43-.59-.52 0-1.04.2-1.43.59L10.3 9.45l-7.72 7.72c-.78.78-.78 2.05 0 2.83L4 21.41c.39.39.9.59 1.41.59.51 0 1.02-.2 1.41-.59l7.78-7.78 2.81-2.81c.8-.78.8-2.07 0-2.86zM5.41 20L4 18.59l7.72-7.72 1.47 1.35L5.41 20z\"/>\n",
              "  </svg>\n",
              "      </button>\n",
              "      \n",
              "  <style>\n",
              "    .colab-df-container {\n",
              "      display:flex;\n",
              "      flex-wrap:wrap;\n",
              "      gap: 12px;\n",
              "    }\n",
              "\n",
              "    .colab-df-convert {\n",
              "      background-color: #E8F0FE;\n",
              "      border: none;\n",
              "      border-radius: 50%;\n",
              "      cursor: pointer;\n",
              "      display: none;\n",
              "      fill: #1967D2;\n",
              "      height: 32px;\n",
              "      padding: 0 0 0 0;\n",
              "      width: 32px;\n",
              "    }\n",
              "\n",
              "    .colab-df-convert:hover {\n",
              "      background-color: #E2EBFA;\n",
              "      box-shadow: 0px 1px 2px rgba(60, 64, 67, 0.3), 0px 1px 3px 1px rgba(60, 64, 67, 0.15);\n",
              "      fill: #174EA6;\n",
              "    }\n",
              "\n",
              "    [theme=dark] .colab-df-convert {\n",
              "      background-color: #3B4455;\n",
              "      fill: #D2E3FC;\n",
              "    }\n",
              "\n",
              "    [theme=dark] .colab-df-convert:hover {\n",
              "      background-color: #434B5C;\n",
              "      box-shadow: 0px 1px 3px 1px rgba(0, 0, 0, 0.15);\n",
              "      filter: drop-shadow(0px 1px 2px rgba(0, 0, 0, 0.3));\n",
              "      fill: #FFFFFF;\n",
              "    }\n",
              "  </style>\n",
              "\n",
              "      <script>\n",
              "        const buttonEl =\n",
              "          document.querySelector('#df-0ffc8c43-c31f-4286-a179-ea00dc4d3b33 button.colab-df-convert');\n",
              "        buttonEl.style.display =\n",
              "          google.colab.kernel.accessAllowed ? 'block' : 'none';\n",
              "\n",
              "        async function convertToInteractive(key) {\n",
              "          const element = document.querySelector('#df-0ffc8c43-c31f-4286-a179-ea00dc4d3b33');\n",
              "          const dataTable =\n",
              "            await google.colab.kernel.invokeFunction('convertToInteractive',\n",
              "                                                     [key], {});\n",
              "          if (!dataTable) return;\n",
              "\n",
              "          const docLinkHtml = 'Like what you see? Visit the ' +\n",
              "            '<a target=\"_blank\" href=https://colab.research.google.com/notebooks/data_table.ipynb>data table notebook</a>'\n",
              "            + ' to learn more about interactive tables.';\n",
              "          element.innerHTML = '';\n",
              "          dataTable['output_type'] = 'display_data';\n",
              "          await google.colab.output.renderOutput(dataTable, element);\n",
              "          const docLink = document.createElement('div');\n",
              "          docLink.innerHTML = docLinkHtml;\n",
              "          element.appendChild(docLink);\n",
              "        }\n",
              "      </script>\n",
              "    </div>\n",
              "  </div>\n",
              "  "
            ]
          },
          "metadata": {},
          "execution_count": 20
        }
      ],
      "source": [
        "dataset.head()"
      ]
    },
    {
      "cell_type": "markdown",
      "source": [
        "# 3. Modelado"
      ],
      "metadata": {
        "id": "sQON3bpkWi3A"
      }
    },
    {
      "cell_type": "markdown",
      "metadata": {
        "id": "iBWXogP_prIz"
      },
      "source": [
        "## 3.1. División de datos de entrenamiento y test"
      ]
    },
    {
      "cell_type": "code",
      "execution_count": 21,
      "metadata": {
        "id": "21_UF3vU2UOr"
      },
      "outputs": [],
      "source": [
        "#Separamos la data, en variables independientes (x) y dependientes (y), para poder entrenar el modelo de regresión\n",
        "X_train_val = dataset.drop(['NObeyesdad'], axis=1)\n",
        "y_train_val = dataset['NObeyesdad']"
      ]
    },
    {
      "cell_type": "markdown",
      "source": [
        "Decidieron utilizar el 80\\% de los datos para el entrenamiento y el 20\\% para la validación."
      ],
      "metadata": {
        "id": "MplTSoceXEEp"
      }
    },
    {
      "cell_type": "code",
      "execution_count": 22,
      "metadata": {
        "id": "2id7w0E6N88n"
      },
      "outputs": [],
      "source": [
        "# Dividimos la data en conjunto de \"entrenamiento\" y \"prueba\"\n",
        "X_train, X_val, y_train, y_val = train_test_split(X_train_val, y_train_val, test_size=0.2, random_state=0)"
      ]
    },
    {
      "cell_type": "code",
      "execution_count": 23,
      "metadata": {
        "colab": {
          "base_uri": "https://localhost:8080/"
        },
        "id": "mLWDrAbYMbkB",
        "outputId": "495d93d4-a5f8-46b0-9155-a5028ff3a0de"
      },
      "outputs": [
        {
          "output_type": "stream",
          "name": "stdout",
          "text": [
            "Train shape: (1688, 12)\n",
            "Test shape: (423, 12)\n"
          ]
        }
      ],
      "source": [
        "#12 características, observamos el tamaño actual de los datos de entrenamiento y de validación.\n",
        "print(f\"Train shape: {X_train.shape}\")\n",
        "print(f\"Test shape: {X_val.shape}\")"
      ]
    },
    {
      "cell_type": "markdown",
      "source": [
        "## 3.2. Modelo SVM Cúbico."
      ],
      "metadata": {
        "id": "NnhBkyyXa-Wf"
      }
    },
    {
      "cell_type": "markdown",
      "source": [
        "Decidieron utilizar el método **StandardScaler** para escalar los datos: siendo la media igual a 0 y la varianza igual a 1."
      ],
      "metadata": {
        "id": "DT21HGv0Ytqo"
      }
    },
    {
      "cell_type": "code",
      "execution_count": 24,
      "metadata": {
        "id": "hevhZRX7OCsY"
      },
      "outputs": [],
      "source": [
        "# Se crea un objeto de la clase StandardScaler de la librería scikit-learn.\n",
        "scaler = StandardScaler()\n",
        "\n",
        "X_train_scal = scaler.fit_transform(X_train) #Escalar los datos de entrenamiento\n",
        "X_val_scal = scaler.fit_transform(X_val) #Escalar los datos de prueba"
      ]
    },
    {
      "cell_type": "markdown",
      "metadata": {
        "id": "-vMUuyzqkACo"
      },
      "source": [
        "Se considera valor **C=10 y gamma=50**."
      ]
    },
    {
      "cell_type": "code",
      "execution_count": 25,
      "metadata": {
        "id": "lzrb4y1mjryx",
        "colab": {
          "base_uri": "https://localhost:8080/"
        },
        "outputId": "64fa08f2-044a-47ee-a06f-34c19fb926b3"
      },
      "outputs": [
        {
          "output_type": "stream",
          "name": "stdout",
          "text": [
            "promedio Validación cruzada k=10:  0.8928043110735417\n",
            "Varianza de SVM Cúbico:  0.031750143766294425\n",
            "Exactitud en el conjunto de entrenamiento: 1.0000\n",
            "Exactitud en el conjunto de validación: 0.8794\n"
          ]
        }
      ],
      "source": [
        "# Tomado de notebook trabajado en clase \"SVM - Ejercicio.ipynb\"\n",
        "from sklearn import svm\n",
        "#Importa la función accuracy_score del módulo sklearn.metrics, que se utilizará para calcular la precisión del modelo.\n",
        "from sklearn.metrics import accuracy_score\n",
        "\n",
        "# Crea una instancia del clasificador SVM utilizando el kernel cúbico.\n",
        "model = svm.SVC(kernel='poly', degree=3,C=10, gamma=50)\n",
        "\n",
        "# Entrenamiento del clasificador\n",
        "model.fit(X_train_scal, y_train)\n",
        "\n",
        "# Realizar predicciones en el conjunto de prueba\n",
        "y_pred = model.predict(X_val_scal)\n",
        "\n",
        "#Realiza una validación cruzada de 10 divisiones utilizando el modelo SVM y los datos de entrenamiento escalados.\n",
        "cv = cross_val_score(estimator = model, X = X_train_scal, y = y_train, cv = 10)\n",
        "\n",
        "#Calcula la media de las puntuaciones de rendimiento obtenidas en la validación cruzada.\n",
        "cvForest = cv.mean()\n",
        "# Calcula la desviación estándar de las puntuaciones de rendimiento obtenidas en la validación cruzada.\n",
        "stdForest = cv.std()\n",
        "\n",
        "\n",
        "print(\"promedio Validación cruzada k=10: \", cvForest)\n",
        "print('Varianza de SVM Cúbico: ',stdForest)\n",
        "print ('Exactitud en el conjunto de entrenamiento: %0.4f' % model.score(X_train_scal, y_train))\n",
        "print ('Exactitud en el conjunto de validación: %0.4f' % model.score(X_val_scal, y_val))"
      ]
    },
    {
      "cell_type": "markdown",
      "source": [
        "Se tiene una exactitud muy alta en el conjunto de entrenamiento (1.0000), sin embargo la exactitud es bastante menor en el conjunto de validación (0.8794). Este es un síntoma claro de sobreajuste (overfitting).\n",
        "\n"
      ],
      "metadata": {
        "id": "MV6GfNQKg4Vz"
      }
    },
    {
      "cell_type": "markdown",
      "metadata": {
        "id": "6jlVyH-FlP0n"
      },
      "source": [
        "Por ello, se va a determinar valores óptimos para C y γ que nos brinden una mejor generalización, es necesario probar con diferentes valores, ajustando el modelo en el conjunto de entrenamiento y probando su rendimiento en el conjunto de validación."
      ]
    },
    {
      "cell_type": "code",
      "execution_count": 26,
      "metadata": {
        "id": "l-9wFtVQlShu",
        "colab": {
          "base_uri": "https://localhost:8080/"
        },
        "outputId": "e6bb9ba0-d26f-41d6-c057-6632b2ce2d2e"
      },
      "outputs": [
        {
          "output_type": "stream",
          "name": "stdout",
          "text": [
            "Mejor valor de C: 0.0316\n",
            "Mejor valor de gamma: 1.0000\n",
            "Exactitud en el conjunto de entrenamiento: 0.9929\n",
            "Exactitud en el conjunto de validación: 0.8889\n",
            "promedio Validación cruzada k=10:  0.889845731191885\n"
          ]
        }
      ],
      "source": [
        "# Tomado de notebook trabajado en clase \"SVM - Ejercicio.ipynb\"\n",
        "from sklearn import svm\n",
        "#Importa la función accuracy_score del módulo sklearn.metrics, que se utilizará para calcular la precisión del modelo.\n",
        "from sklearn.metrics import accuracy_score\n",
        "\n",
        "#Crea una lista de valores de hiperparámetro C utilizando la función logspace de NumPy. En este caso, se generan 9 valores equiespaciados en una escala logarítmica desde 0.01 hasta 100.\n",
        "Cs = np.logspace(-2,2,9)  # ~ [0.01, 0.03, 0.1, ..., 100]\n",
        "#Crea una lista de valores de hiperparámetro gamma de manera similar a la lista de valores de C.\n",
        "gammas = np.logspace(-4,4,9)  # [0.0001, 0.001, ..., 10000]\n",
        "\n",
        "mejor_modelo = None\n",
        "mejor_score = 0\n",
        "for C in Cs:\n",
        "    for gamma in gammas:\n",
        "        #Crea una instancia del clasificador SVM con kernel cúbic\n",
        "        model = svm.SVC(kernel='poly', degree=3, C=C, gamma=gamma)\n",
        "        model.fit(X_train_scal, y_train)\n",
        "\n",
        "        # Calcula el puntaje de precisión del modelo en el conjunto de validación.\n",
        "        score_val = model.score(X_val_scal, y_val)\n",
        "\n",
        "        #Compara el puntaje de precisión actual con el mejor puntaje encontrado hasta ahora.\n",
        "        if score_val > mejor_score:\n",
        "            mejor_score = score_val\n",
        "            mejor_modelo = model\n",
        "\n",
        "#Realiza una validación cruzada de 10 divisiones utilizando el mejor modelo encontrado.\n",
        "cv = cross_val_score(estimator = mejor_modelo, X = X_train_scal, y = y_train, cv = 10)\n",
        "#Calcula la media de los puntajes de validación cruzada obtenidos.\n",
        "cvForest = cv.mean()\n",
        "\n",
        "print ('Mejor valor de C: %0.4f' % mejor_modelo.get_params()['C'])\n",
        "print ('Mejor valor de gamma: %0.4f' % mejor_modelo.get_params()['gamma'])\n",
        "print ('Exactitud en el conjunto de entrenamiento: %0.4f' % mejor_modelo.score(X_train_scal, y_train))\n",
        "print ('Exactitud en el conjunto de validación: %0.4f' % mejor_modelo.score(X_val_scal, y_val))\n",
        "print(\"promedio Validación cruzada k=10: \", cvForest)\n"
      ]
    },
    {
      "cell_type": "markdown",
      "source": [
        "Ahora, se realizará el entrenamiento con los mejores valores, siendo  **C=0.0316 y gamma=1.**"
      ],
      "metadata": {
        "id": "VdMzLVm_tcPD"
      }
    },
    {
      "cell_type": "code",
      "source": [
        "# Tomado de notebook trabajado en clase \"SVM - Ejercicio.ipynb\"\n",
        "from sklearn import svm\n",
        "#Importa la función accuracy_score del módulo sklearn.metrics, que se utilizará para calcular la precisión del modelo.\n",
        "from sklearn.metrics import accuracy_score\n",
        "\n",
        "# Crea una instancia del clasificador SVM utilizando el kernel cúbico.\n",
        "model = svm.SVC(kernel='poly', degree=3,C=0.0316, gamma=1)\n",
        "\n",
        "# Entrenamiento del clasificador\n",
        "model.fit(X_train_scal, y_train)\n",
        "\n",
        "# Realizar predicciones en el conjunto de prueba\n",
        "y_pred = model.predict(X_val_scal)\n",
        "\n",
        "#Realiza una validación cruzada de 10 divisiones utilizando el modelo SVM y los datos de entrenamiento escalados.\n",
        "cv = cross_val_score(estimator = model, X = X_train_scal, y = y_train, cv = 10)\n",
        "\n",
        "#Calcula la media de las puntuaciones de rendimiento obtenidas en la validación cruzada.\n",
        "cvForest = cv.mean()\n",
        "# Calcula la desviación estándar de las puntuaciones de rendimiento obtenidas en la validación cruzada.\n",
        "stdForest = cv.std()\n",
        "\n",
        "\n",
        "print(\"promedio Validación cruzada k=10: \", cvForest)\n",
        "print('Varianza de SVM Cúbico: ',stdForest)\n",
        "print ('Exactitud en el conjunto de entrenamiento: %0.4f' % model.score(X_train_scal, y_train))\n",
        "print ('Exactitud en el conjunto de validación: %0.4f' % model.score(X_val_scal, y_val))"
      ],
      "metadata": {
        "colab": {
          "base_uri": "https://localhost:8080/"
        },
        "id": "tUZZodJ7tbaH",
        "outputId": "edcf5688-a986-48f4-ea25-728440f3c079"
      },
      "execution_count": 27,
      "outputs": [
        {
          "output_type": "stream",
          "name": "stdout",
          "text": [
            "promedio Validación cruzada k=10:  0.889845731191885\n",
            "Varianza de SVM Cúbico:  0.026654837637503745\n",
            "Exactitud en el conjunto de entrenamiento: 0.9929\n",
            "Exactitud en el conjunto de validación: 0.8889\n"
          ]
        }
      ]
    },
    {
      "cell_type": "markdown",
      "source": [
        "# 4. Evaluación de Resultados"
      ],
      "metadata": {
        "id": "gSQW35O0mLvB"
      }
    },
    {
      "cell_type": "markdown",
      "metadata": {
        "id": "Oy6qbHr7ldnR"
      },
      "source": [
        "## 4.1. Matriz de confusión"
      ]
    },
    {
      "cell_type": "markdown",
      "source": [
        "Para la evaluación del modelo usaremos la matriz de confusión ya que proporciona información detallada sobre los aciertos y errores del modelo."
      ],
      "metadata": {
        "id": "bg5Y8n1gvJhj"
      }
    },
    {
      "cell_type": "code",
      "source": [
        "cm = confusion_matrix(y_val, y_pred, labels=model.classes_)\n",
        "disp = ConfusionMatrixDisplay(confusion_matrix=cm, display_labels=model.classes_)\n",
        "disp.plot()"
      ],
      "metadata": {
        "colab": {
          "base_uri": "https://localhost:8080/",
          "height": 471
        },
        "id": "hafjVBHxu7uw",
        "outputId": "d1977bbc-cd0c-406e-d7f5-ba201b77aa1e"
      },
      "execution_count": 29,
      "outputs": [
        {
          "output_type": "execute_result",
          "data": {
            "text/plain": [
              "<sklearn.metrics._plot.confusion_matrix.ConfusionMatrixDisplay at 0x7f85d5d2c5b0>"
            ]
          },
          "metadata": {},
          "execution_count": 29
        },
        {
          "output_type": "display_data",
          "data": {
            "text/plain": [
              "<Figure size 640x480 with 2 Axes>"
            ],
            "image/png": "[encoded data removed]"
          },
          "metadata": {}
        }
      ]
    },
    {
      "cell_type": "markdown",
      "source": [
        "Como conclusión se obtuvo una exactitud en el conjunto de validación de **0.8889** usando el modelo **SVM Cubic**, con 12 características."
      ],
      "metadata": {
        "id": "EWze3Drkvioa"
      }
    },
    {
      "cell_type": "markdown",
      "source": [
        "# Referencias:"
      ],
      "metadata": {
        "id": "vwZXYsU6eK8m"
      }
    },
    {
      "cell_type": "markdown",
      "source": [
        "1. Celik, Y., Guney, S., & Dengiz, B. (2021). Obesity level estimation based on machine learning methods and artificial neural networks. En 44th International Conference on Telecommunications and Signal Processing (TSP), páginas 329-332. IEEE."
      ],
      "metadata": {
        "id": "aAKulcobgZ60"
      }
    },
    {
      "cell_type": "code",
      "source": [],
      "metadata": {
        "id": "hqEGZKpKhXWt"
      },
      "execution_count": null,
      "outputs": []
    },
    {
      "cell_type": "markdown",
      "metadata": {
        "id": "jMTjGH7DOfJJ"
      },
      "source": [
        "# Ensamble por votación manual"
      ]
    },
    {
      "cell_type": "code",
      "execution_count": null,
      "metadata": {
        "colab": {
          "base_uri": "https://localhost:8080/"
        },
        "id": "6G4EQq9fOgCG",
        "outputId": "32211fe8-6bb1-4fc8-a9d7-8fd365ffe2da"
      },
      "outputs": [
        {
          "name": "stdout",
          "output_type": "stream",
          "text": [
            "Exactitud de Random Forest            : Entrenamiento 1.000 || Pruebas 0.953\n",
            "Exactitud de SVM Cubic                : Entrenamiento 1.000 || Pruebas 0.896\n",
            "Exactitud de árbol de decisión        : Entrenamiento 0.803 || Pruebas 0.785\n",
            "Exactitud de k-NN                     : Entrenamiento 0.837 || Pruebas 0.766\n",
            "Exactitud de SVM de kernel gaussiano  : Entrenamiento 0.927 || Pruebas 0.896\n",
            "Exactitud de ensamble                 : Entrenamiento 0.993 || Validación 0.931\n"
          ]
        }
      ],
      "source": [
        "from sklearn.tree import DecisionTreeClassifier\n",
        "from sklearn.neighbors import KNeighborsClassifier\n",
        "from sklearn.ensemble import RandomForestClassifier\n",
        "from sklearn.svm import SVC\n",
        "from sklearn.ensemble import VotingClassifier\n",
        "from sklearn.pipeline import make_pipeline\n",
        "from sklearn.preprocessing import StandardScaler\n",
        "from sklearn import svm\n",
        "\n",
        "estimators = [\n",
        "     ('Random Forest', make_pipeline(StandardScaler(), RandomForestClassifier(oob_score = True, random_state=42))),\n",
        "     ('SVM Cubic', make_pipeline(StandardScaler(),svm.SVC(kernel='poly', degree=3,C=10, gamma=50,probability=True))),\n",
        "\n",
        "     ('árbol de decisión', DecisionTreeClassifier(max_depth=4)),\n",
        "     ('k-NN', make_pipeline(StandardScaler(),\n",
        "                            KNeighborsClassifier(n_neighbors=7) )),\n",
        "     ('SVM de kernel gaussiano', make_pipeline(StandardScaler(),\n",
        "                                               SVC(kernel='rbf', probability=True) ))\n",
        "]\n",
        "\n",
        "ensamble = VotingClassifier(estimators=estimators,\n",
        "                        voting='soft', weights=[3,2,2, 1, 2])\n",
        "ensamble.fit(X_train, y_train)\n",
        "\n",
        "for (name, estimator) in ensamble.named_estimators_.items():\n",
        "  print(f'Exactitud de {name: <25}: Entrenamiento {estimator.score(X_train, y_train):.03f} || Pruebas {estimator.score(X_val, y_val):.03f}',  )\n",
        "\n",
        "print(f'Exactitud de {\"ensamble\": <25}: Entrenamiento {ensamble.score(X_train, y_train):.03f} || Validación {ensamble.score(X_val, y_val):.03f}' )"
      ]
    },
    {
      "cell_type": "markdown",
      "metadata": {
        "id": "LwsGrEsqlYi-"
      },
      "source": [
        "**RandomForest con data escalada: OOB (Bagging)**"
      ]
    },
    {
      "cell_type": "code",
      "execution_count": null,
      "metadata": {
        "id": "pTVEtn3FlYIW"
      },
      "outputs": [],
      "source": [
        "from sklearn.ensemble import RandomForestClassifier\n",
        "from sklearn.metrics import accuracy_score\n",
        "\n",
        "rf = RandomForestClassifier(oob_score = True,random_state=42)\n",
        "rf.fit(X_train_scal, y_train)\n",
        "\n",
        "y_pred = rf.predict(X_val_scal) #Hacemos predicciones sobre el conjunto de test\n",
        "\n",
        "cv = cross_val_score(estimator = rf, X = X_train_scal, y = y_train, cv = 10) #metodo para obtener la precisión\n",
        "cvForest = cv.mean()\n",
        "stdForest = cv.std()\n",
        "print('Exactitud del modelo inicial en entrenamiento:', rf.score(X_train_scal, y_train))\n",
        "print('Exactitud del modelo inicial en entrenamiento (Out of Bag):', rf.oob_score_)\n",
        "print('Exactitud del modelo inicial en validación:', rf.score(X_val_scal, y_val))\n",
        "print(\"promedio Validación cruzada Random Forest: \", cvForest)\n",
        "print('Varianza de Random Forest: ',stdForest)"
      ]
    },
    {
      "cell_type": "code",
      "execution_count": 28,
      "metadata": {
        "id": "pojz0OEWlexP",
        "colab": {
          "base_uri": "https://localhost:8080/",
          "height": 471
        },
        "outputId": "e920c6c6-b7d4-4be3-bd5e-d3c4e45d0802"
      },
      "outputs": [
        {
          "output_type": "execute_result",
          "data": {
            "text/plain": [
              "<sklearn.metrics._plot.confusion_matrix.ConfusionMatrixDisplay at 0x7f85d8a3bc70>"
            ]
          },
          "metadata": {},
          "execution_count": 28
        },
        {
          "output_type": "display_data",
          "data": {
            "text/plain": [
              "<Figure size 640x480 with 2 Axes>"
            ],
            "image/png": "[encoded data removed]"
          },
          "metadata": {}
        }
      ],
      "source": [
        "cm = confusion_matrix(y_val, y_pred, labels=model.classes_)\n",
        "disp = ConfusionMatrixDisplay(confusion_matrix=cm, display_labels=model.classes_)\n",
        "disp.plot()"
      ]
    },
    {
      "cell_type": "markdown",
      "metadata": {
        "id": "qFGo8cnmljp_"
      },
      "source": [
        "# Importancia de la características"
      ]
    },
    {
      "cell_type": "code",
      "execution_count": null,
      "metadata": {
        "id": "Kl8cuAq9llfH"
      },
      "outputs": [],
      "source": [
        "feature_names = X_train_val.columns.values\n",
        "tree_feature_importances = rf.feature_importances_\n",
        "sorted_idx = tree_feature_importances.argsort()\n",
        "\n",
        "y_ticks = np.arange(0, len(feature_names))\n",
        "fig, ax = plt.subplots()\n",
        "ax.barh(y_ticks, tree_feature_importances[sorted_idx])\n",
        "ax.set_yticklabels(feature_names[sorted_idx])\n",
        "ax.set_yticks(y_ticks)\n",
        "ax.set_title(\"Importancia de características\")\n",
        "fig.tight_layout()\n",
        "plt.show()"
      ]
    },
    {
      "cell_type": "markdown",
      "metadata": {
        "id": "627BpNVAlygY"
      },
      "source": [
        "** Estrategia De Validación A Emplear Para El Ajuste De Hiperparámetros.**"
      ]
    },
    {
      "cell_type": "markdown",
      "metadata": {
        "id": "K4bq0mhil1QP"
      },
      "source": [
        "Los principales hiperparámetros de Random Forest son:\n",
        "\n",
        "n_estimators -- el número de modelos base (árboles) a entrenar\n",
        "max_features -- el número de características a considerar en cada partición de los árboles\n",
        "max_depth -- la profundidad máxima de los árboles\n",
        "min_samples_leaf -- el numero mínimo de muestras que deben quedar en cada hoja del árbol\n",
        "Para identificar los mejores valores de los hiperparámetros usaremos primero búsqueda aleatoria y luego búsqueda en grilla."
      ]
    },
    {
      "cell_type": "code",
      "execution_count": null,
      "metadata": {
        "id": "zipsCni_lzc_"
      },
      "outputs": [],
      "source": [
        "from pprint import pprint\n",
        "import numpy as np\n",
        "\n",
        "n_estimators = [int(x) for x in np.linspace(start = 200, stop = 2000, num = 10)]\n",
        "max_features = ['auto', 8, 10, 12, None]  # 'auto' equivale a 'sqrt'; None equivale a todas las 15\n",
        "max_depth = [int(x) for x in np.linspace(10, 110, num = 11)] + [None]\n",
        "min_samples_leaf = [1, 2, 4]\n",
        "\n",
        "random_grid = {'n_estimators': n_estimators,\n",
        "               'max_features': max_features,\n",
        "               'max_depth': max_depth,\n",
        "               'min_samples_leaf': min_samples_leaf}\n",
        "\n",
        "print('Los valores a probar en la búsqueda aleatoria son:')\n",
        "pprint(random_grid)\n",
        "\n",
        "print()\n",
        "print('Si se probara todas las combinaciones se requeriría entrenar',\n",
        "      len(random_grid['n_estimators']) *\n",
        "      len(random_grid['max_features']) *\n",
        "      len(random_grid['max_depth']) *\n",
        "      len(random_grid['min_samples_leaf']),\n",
        "      'modelos'\n",
        "      )"
      ]
    },
    {
      "cell_type": "markdown",
      "metadata": {
        "id": "6N1smKxOl6ZW"
      },
      "source": [
        "Probaremos entrenando sólo un 1% de las combinaciones posibles, es decir, 18. (Se recomienda probar al menos un 10%)"
      ]
    },
    {
      "cell_type": "code",
      "execution_count": null,
      "metadata": {
        "id": "-vS_gyzLl494"
      },
      "outputs": [],
      "source": [
        "from sklearn.model_selection import RandomizedSearchCV\n",
        "\n",
        "rf = RandomForestClassifier(oob_score=True)\n",
        "rf_random = RandomizedSearchCV(estimator = rf,\n",
        "                               param_distributions = random_grid,\n",
        "                               n_iter = 18,\n",
        "                               cv = 10,          # Validación cruzada 10-fold\n",
        "                               verbose=2,\n",
        "                               random_state=0,\n",
        "                               n_jobs = -1      # Paralelizar en todos los cores disponibles\n",
        "                               )\n",
        "rf_random.fit(X_train_scal, y_train)"
      ]
    },
    {
      "cell_type": "code",
      "execution_count": null,
      "metadata": {
        "id": "mBCgmYUzl8CI"
      },
      "outputs": [],
      "source": [
        "rf_random_best = rf_random.best_estimator_\n",
        "\n",
        "print('Los hiperparámetros del mejor modelo son:')\n",
        "pprint(rf_random.best_params_)\n",
        "print()\n",
        "\n",
        "print('Exactitud luego de búsqueda aleatoria en entrenamiento:', rf_random_best.score(X_train_scal, y_train))\n",
        "print('Exactitud luego de búsqueda aleatoria en entrenamiento (Out of Bag):', rf_random_best.oob_score_)\n",
        "print('Exactitud luego de búsqueda aleatoria en validación:', rf_random_best.score(X_val_scal, y_val))"
      ]
    },
    {
      "cell_type": "markdown",
      "source": [
        "Para la evaluación de resultados de pruebas usaron validación cruzada, determinando k=10"
      ],
      "metadata": {
        "id": "mwJmqWM7mRCr"
      }
    },
    {
      "cell_type": "markdown",
      "source": [
        "Matriz de confusión."
      ],
      "metadata": {
        "id": "_QZW3MjyhiTy"
      }
    },
    {
      "cell_type": "code",
      "source": [
        "from sklearn.metrics import confusion_matrix\n",
        "import seaborn as sns\n",
        "\n",
        "cf_matrix = confusion_matrix(y_test, pred, normalize='true')\n",
        "plt.figure(figsize = (15,10))\n",
        "sns.heatmap(cf_matrix,\n",
        "            annot=True,\n",
        "            xticklabels = sorted(set(y_test)),\n",
        "            yticklabels = sorted(set(y_test)),\n",
        "            )\n",
        "plt.title('Normalized Confusion Matrix')\n",
        "plt.show()"
      ],
      "metadata": {
        "id": "X490MTtct0jH"
      },
      "execution_count": null,
      "outputs": []
    }
  ],
  "metadata": {
    "colab": {
      "provenance": [],
      "collapsed_sections": [
        "whxdbvYcQxQH",
        "oWxwiH_qkdgg",
        "f5g63kzTTYeZ",
        "qwscAKOPmwLe",
        "iBWXogP_prIz",
        "vwZXYsU6eK8m",
        "qFGo8cnmljp_"
      ],
      "include_colab_link": true
    },
    "kernelspec": {
      "display_name": "Python 3",
      "name": "python3"
    },
    "language_info": {
      "name": "python"
    }
  },
  "nbformat": 4,
  "nbformat_minor": 0
}