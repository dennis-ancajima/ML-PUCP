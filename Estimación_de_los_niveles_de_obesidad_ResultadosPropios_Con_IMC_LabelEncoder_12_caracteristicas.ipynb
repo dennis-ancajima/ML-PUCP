{
  "nbformat": 4,
  "nbformat_minor": 0,
  "metadata": {
    "colab": {
      "provenance": [],
      "collapsed_sections": [
        "NHnmFv1EnbRs"
      ],
      "include_colab_link": true
    },
    "kernelspec": {
      "name": "python3",
      "display_name": "Python 3"
    },
    "language_info": {
      "name": "python"
    }
  },
  "cells": [
    {
      "cell_type": "markdown",
      "metadata": {
        "id": "view-in-github",
        "colab_type": "text"
      },
      "source": [
        "<a href=\"https://colab.research.google.com/github/dennis-ancajima/ML-PUCP/blob/main/Estimaci%C3%B3n_de_los_niveles_de_obesidad_ResultadosPropios_Con_IMC_LabelEncoder_12_caracteristicas.ipynb\" target=\"_parent\"><img src=\"https://colab.research.google.com/assets/colab-badge.svg\" alt=\"Open In Colab\"/></a>"
      ]
    },
    {
      "cell_type": "markdown",
      "source": [],
      "metadata": {
        "id": "hyoIy0mwOmv8"
      }
    },
    {
      "cell_type": "code",
      "execution_count": 1,
      "metadata": {
        "id": "RHGd0csCY-PM"
      },
      "outputs": [],
      "source": [
        "import pandas as pd\n",
        "import numpy as np\n",
        "import seaborn as sns\n",
        "import matplotlib.pyplot as plt\n",
        "from sklearn.model_selection import train_test_split\n",
        "from sklearn.metrics import mean_squared_error,accuracy_score, roc_curve, roc_auc_score, confusion_matrix, ConfusionMatrixDisplay, classification_report\n",
        "from sklearn.base import clone\n",
        "from sklearn.preprocessing import StandardScaler\n",
        "import seaborn as sns #Libreria para gráficar\n",
        "from sklearn.model_selection import cross_val_score\n",
        "from google.colab import drive\n",
        "\n",
        "pd.set_option(\"display.max_columns\", 50)\n",
        "\n",
        "%matplotlib inline\n",
        "plt.style.use('ggplot')"
      ]
    },
    {
      "cell_type": "code",
      "source": [
        "#Lectura del dataset\n",
        "file_name = \"ObesityDataSet_raw_and_data_sinthetic.csv\"\n",
        "\n",
        "#El método \"read_csv\" nos permite leer un excel\n",
        "dataset = pd.read_csv(file_name)"
      ],
      "metadata": {
        "id": "NGcBx_HLkJZU"
      },
      "execution_count": 2,
      "outputs": []
    },
    {
      "cell_type": "markdown",
      "source": [
        "# 1. Conjunto de datos"
      ],
      "metadata": {
        "id": "9wvuqyf2UaFK"
      }
    },
    {
      "cell_type": "markdown",
      "source": [
        "Los atributos relacionados con los hábitos alimentarios son:\n",
        "1. Consumo frecuente de alimentos hipercalóricos (FAVC),\n",
        "2. Frecuencia de consumo de vegetales (FCVC),\n",
        "3. Número de comidas principales (NCP),\n",
        "4. Consumo de alimentos entre comidas (CAEC),\n",
        "5. Consumo de agua diario (CH20 )\n",
        "6. Consumo de alcohol (CALC).\n",
        "\n",
        "Los atributos relacionados con la condición física son:\n",
        "7. Monitoreo del consumo de calorías (SCC),\n",
        "8. Frecuencia de actividad física (FAF),\n",
        "9. Tiempo de uso de dispositivos tecnológicos (TUE),\n",
        "10. Transporte utilizado (MTRANS),\n",
        "\n",
        "otras variables obtenidas fueron:\n",
        "11. Sexo\n",
        "12. Edad\n",
        "13. Altura\n",
        "14. Peso\n",
        "15. Es Fumador (smoke)\n",
        "16. Tiene Familiar con sobrepeso (family_history_with_overweight)\n",
        "\n",
        "Finalmente, todos los datos fueron rotulados y se creó la variable de clase\n",
        "17. NObesidad con los valores de: Peso Insuficiente, Peso Normal, Sobrepeso Nivel I, Sobrepeso Nivel II, Obesidad Tipo I, Obesidad Tipo II y Obesidad Tipo III, con base en la Ecuación (1 )e información de la OMS y la Normatividad Mexicana."
      ],
      "metadata": {
        "id": "J6W0GFr5UKvN"
      }
    },
    {
      "cell_type": "code",
      "source": [
        "dataset.head()"
      ],
      "metadata": {
        "colab": {
          "base_uri": "https://localhost:8080/",
          "height": 206
        },
        "id": "m89XTN2olcTD",
        "outputId": "b2e330d7-81c7-4d78-a570-e3b55c017c6a"
      },
      "execution_count": 3,
      "outputs": [
        {
          "output_type": "execute_result",
          "data": {
            "text/plain": [
              "   Gender   Age  Height  Weight family_history_with_overweight FAVC  FCVC  \\\n",
              "0  Female  21.0    1.62    64.0                            yes   no   2.0   \n",
              "1  Female  21.0    1.52    56.0                            yes   no   3.0   \n",
              "2    Male  23.0    1.80    77.0                            yes   no   2.0   \n",
              "3    Male  27.0    1.80    87.0                             no   no   3.0   \n",
              "4    Male  22.0    1.78    89.8                             no   no   2.0   \n",
              "\n",
              "   NCP       CAEC SMOKE  CH2O  SCC  FAF  TUE        CALC  \\\n",
              "0  3.0  Sometimes    no   2.0   no  0.0  1.0          no   \n",
              "1  3.0  Sometimes   yes   3.0  yes  3.0  0.0   Sometimes   \n",
              "2  3.0  Sometimes    no   2.0   no  2.0  1.0  Frequently   \n",
              "3  3.0  Sometimes    no   2.0   no  2.0  0.0  Frequently   \n",
              "4  1.0  Sometimes    no   2.0   no  0.0  0.0   Sometimes   \n",
              "\n",
              "                  MTRANS           NObeyesdad  \n",
              "0  Public_Transportation        Normal_Weight  \n",
              "1  Public_Transportation        Normal_Weight  \n",
              "2  Public_Transportation        Normal_Weight  \n",
              "3                Walking   Overweight_Level_I  \n",
              "4  Public_Transportation  Overweight_Level_II  "
            ],
            "text/html": [
              "\n",
              "  <div id=\"df-12bc2e0b-ed8a-45dd-bb77-226f1ac00477\">\n",
              "    <div class=\"colab-df-container\">\n",
              "      <div>\n",
              "<style scoped>\n",
              "    .dataframe tbody tr th:only-of-type {\n",
              "        vertical-align: middle;\n",
              "    }\n",
              "\n",
              "    .dataframe tbody tr th {\n",
              "        vertical-align: top;\n",
              "    }\n",
              "\n",
              "    .dataframe thead th {\n",
              "        text-align: right;\n",
              "    }\n",
              "</style>\n",
              "<table border=\"1\" class=\"dataframe\">\n",
              "  <thead>\n",
              "    <tr style=\"text-align: right;\">\n",
              "      <th></th>\n",
              "      <th>Gender</th>\n",
              "      <th>Age</th>\n",
              "      <th>Height</th>\n",
              "      <th>Weight</th>\n",
              "      <th>family_history_with_overweight</th>\n",
              "      <th>FAVC</th>\n",
              "      <th>FCVC</th>\n",
              "      <th>NCP</th>\n",
              "      <th>CAEC</th>\n",
              "      <th>SMOKE</th>\n",
              "      <th>CH2O</th>\n",
              "      <th>SCC</th>\n",
              "      <th>FAF</th>\n",
              "      <th>TUE</th>\n",
              "      <th>CALC</th>\n",
              "      <th>MTRANS</th>\n",
              "      <th>NObeyesdad</th>\n",
              "    </tr>\n",
              "  </thead>\n",
              "  <tbody>\n",
              "    <tr>\n",
              "      <th>0</th>\n",
              "      <td>Female</td>\n",
              "      <td>21.0</td>\n",
              "      <td>1.62</td>\n",
              "      <td>64.0</td>\n",
              "      <td>yes</td>\n",
              "      <td>no</td>\n",
              "      <td>2.0</td>\n",
              "      <td>3.0</td>\n",
              "      <td>Sometimes</td>\n",
              "      <td>no</td>\n",
              "      <td>2.0</td>\n",
              "      <td>no</td>\n",
              "      <td>0.0</td>\n",
              "      <td>1.0</td>\n",
              "      <td>no</td>\n",
              "      <td>Public_Transportation</td>\n",
              "      <td>Normal_Weight</td>\n",
              "    </tr>\n",
              "    <tr>\n",
              "      <th>1</th>\n",
              "      <td>Female</td>\n",
              "      <td>21.0</td>\n",
              "      <td>1.52</td>\n",
              "      <td>56.0</td>\n",
              "      <td>yes</td>\n",
              "      <td>no</td>\n",
              "      <td>3.0</td>\n",
              "      <td>3.0</td>\n",
              "      <td>Sometimes</td>\n",
              "      <td>yes</td>\n",
              "      <td>3.0</td>\n",
              "      <td>yes</td>\n",
              "      <td>3.0</td>\n",
              "      <td>0.0</td>\n",
              "      <td>Sometimes</td>\n",
              "      <td>Public_Transportation</td>\n",
              "      <td>Normal_Weight</td>\n",
              "    </tr>\n",
              "    <tr>\n",
              "      <th>2</th>\n",
              "      <td>Male</td>\n",
              "      <td>23.0</td>\n",
              "      <td>1.80</td>\n",
              "      <td>77.0</td>\n",
              "      <td>yes</td>\n",
              "      <td>no</td>\n",
              "      <td>2.0</td>\n",
              "      <td>3.0</td>\n",
              "      <td>Sometimes</td>\n",
              "      <td>no</td>\n",
              "      <td>2.0</td>\n",
              "      <td>no</td>\n",
              "      <td>2.0</td>\n",
              "      <td>1.0</td>\n",
              "      <td>Frequently</td>\n",
              "      <td>Public_Transportation</td>\n",
              "      <td>Normal_Weight</td>\n",
              "    </tr>\n",
              "    <tr>\n",
              "      <th>3</th>\n",
              "      <td>Male</td>\n",
              "      <td>27.0</td>\n",
              "      <td>1.80</td>\n",
              "      <td>87.0</td>\n",
              "      <td>no</td>\n",
              "      <td>no</td>\n",
              "      <td>3.0</td>\n",
              "      <td>3.0</td>\n",
              "      <td>Sometimes</td>\n",
              "      <td>no</td>\n",
              "      <td>2.0</td>\n",
              "      <td>no</td>\n",
              "      <td>2.0</td>\n",
              "      <td>0.0</td>\n",
              "      <td>Frequently</td>\n",
              "      <td>Walking</td>\n",
              "      <td>Overweight_Level_I</td>\n",
              "    </tr>\n",
              "    <tr>\n",
              "      <th>4</th>\n",
              "      <td>Male</td>\n",
              "      <td>22.0</td>\n",
              "      <td>1.78</td>\n",
              "      <td>89.8</td>\n",
              "      <td>no</td>\n",
              "      <td>no</td>\n",
              "      <td>2.0</td>\n",
              "      <td>1.0</td>\n",
              "      <td>Sometimes</td>\n",
              "      <td>no</td>\n",
              "      <td>2.0</td>\n",
              "      <td>no</td>\n",
              "      <td>0.0</td>\n",
              "      <td>0.0</td>\n",
              "      <td>Sometimes</td>\n",
              "      <td>Public_Transportation</td>\n",
              "      <td>Overweight_Level_II</td>\n",
              "    </tr>\n",
              "  </tbody>\n",
              "</table>\n",
              "</div>\n",
              "      <button class=\"colab-df-convert\" onclick=\"convertToInteractive('df-12bc2e0b-ed8a-45dd-bb77-226f1ac00477')\"\n",
              "              title=\"Convert this dataframe to an interactive table.\"\n",
              "              style=\"display:none;\">\n",
              "        \n",
              "  <svg xmlns=\"http://www.w3.org/2000/svg\" height=\"24px\"viewBox=\"0 0 24 24\"\n",
              "       width=\"24px\">\n",
              "    <path d=\"M0 0h24v24H0V0z\" fill=\"none\"/>\n",
              "    <path d=\"M18.56 5.44l.94 2.06.94-2.06 2.06-.94-2.06-.94-.94-2.06-.94 2.06-2.06.94zm-11 1L8.5 8.5l.94-2.06 2.06-.94-2.06-.94L8.5 2.5l-.94 2.06-2.06.94zm10 10l.94 2.06.94-2.06 2.06-.94-2.06-.94-.94-2.06-.94 2.06-2.06.94z\"/><path d=\"M17.41 7.96l-1.37-1.37c-.4-.4-.92-.59-1.43-.59-.52 0-1.04.2-1.43.59L10.3 9.45l-7.72 7.72c-.78.78-.78 2.05 0 2.83L4 21.41c.39.39.9.59 1.41.59.51 0 1.02-.2 1.41-.59l7.78-7.78 2.81-2.81c.8-.78.8-2.07 0-2.86zM5.41 20L4 18.59l7.72-7.72 1.47 1.35L5.41 20z\"/>\n",
              "  </svg>\n",
              "      </button>\n",
              "      \n",
              "  <style>\n",
              "    .colab-df-container {\n",
              "      display:flex;\n",
              "      flex-wrap:wrap;\n",
              "      gap: 12px;\n",
              "    }\n",
              "\n",
              "    .colab-df-convert {\n",
              "      background-color: #E8F0FE;\n",
              "      border: none;\n",
              "      border-radius: 50%;\n",
              "      cursor: pointer;\n",
              "      display: none;\n",
              "      fill: #1967D2;\n",
              "      height: 32px;\n",
              "      padding: 0 0 0 0;\n",
              "      width: 32px;\n",
              "    }\n",
              "\n",
              "    .colab-df-convert:hover {\n",
              "      background-color: #E2EBFA;\n",
              "      box-shadow: 0px 1px 2px rgba(60, 64, 67, 0.3), 0px 1px 3px 1px rgba(60, 64, 67, 0.15);\n",
              "      fill: #174EA6;\n",
              "    }\n",
              "\n",
              "    [theme=dark] .colab-df-convert {\n",
              "      background-color: #3B4455;\n",
              "      fill: #D2E3FC;\n",
              "    }\n",
              "\n",
              "    [theme=dark] .colab-df-convert:hover {\n",
              "      background-color: #434B5C;\n",
              "      box-shadow: 0px 1px 3px 1px rgba(0, 0, 0, 0.15);\n",
              "      filter: drop-shadow(0px 1px 2px rgba(0, 0, 0, 0.3));\n",
              "      fill: #FFFFFF;\n",
              "    }\n",
              "  </style>\n",
              "\n",
              "      <script>\n",
              "        const buttonEl =\n",
              "          document.querySelector('#df-12bc2e0b-ed8a-45dd-bb77-226f1ac00477 button.colab-df-convert');\n",
              "        buttonEl.style.display =\n",
              "          google.colab.kernel.accessAllowed ? 'block' : 'none';\n",
              "\n",
              "        async function convertToInteractive(key) {\n",
              "          const element = document.querySelector('#df-12bc2e0b-ed8a-45dd-bb77-226f1ac00477');\n",
              "          const dataTable =\n",
              "            await google.colab.kernel.invokeFunction('convertToInteractive',\n",
              "                                                     [key], {});\n",
              "          if (!dataTable) return;\n",
              "\n",
              "          const docLinkHtml = 'Like what you see? Visit the ' +\n",
              "            '<a target=\"_blank\" href=https://colab.research.google.com/notebooks/data_table.ipynb>data table notebook</a>'\n",
              "            + ' to learn more about interactive tables.';\n",
              "          element.innerHTML = '';\n",
              "          dataTable['output_type'] = 'display_data';\n",
              "          await google.colab.output.renderOutput(dataTable, element);\n",
              "          const docLink = document.createElement('div');\n",
              "          docLink.innerHTML = docLinkHtml;\n",
              "          element.appendChild(docLink);\n",
              "        }\n",
              "      </script>\n",
              "    </div>\n",
              "  </div>\n",
              "  "
            ]
          },
          "metadata": {},
          "execution_count": 3
        }
      ]
    },
    {
      "cell_type": "code",
      "source": [
        "#Revisando duplicados\n",
        "dataset.duplicated().sum()"
      ],
      "metadata": {
        "colab": {
          "base_uri": "https://localhost:8080/"
        },
        "id": "Wtb6g9d9lgLE",
        "outputId": "83ed3ce6-8e5f-4f8c-ac3c-7ad10b9648a0"
      },
      "execution_count": null,
      "outputs": [
        {
          "output_type": "execute_result",
          "data": {
            "text/plain": [
              "24"
            ]
          },
          "metadata": {},
          "execution_count": 30
        }
      ]
    },
    {
      "cell_type": "code",
      "source": [
        "#Eliminar duplicados\n",
        "dataset.drop_duplicates(inplace=True)"
      ],
      "metadata": {
        "id": "JEg4vl3OlhXL"
      },
      "execution_count": null,
      "outputs": []
    },
    {
      "cell_type": "markdown",
      "source": [
        "# Pre- procesamiento de datos"
      ],
      "metadata": {
        "id": "7PQyX6a5VCfh"
      }
    },
    {
      "cell_type": "markdown",
      "source": [
        "## **Seleccion e ingenieria de caracteristicas**"
      ],
      "metadata": {
        "id": "NHnmFv1EnbRs"
      }
    },
    {
      "cell_type": "code",
      "source": [
        "dataset['IMC'] = (round((dataset['Weight'] / (dataset['Height']**2)),4))\n",
        "dataset.head()"
      ],
      "metadata": {
        "colab": {
          "base_uri": "https://localhost:8080/",
          "height": 206
        },
        "id": "e8pjQ2tknit7",
        "outputId": "2701b18b-a255-4bef-9168-26f795aa7657"
      },
      "execution_count": null,
      "outputs": [
        {
          "output_type": "execute_result",
          "data": {
            "text/plain": [
              "   Gender   Age  Height  Weight family_history_with_overweight FAVC  FCVC  \\\n",
              "0  Female  21.0    1.62    64.0                            yes   no   2.0   \n",
              "1  Female  21.0    1.52    56.0                            yes   no   3.0   \n",
              "2    Male  23.0    1.80    77.0                            yes   no   2.0   \n",
              "3    Male  27.0    1.80    87.0                             no   no   3.0   \n",
              "4    Male  22.0    1.78    89.8                             no   no   2.0   \n",
              "\n",
              "   NCP       CAEC SMOKE  CH2O  SCC  FAF  TUE        CALC  \\\n",
              "0  3.0  Sometimes    no   2.0   no  0.0  1.0          no   \n",
              "1  3.0  Sometimes   yes   3.0  yes  3.0  0.0   Sometimes   \n",
              "2  3.0  Sometimes    no   2.0   no  2.0  1.0  Frequently   \n",
              "3  3.0  Sometimes    no   2.0   no  2.0  0.0  Frequently   \n",
              "4  1.0  Sometimes    no   2.0   no  0.0  0.0   Sometimes   \n",
              "\n",
              "                  MTRANS           NObeyesdad      IMC  \n",
              "0  Public_Transportation        Normal_Weight  24.3865  \n",
              "1  Public_Transportation        Normal_Weight  24.2382  \n",
              "2  Public_Transportation        Normal_Weight  23.7654  \n",
              "3                Walking   Overweight_Level_I  26.8519  \n",
              "4  Public_Transportation  Overweight_Level_II  28.3424  "
            ],
            "text/html": [
              "\n",
              "  <div id=\"df-ba838106-6050-4449-a62f-bfe552977753\">\n",
              "    <div class=\"colab-df-container\">\n",
              "      <div>\n",
              "<style scoped>\n",
              "    .dataframe tbody tr th:only-of-type {\n",
              "        vertical-align: middle;\n",
              "    }\n",
              "\n",
              "    .dataframe tbody tr th {\n",
              "        vertical-align: top;\n",
              "    }\n",
              "\n",
              "    .dataframe thead th {\n",
              "        text-align: right;\n",
              "    }\n",
              "</style>\n",
              "<table border=\"1\" class=\"dataframe\">\n",
              "  <thead>\n",
              "    <tr style=\"text-align: right;\">\n",
              "      <th></th>\n",
              "      <th>Gender</th>\n",
              "      <th>Age</th>\n",
              "      <th>Height</th>\n",
              "      <th>Weight</th>\n",
              "      <th>family_history_with_overweight</th>\n",
              "      <th>FAVC</th>\n",
              "      <th>FCVC</th>\n",
              "      <th>NCP</th>\n",
              "      <th>CAEC</th>\n",
              "      <th>SMOKE</th>\n",
              "      <th>CH2O</th>\n",
              "      <th>SCC</th>\n",
              "      <th>FAF</th>\n",
              "      <th>TUE</th>\n",
              "      <th>CALC</th>\n",
              "      <th>MTRANS</th>\n",
              "      <th>NObeyesdad</th>\n",
              "      <th>IMC</th>\n",
              "    </tr>\n",
              "  </thead>\n",
              "  <tbody>\n",
              "    <tr>\n",
              "      <th>0</th>\n",
              "      <td>Female</td>\n",
              "      <td>21.0</td>\n",
              "      <td>1.62</td>\n",
              "      <td>64.0</td>\n",
              "      <td>yes</td>\n",
              "      <td>no</td>\n",
              "      <td>2.0</td>\n",
              "      <td>3.0</td>\n",
              "      <td>Sometimes</td>\n",
              "      <td>no</td>\n",
              "      <td>2.0</td>\n",
              "      <td>no</td>\n",
              "      <td>0.0</td>\n",
              "      <td>1.0</td>\n",
              "      <td>no</td>\n",
              "      <td>Public_Transportation</td>\n",
              "      <td>Normal_Weight</td>\n",
              "      <td>24.3865</td>\n",
              "    </tr>\n",
              "    <tr>\n",
              "      <th>1</th>\n",
              "      <td>Female</td>\n",
              "      <td>21.0</td>\n",
              "      <td>1.52</td>\n",
              "      <td>56.0</td>\n",
              "      <td>yes</td>\n",
              "      <td>no</td>\n",
              "      <td>3.0</td>\n",
              "      <td>3.0</td>\n",
              "      <td>Sometimes</td>\n",
              "      <td>yes</td>\n",
              "      <td>3.0</td>\n",
              "      <td>yes</td>\n",
              "      <td>3.0</td>\n",
              "      <td>0.0</td>\n",
              "      <td>Sometimes</td>\n",
              "      <td>Public_Transportation</td>\n",
              "      <td>Normal_Weight</td>\n",
              "      <td>24.2382</td>\n",
              "    </tr>\n",
              "    <tr>\n",
              "      <th>2</th>\n",
              "      <td>Male</td>\n",
              "      <td>23.0</td>\n",
              "      <td>1.80</td>\n",
              "      <td>77.0</td>\n",
              "      <td>yes</td>\n",
              "      <td>no</td>\n",
              "      <td>2.0</td>\n",
              "      <td>3.0</td>\n",
              "      <td>Sometimes</td>\n",
              "      <td>no</td>\n",
              "      <td>2.0</td>\n",
              "      <td>no</td>\n",
              "      <td>2.0</td>\n",
              "      <td>1.0</td>\n",
              "      <td>Frequently</td>\n",
              "      <td>Public_Transportation</td>\n",
              "      <td>Normal_Weight</td>\n",
              "      <td>23.7654</td>\n",
              "    </tr>\n",
              "    <tr>\n",
              "      <th>3</th>\n",
              "      <td>Male</td>\n",
              "      <td>27.0</td>\n",
              "      <td>1.80</td>\n",
              "      <td>87.0</td>\n",
              "      <td>no</td>\n",
              "      <td>no</td>\n",
              "      <td>3.0</td>\n",
              "      <td>3.0</td>\n",
              "      <td>Sometimes</td>\n",
              "      <td>no</td>\n",
              "      <td>2.0</td>\n",
              "      <td>no</td>\n",
              "      <td>2.0</td>\n",
              "      <td>0.0</td>\n",
              "      <td>Frequently</td>\n",
              "      <td>Walking</td>\n",
              "      <td>Overweight_Level_I</td>\n",
              "      <td>26.8519</td>\n",
              "    </tr>\n",
              "    <tr>\n",
              "      <th>4</th>\n",
              "      <td>Male</td>\n",
              "      <td>22.0</td>\n",
              "      <td>1.78</td>\n",
              "      <td>89.8</td>\n",
              "      <td>no</td>\n",
              "      <td>no</td>\n",
              "      <td>2.0</td>\n",
              "      <td>1.0</td>\n",
              "      <td>Sometimes</td>\n",
              "      <td>no</td>\n",
              "      <td>2.0</td>\n",
              "      <td>no</td>\n",
              "      <td>0.0</td>\n",
              "      <td>0.0</td>\n",
              "      <td>Sometimes</td>\n",
              "      <td>Public_Transportation</td>\n",
              "      <td>Overweight_Level_II</td>\n",
              "      <td>28.3424</td>\n",
              "    </tr>\n",
              "  </tbody>\n",
              "</table>\n",
              "</div>\n",
              "      <button class=\"colab-df-convert\" onclick=\"convertToInteractive('df-ba838106-6050-4449-a62f-bfe552977753')\"\n",
              "              title=\"Convert this dataframe to an interactive table.\"\n",
              "              style=\"display:none;\">\n",
              "        \n",
              "  <svg xmlns=\"http://www.w3.org/2000/svg\" height=\"24px\"viewBox=\"0 0 24 24\"\n",
              "       width=\"24px\">\n",
              "    <path d=\"M0 0h24v24H0V0z\" fill=\"none\"/>\n",
              "    <path d=\"M18.56 5.44l.94 2.06.94-2.06 2.06-.94-2.06-.94-.94-2.06-.94 2.06-2.06.94zm-11 1L8.5 8.5l.94-2.06 2.06-.94-2.06-.94L8.5 2.5l-.94 2.06-2.06.94zm10 10l.94 2.06.94-2.06 2.06-.94-2.06-.94-.94-2.06-.94 2.06-2.06.94z\"/><path d=\"M17.41 7.96l-1.37-1.37c-.4-.4-.92-.59-1.43-.59-.52 0-1.04.2-1.43.59L10.3 9.45l-7.72 7.72c-.78.78-.78 2.05 0 2.83L4 21.41c.39.39.9.59 1.41.59.51 0 1.02-.2 1.41-.59l7.78-7.78 2.81-2.81c.8-.78.8-2.07 0-2.86zM5.41 20L4 18.59l7.72-7.72 1.47 1.35L5.41 20z\"/>\n",
              "  </svg>\n",
              "      </button>\n",
              "      \n",
              "  <style>\n",
              "    .colab-df-container {\n",
              "      display:flex;\n",
              "      flex-wrap:wrap;\n",
              "      gap: 12px;\n",
              "    }\n",
              "\n",
              "    .colab-df-convert {\n",
              "      background-color: #E8F0FE;\n",
              "      border: none;\n",
              "      border-radius: 50%;\n",
              "      cursor: pointer;\n",
              "      display: none;\n",
              "      fill: #1967D2;\n",
              "      height: 32px;\n",
              "      padding: 0 0 0 0;\n",
              "      width: 32px;\n",
              "    }\n",
              "\n",
              "    .colab-df-convert:hover {\n",
              "      background-color: #E2EBFA;\n",
              "      box-shadow: 0px 1px 2px rgba(60, 64, 67, 0.3), 0px 1px 3px 1px rgba(60, 64, 67, 0.15);\n",
              "      fill: #174EA6;\n",
              "    }\n",
              "\n",
              "    [theme=dark] .colab-df-convert {\n",
              "      background-color: #3B4455;\n",
              "      fill: #D2E3FC;\n",
              "    }\n",
              "\n",
              "    [theme=dark] .colab-df-convert:hover {\n",
              "      background-color: #434B5C;\n",
              "      box-shadow: 0px 1px 3px 1px rgba(0, 0, 0, 0.15);\n",
              "      filter: drop-shadow(0px 1px 2px rgba(0, 0, 0, 0.3));\n",
              "      fill: #FFFFFF;\n",
              "    }\n",
              "  </style>\n",
              "\n",
              "      <script>\n",
              "        const buttonEl =\n",
              "          document.querySelector('#df-ba838106-6050-4449-a62f-bfe552977753 button.colab-df-convert');\n",
              "        buttonEl.style.display =\n",
              "          google.colab.kernel.accessAllowed ? 'block' : 'none';\n",
              "\n",
              "        async function convertToInteractive(key) {\n",
              "          const element = document.querySelector('#df-ba838106-6050-4449-a62f-bfe552977753');\n",
              "          const dataTable =\n",
              "            await google.colab.kernel.invokeFunction('convertToInteractive',\n",
              "                                                     [key], {});\n",
              "          if (!dataTable) return;\n",
              "\n",
              "          const docLinkHtml = 'Like what you see? Visit the ' +\n",
              "            '<a target=\"_blank\" href=https://colab.research.google.com/notebooks/data_table.ipynb>data table notebook</a>'\n",
              "            + ' to learn more about interactive tables.';\n",
              "          element.innerHTML = '';\n",
              "          dataTable['output_type'] = 'display_data';\n",
              "          await google.colab.output.renderOutput(dataTable, element);\n",
              "          const docLink = document.createElement('div');\n",
              "          docLink.innerHTML = docLinkHtml;\n",
              "          element.appendChild(docLink);\n",
              "        }\n",
              "      </script>\n",
              "    </div>\n",
              "  </div>\n",
              "  "
            ]
          },
          "metadata": {},
          "execution_count": 32
        }
      ]
    },
    {
      "cell_type": "markdown",
      "source": [
        "# Aplicamos LabelEncoder para análisis Feature Extraction with PCA"
      ],
      "metadata": {
        "id": "GrwUPtEmo4BU"
      }
    },
    {
      "cell_type": "code",
      "source": [
        "#LabelEncoder\n",
        "from sklearn.preprocessing import LabelEncoder\n",
        "\n",
        "cols_categoricas = ['CAEC','CALC','MTRANS','FAVC', 'SMOKE', 'SCC','family_history_with_overweight','Gender','NObeyesdad']\n",
        "\n",
        "# process columns, apply LabelEncoder to categorical features\n",
        "for c in cols_categoricas:\n",
        "    lbl = LabelEncoder()\n",
        "    # Transformar una variable categórica en valores numéricos\n",
        "    dataset[c] = lbl.fit_transform(dataset[c]) #dataset[c+'_code'] = lbl.fit_transform(dataset[c]) Para revisar la codificación inverse_transform\n",
        "# shape\n",
        "print('Shape all_data: {}'.format(dataset.shape))"
      ],
      "metadata": {
        "colab": {
          "base_uri": "https://localhost:8080/"
        },
        "id": "3hjEYumho3dT",
        "outputId": "fa27781f-8d4f-4a14-d231-ab498e75c0b1"
      },
      "execution_count": 5,
      "outputs": [
        {
          "output_type": "stream",
          "name": "stdout",
          "text": [
            "Shape all_data: (2111, 17)\n"
          ]
        }
      ]
    },
    {
      "cell_type": "code",
      "source": [
        "dataset.head()"
      ],
      "metadata": {
        "colab": {
          "base_uri": "https://localhost:8080/",
          "height": 206
        },
        "id": "Ba6JZi6DoE4l",
        "outputId": "8522567b-9216-4775-ac95-de5b33e19d51"
      },
      "execution_count": null,
      "outputs": [
        {
          "output_type": "execute_result",
          "data": {
            "text/plain": [
              "   Gender   Age  Height  Weight  family_history_with_overweight  FAVC  FCVC  \\\n",
              "0       0  21.0    1.62    64.0                               1     0   2.0   \n",
              "1       0  21.0    1.52    56.0                               1     0   3.0   \n",
              "2       1  23.0    1.80    77.0                               1     0   2.0   \n",
              "3       1  27.0    1.80    87.0                               0     0   3.0   \n",
              "4       1  22.0    1.78    89.8                               0     0   2.0   \n",
              "\n",
              "   NCP  CAEC  SMOKE  CH2O  SCC  FAF  TUE  CALC  MTRANS  NObeyesdad      IMC  \n",
              "0  3.0     2      0   2.0    0  0.0  1.0     3       3           1  24.3865  \n",
              "1  3.0     2      1   3.0    1  3.0  0.0     2       3           1  24.2382  \n",
              "2  3.0     2      0   2.0    0  2.0  1.0     1       3           1  23.7654  \n",
              "3  3.0     2      0   2.0    0  2.0  0.0     1       4           5  26.8519  \n",
              "4  1.0     2      0   2.0    0  0.0  0.0     2       3           6  28.3424  "
            ],
            "text/html": [
              "\n",
              "  <div id=\"df-2fb468bb-9cc5-4aa6-b211-d3a419973a2f\">\n",
              "    <div class=\"colab-df-container\">\n",
              "      <div>\n",
              "<style scoped>\n",
              "    .dataframe tbody tr th:only-of-type {\n",
              "        vertical-align: middle;\n",
              "    }\n",
              "\n",
              "    .dataframe tbody tr th {\n",
              "        vertical-align: top;\n",
              "    }\n",
              "\n",
              "    .dataframe thead th {\n",
              "        text-align: right;\n",
              "    }\n",
              "</style>\n",
              "<table border=\"1\" class=\"dataframe\">\n",
              "  <thead>\n",
              "    <tr style=\"text-align: right;\">\n",
              "      <th></th>\n",
              "      <th>Gender</th>\n",
              "      <th>Age</th>\n",
              "      <th>Height</th>\n",
              "      <th>Weight</th>\n",
              "      <th>family_history_with_overweight</th>\n",
              "      <th>FAVC</th>\n",
              "      <th>FCVC</th>\n",
              "      <th>NCP</th>\n",
              "      <th>CAEC</th>\n",
              "      <th>SMOKE</th>\n",
              "      <th>CH2O</th>\n",
              "      <th>SCC</th>\n",
              "      <th>FAF</th>\n",
              "      <th>TUE</th>\n",
              "      <th>CALC</th>\n",
              "      <th>MTRANS</th>\n",
              "      <th>NObeyesdad</th>\n",
              "      <th>IMC</th>\n",
              "    </tr>\n",
              "  </thead>\n",
              "  <tbody>\n",
              "    <tr>\n",
              "      <th>0</th>\n",
              "      <td>0</td>\n",
              "      <td>21.0</td>\n",
              "      <td>1.62</td>\n",
              "      <td>64.0</td>\n",
              "      <td>1</td>\n",
              "      <td>0</td>\n",
              "      <td>2.0</td>\n",
              "      <td>3.0</td>\n",
              "      <td>2</td>\n",
              "      <td>0</td>\n",
              "      <td>2.0</td>\n",
              "      <td>0</td>\n",
              "      <td>0.0</td>\n",
              "      <td>1.0</td>\n",
              "      <td>3</td>\n",
              "      <td>3</td>\n",
              "      <td>1</td>\n",
              "      <td>24.3865</td>\n",
              "    </tr>\n",
              "    <tr>\n",
              "      <th>1</th>\n",
              "      <td>0</td>\n",
              "      <td>21.0</td>\n",
              "      <td>1.52</td>\n",
              "      <td>56.0</td>\n",
              "      <td>1</td>\n",
              "      <td>0</td>\n",
              "      <td>3.0</td>\n",
              "      <td>3.0</td>\n",
              "      <td>2</td>\n",
              "      <td>1</td>\n",
              "      <td>3.0</td>\n",
              "      <td>1</td>\n",
              "      <td>3.0</td>\n",
              "      <td>0.0</td>\n",
              "      <td>2</td>\n",
              "      <td>3</td>\n",
              "      <td>1</td>\n",
              "      <td>24.2382</td>\n",
              "    </tr>\n",
              "    <tr>\n",
              "      <th>2</th>\n",
              "      <td>1</td>\n",
              "      <td>23.0</td>\n",
              "      <td>1.80</td>\n",
              "      <td>77.0</td>\n",
              "      <td>1</td>\n",
              "      <td>0</td>\n",
              "      <td>2.0</td>\n",
              "      <td>3.0</td>\n",
              "      <td>2</td>\n",
              "      <td>0</td>\n",
              "      <td>2.0</td>\n",
              "      <td>0</td>\n",
              "      <td>2.0</td>\n",
              "      <td>1.0</td>\n",
              "      <td>1</td>\n",
              "      <td>3</td>\n",
              "      <td>1</td>\n",
              "      <td>23.7654</td>\n",
              "    </tr>\n",
              "    <tr>\n",
              "      <th>3</th>\n",
              "      <td>1</td>\n",
              "      <td>27.0</td>\n",
              "      <td>1.80</td>\n",
              "      <td>87.0</td>\n",
              "      <td>0</td>\n",
              "      <td>0</td>\n",
              "      <td>3.0</td>\n",
              "      <td>3.0</td>\n",
              "      <td>2</td>\n",
              "      <td>0</td>\n",
              "      <td>2.0</td>\n",
              "      <td>0</td>\n",
              "      <td>2.0</td>\n",
              "      <td>0.0</td>\n",
              "      <td>1</td>\n",
              "      <td>4</td>\n",
              "      <td>5</td>\n",
              "      <td>26.8519</td>\n",
              "    </tr>\n",
              "    <tr>\n",
              "      <th>4</th>\n",
              "      <td>1</td>\n",
              "      <td>22.0</td>\n",
              "      <td>1.78</td>\n",
              "      <td>89.8</td>\n",
              "      <td>0</td>\n",
              "      <td>0</td>\n",
              "      <td>2.0</td>\n",
              "      <td>1.0</td>\n",
              "      <td>2</td>\n",
              "      <td>0</td>\n",
              "      <td>2.0</td>\n",
              "      <td>0</td>\n",
              "      <td>0.0</td>\n",
              "      <td>0.0</td>\n",
              "      <td>2</td>\n",
              "      <td>3</td>\n",
              "      <td>6</td>\n",
              "      <td>28.3424</td>\n",
              "    </tr>\n",
              "  </tbody>\n",
              "</table>\n",
              "</div>\n",
              "      <button class=\"colab-df-convert\" onclick=\"convertToInteractive('df-2fb468bb-9cc5-4aa6-b211-d3a419973a2f')\"\n",
              "              title=\"Convert this dataframe to an interactive table.\"\n",
              "              style=\"display:none;\">\n",
              "        \n",
              "  <svg xmlns=\"http://www.w3.org/2000/svg\" height=\"24px\"viewBox=\"0 0 24 24\"\n",
              "       width=\"24px\">\n",
              "    <path d=\"M0 0h24v24H0V0z\" fill=\"none\"/>\n",
              "    <path d=\"M18.56 5.44l.94 2.06.94-2.06 2.06-.94-2.06-.94-.94-2.06-.94 2.06-2.06.94zm-11 1L8.5 8.5l.94-2.06 2.06-.94-2.06-.94L8.5 2.5l-.94 2.06-2.06.94zm10 10l.94 2.06.94-2.06 2.06-.94-2.06-.94-.94-2.06-.94 2.06-2.06.94z\"/><path d=\"M17.41 7.96l-1.37-1.37c-.4-.4-.92-.59-1.43-.59-.52 0-1.04.2-1.43.59L10.3 9.45l-7.72 7.72c-.78.78-.78 2.05 0 2.83L4 21.41c.39.39.9.59 1.41.59.51 0 1.02-.2 1.41-.59l7.78-7.78 2.81-2.81c.8-.78.8-2.07 0-2.86zM5.41 20L4 18.59l7.72-7.72 1.47 1.35L5.41 20z\"/>\n",
              "  </svg>\n",
              "      </button>\n",
              "      \n",
              "  <style>\n",
              "    .colab-df-container {\n",
              "      display:flex;\n",
              "      flex-wrap:wrap;\n",
              "      gap: 12px;\n",
              "    }\n",
              "\n",
              "    .colab-df-convert {\n",
              "      background-color: #E8F0FE;\n",
              "      border: none;\n",
              "      border-radius: 50%;\n",
              "      cursor: pointer;\n",
              "      display: none;\n",
              "      fill: #1967D2;\n",
              "      height: 32px;\n",
              "      padding: 0 0 0 0;\n",
              "      width: 32px;\n",
              "    }\n",
              "\n",
              "    .colab-df-convert:hover {\n",
              "      background-color: #E2EBFA;\n",
              "      box-shadow: 0px 1px 2px rgba(60, 64, 67, 0.3), 0px 1px 3px 1px rgba(60, 64, 67, 0.15);\n",
              "      fill: #174EA6;\n",
              "    }\n",
              "\n",
              "    [theme=dark] .colab-df-convert {\n",
              "      background-color: #3B4455;\n",
              "      fill: #D2E3FC;\n",
              "    }\n",
              "\n",
              "    [theme=dark] .colab-df-convert:hover {\n",
              "      background-color: #434B5C;\n",
              "      box-shadow: 0px 1px 3px 1px rgba(0, 0, 0, 0.15);\n",
              "      filter: drop-shadow(0px 1px 2px rgba(0, 0, 0, 0.3));\n",
              "      fill: #FFFFFF;\n",
              "    }\n",
              "  </style>\n",
              "\n",
              "      <script>\n",
              "        const buttonEl =\n",
              "          document.querySelector('#df-2fb468bb-9cc5-4aa6-b211-d3a419973a2f button.colab-df-convert');\n",
              "        buttonEl.style.display =\n",
              "          google.colab.kernel.accessAllowed ? 'block' : 'none';\n",
              "\n",
              "        async function convertToInteractive(key) {\n",
              "          const element = document.querySelector('#df-2fb468bb-9cc5-4aa6-b211-d3a419973a2f');\n",
              "          const dataTable =\n",
              "            await google.colab.kernel.invokeFunction('convertToInteractive',\n",
              "                                                     [key], {});\n",
              "          if (!dataTable) return;\n",
              "\n",
              "          const docLinkHtml = 'Like what you see? Visit the ' +\n",
              "            '<a target=\"_blank\" href=https://colab.research.google.com/notebooks/data_table.ipynb>data table notebook</a>'\n",
              "            + ' to learn more about interactive tables.';\n",
              "          element.innerHTML = '';\n",
              "          dataTable['output_type'] = 'display_data';\n",
              "          await google.colab.output.renderOutput(dataTable, element);\n",
              "          const docLink = document.createElement('div');\n",
              "          docLink.innerHTML = docLinkHtml;\n",
              "          element.appendChild(docLink);\n",
              "        }\n",
              "      </script>\n",
              "    </div>\n",
              "  </div>\n",
              "  "
            ]
          },
          "metadata": {},
          "execution_count": 34
        }
      ]
    },
    {
      "cell_type": "markdown",
      "source": [
        "# Análisis PCA: Análisis de Componentes Principales"
      ],
      "metadata": {
        "id": "MSU1bi4Xl7w-"
      }
    },
    {
      "cell_type": "markdown",
      "source": [
        "http://scikit-learn.org/stable/modules/generated/sklearn.decomposition.PCA.html We will use principle component analysis (PCA) for feature extraction. Before PCA, we need to normalize data for better performance of PCA.\n",
        "\n",
        "Reference: https://www.kaggle.com/code/kanncaa1/feature-selection-and-data-visualization"
      ],
      "metadata": {
        "id": "234Wh_rZoyAE"
      }
    },
    {
      "cell_type": "markdown",
      "source": [
        "Observamos la media de las características númericas."
      ],
      "metadata": {
        "id": "2UnGFYOprJIS"
      }
    },
    {
      "cell_type": "code",
      "source": [
        "dataset.mean()"
      ],
      "metadata": {
        "colab": {
          "base_uri": "https://localhost:8080/"
        },
        "id": "8GfF5v5nn2L-",
        "outputId": "1c1fd40f-ad2c-4a5d-8d76-bdeadbb18859"
      },
      "execution_count": 6,
      "outputs": [
        {
          "output_type": "execute_result",
          "data": {
            "text/plain": [
              "Gender                             0.505921\n",
              "Age                               24.312600\n",
              "Height                             1.701677\n",
              "Weight                            86.586058\n",
              "family_history_with_overweight     0.817622\n",
              "FAVC                               0.883941\n",
              "FCVC                               2.419043\n",
              "NCP                                2.685628\n",
              "CAEC                               1.859308\n",
              "SMOKE                              0.020843\n",
              "CH2O                               2.008011\n",
              "SCC                                0.045476\n",
              "FAF                                1.010298\n",
              "TUE                                0.657866\n",
              "CALC                               2.268593\n",
              "MTRANS                             2.365230\n",
              "NObeyesdad                         3.015632\n",
              "dtype: float64"
            ]
          },
          "metadata": {},
          "execution_count": 6
        }
      ]
    },
    {
      "cell_type": "markdown",
      "source": [
        "Observamos la varianza de las características númericas."
      ],
      "metadata": {
        "id": "lhCGQj2ArOIR"
      }
    },
    {
      "cell_type": "code",
      "source": [
        "dataset.var()"
      ],
      "metadata": {
        "colab": {
          "base_uri": "https://localhost:8080/"
        },
        "id": "OxIHsS2VmHto",
        "outputId": "20941dc8-407f-4abd-82a1-44d2ed42c7a1"
      },
      "execution_count": 7,
      "outputs": [
        {
          "output_type": "execute_result",
          "data": {
            "text/plain": [
              "Gender                              0.250083\n",
              "Age                                40.271313\n",
              "Height                              0.008706\n",
              "Weight                            685.977477\n",
              "family_history_with_overweight      0.149187\n",
              "FAVC                                0.102638\n",
              "FCVC                                0.285078\n",
              "NCP                                 0.605344\n",
              "CAEC                                0.219533\n",
              "SMOKE                               0.020418\n",
              "CH2O                                0.375712\n",
              "SCC                                 0.043429\n",
              "FAF                                 0.723507\n",
              "TUE                                 0.370792\n",
              "CALC                                0.265738\n",
              "MTRANS                              1.591189\n",
              "NObeyesdad                          3.810656\n",
              "dtype: float64"
            ]
          },
          "metadata": {},
          "execution_count": 7
        }
      ]
    },
    {
      "cell_type": "markdown",
      "source": [
        "1. Se debe escalar los datos antes de realizar el análisis PCA: media 0 y varianza 1. Así pues, es importante estandarizar las variables con una media de cero y una desviación estándar de 1 antes de realizar PCA. Podemos hacerlo usando la función scale de sklearn:"
      ],
      "metadata": {
        "id": "JYuDHNlAnu18"
      }
    },
    {
      "cell_type": "code",
      "source": [
        "#Separamos la data, en variables independientes (x) y dependientes (y), para poder entrenar el modelo de regresión\n",
        "X_train_val = dataset.drop(['NObeyesdad'], axis=1)\n",
        "y_train_val = dataset['NObeyesdad']"
      ],
      "metadata": {
        "id": "pfX_Uo51o4ve"
      },
      "execution_count": 8,
      "outputs": []
    },
    {
      "cell_type": "code",
      "source": [
        "# Dividimos la data en conjunto de \"entrenamiento\" y \"prueba\"\n",
        "X_train, X_val, y_train, y_val = train_test_split(X_train_val, y_train_val, test_size=0.2, random_state=0)"
      ],
      "metadata": {
        "id": "zEVMttDnpFJE"
      },
      "execution_count": 9,
      "outputs": []
    },
    {
      "cell_type": "code",
      "source": [
        "#normalization\n",
        "x_train_N = (X_train-X_train.mean())/(X_train.max()-X_train.min())\n",
        "x_test_N = (X_val-X_val.mean())/(X_val.max()-X_val.min())\n"
      ],
      "metadata": {
        "id": "3S3gKvEIzBhO"
      },
      "execution_count": 10,
      "outputs": []
    },
    {
      "cell_type": "code",
      "source": [
        "from sklearn.decomposition import PCA\n",
        "pca = PCA()\n",
        "pca.fit(x_train_N)\n",
        "\n",
        "plt.figure(1, figsize=(8, 8))\n",
        "plt.clf()\n",
        "plt.axes([.2, .2, .7, .7])\n",
        "plt.plot(pca.explained_variance_ratio_, linewidth=2)\n",
        "plt.axis('tight')\n",
        "plt.xlabel('n_components')\n",
        "plt.ylabel('explained_variance_ratio_')"
      ],
      "metadata": {
        "colab": {
          "base_uri": "https://localhost:8080/",
          "height": 663
        },
        "id": "58Gi0_Ozuy4Q",
        "outputId": "805903a3-a3bf-4334-a608-41e8c42425b1"
      },
      "execution_count": 11,
      "outputs": [
        {
          "output_type": "execute_result",
          "data": {
            "text/plain": [
              "Text(0, 0.5, 'explained_variance_ratio_')"
            ]
          },
          "metadata": {},
          "execution_count": 11
        },
        {
          "output_type": "display_data",
          "data": {
            "text/plain": [
              "<Figure size 800x800 with 1 Axes>"
            ],
            "image/png": "[encoded data removed]"
          },
          "metadata": {}
        }
      ]
    },
    {
      "cell_type": "markdown",
      "source": [
        "# Selección Y Extracción De Características por filtrado"
      ],
      "metadata": {
        "id": "wepuyLLnmFeC"
      }
    },
    {
      "cell_type": "code",
      "source": [
        "from sklearn.feature_selection import SelectKBest\n",
        "from sklearn.feature_selection import chi2, mutual_info_classif"
      ],
      "metadata": {
        "id": "cq_SBQwExlnp"
      },
      "execution_count": 12,
      "outputs": []
    },
    {
      "cell_type": "code",
      "source": [
        "#X_train_val, y_train_val\n",
        "X_train_val.shape"
      ],
      "metadata": {
        "colab": {
          "base_uri": "https://localhost:8080/"
        },
        "id": "l7VXM-oQxudm",
        "outputId": "5d8fb113-0e4d-4241-fe70-72cfdd2a86d6"
      },
      "execution_count": 13,
      "outputs": [
        {
          "output_type": "execute_result",
          "data": {
            "text/plain": [
              "(2111, 16)"
            ]
          },
          "metadata": {},
          "execution_count": 13
        }
      ]
    },
    {
      "cell_type": "code",
      "source": [
        "filtrado = SelectKBest(mutual_info_classif, k=10).fit(X_train_val, y_train_val)"
      ],
      "metadata": {
        "id": "cjesdVGZyDy5"
      },
      "execution_count": null,
      "outputs": []
    },
    {
      "cell_type": "code",
      "source": [
        "filtrado.scores_"
      ],
      "metadata": {
        "colab": {
          "base_uri": "https://localhost:8080/"
        },
        "id": "3GHX4jKNySUy",
        "outputId": "3a023804-e206-45f7-ab85-c8c11b4b7613"
      },
      "execution_count": null,
      "outputs": [
        {
          "output_type": "execute_result",
          "data": {
            "text/plain": [
              "array([0.20765321, 0.58841454, 0.42245895, 1.25114242, 0.14225016,\n",
              "       0.0535904 , 0.39033952, 0.25575363, 0.12582461, 0.00212318,\n",
              "       0.29073543, 0.04721448, 0.28628615, 0.27316127, 0.13390387,\n",
              "       0.08033842, 1.82689903])"
            ]
          },
          "metadata": {},
          "execution_count": 44
        }
      ]
    },
    {
      "cell_type": "code",
      "source": [
        "print('Score list:', filtrado.scores_)\n",
        "print('Feature list:', X_train_val.columns)"
      ],
      "metadata": {
        "colab": {
          "base_uri": "https://localhost:8080/"
        },
        "id": "pKda1WK70LiF",
        "outputId": "6d3a22bb-1a99-42bd-d730-802c054883ad"
      },
      "execution_count": null,
      "outputs": [
        {
          "output_type": "stream",
          "name": "stdout",
          "text": [
            "Score list: [0.20765321 0.58841454 0.42245895 1.25114242 0.14225016 0.0535904\n",
            " 0.39033952 0.25575363 0.12582461 0.00212318 0.29073543 0.04721448\n",
            " 0.28628615 0.27316127 0.13390387 0.08033842 1.82689903]\n",
            "Feature list: Index(['Gender', 'Age', 'Height', 'Weight', 'family_history_with_overweight',\n",
            "       'FAVC', 'FCVC', 'NCP', 'CAEC', 'SMOKE', 'CH2O', 'SCC', 'FAF', 'TUE',\n",
            "       'CALC', 'MTRANS', 'IMC'],\n",
            "      dtype='object')\n"
          ]
        }
      ]
    },
    {
      "cell_type": "code",
      "source": [
        "X_new = filtrado.transform(X_train_val)\n",
        "X_new[:5]"
      ],
      "metadata": {
        "colab": {
          "base_uri": "https://localhost:8080/"
        },
        "id": "F05KdjptyVvx",
        "outputId": "7db4831c-4772-4d19-97fc-f6143e00ceca"
      },
      "execution_count": null,
      "outputs": [
        {
          "output_type": "execute_result",
          "data": {
            "text/plain": [
              "array([[ 0.    , 21.    ,  1.62  , 64.    ,  2.    ,  3.    ,  2.    ,\n",
              "         0.    ,  1.    , 24.3865],\n",
              "       [ 0.    , 21.    ,  1.52  , 56.    ,  3.    ,  3.    ,  3.    ,\n",
              "         3.    ,  0.    , 24.2382],\n",
              "       [ 1.    , 23.    ,  1.8   , 77.    ,  2.    ,  3.    ,  2.    ,\n",
              "         2.    ,  1.    , 23.7654],\n",
              "       [ 1.    , 27.    ,  1.8   , 87.    ,  3.    ,  3.    ,  2.    ,\n",
              "         2.    ,  0.    , 26.8519],\n",
              "       [ 1.    , 22.    ,  1.78  , 89.8   ,  2.    ,  1.    ,  2.    ,\n",
              "         0.    ,  0.    , 28.3424]])"
            ]
          },
          "metadata": {},
          "execution_count": 46
        }
      ]
    },
    {
      "cell_type": "code",
      "source": [
        "plt.bar(range(len(filtrado.scores_)), filtrado.scores_)\n",
        "plt.xticks(range(len(filtrado.scores_)), range(1, len(filtrado.scores_)+1))\n",
        "plt.xlabel('Feature')\n",
        "plt.ylabel('Score')\n",
        "plt.title('SelectKBest Feature Scores')\n",
        "plt.show()"
      ],
      "metadata": {
        "colab": {
          "base_uri": "https://localhost:8080/",
          "height": 477
        },
        "id": "EPmtPv2J1DHI",
        "outputId": "04f937a6-87f8-4b69-a84f-eff4f7ee7a94"
      },
      "execution_count": null,
      "outputs": [
        {
          "output_type": "display_data",
          "data": {
            "text/plain": [
              "<Figure size 640x480 with 1 Axes>"
            ],
            "image/png": "[encoded data removed]"
          },
          "metadata": {}
        }
      ]
    },
    {
      "cell_type": "markdown",
      "source": [
        "4 características menos importantes: SMOKE, FAVC, SCC, MTRANS"
      ],
      "metadata": {
        "id": "nSf3zSBcZAng"
      }
    },
    {
      "cell_type": "markdown",
      "source": [
        "# Selección de características por Backward elimination"
      ],
      "metadata": {
        "id": "qwscAKOPmwLe"
      }
    },
    {
      "cell_type": "code",
      "source": [
        "#X_train_val, y_train_val\n",
        "X_train_val.shape"
      ],
      "metadata": {
        "colab": {
          "base_uri": "https://localhost:8080/"
        },
        "id": "nY0yVwHBow4p",
        "outputId": "aab8c36b-f274-4de6-e7ce-683f581f9b3a"
      },
      "execution_count": 14,
      "outputs": [
        {
          "output_type": "execute_result",
          "data": {
            "text/plain": [
              "(2111, 16)"
            ]
          },
          "metadata": {},
          "execution_count": 14
        }
      ]
    },
    {
      "cell_type": "code",
      "source": [
        "#Escalar datos\n",
        "scaler = StandardScaler()\n",
        "\n",
        "X_train_scal = scaler.fit_transform(X_train_val) #Escalar los datos de entrenamiento\n"
      ],
      "metadata": {
        "id": "YpAl7yGatOND"
      },
      "execution_count": 21,
      "outputs": []
    },
    {
      "cell_type": "markdown",
      "source": [
        "Considerando como estimador RandomForest"
      ],
      "metadata": {
        "id": "liWzjswV9Gbo"
      }
    },
    {
      "cell_type": "code",
      "source": [
        "import matplotlib.pyplot as plt\n",
        "from sklearn.svm import SVC\n",
        "from sklearn.model_selection import StratifiedKFold\n",
        "from sklearn.feature_selection import RFECV\n",
        "from sklearn.datasets import make_classification\n",
        "from sklearn.ensemble import RandomForestClassifier\n",
        "from sklearn import svm\n",
        "from sklearn.metrics import accuracy_score\n",
        "\n",
        "# Create the RFE object and compute a cross-validated score.\n",
        "#svc = SVC(kernel=\"linear\")\n",
        "\n",
        "#estimator= SVC(kernel='poly', degree=3)\n",
        "estimator=RandomForestClassifier(oob_score = True, random_state=42)\n",
        "# The \"accuracy\" scoring is proportional to the number of correct\n",
        "# classifications\n",
        "rfecv = RFECV(estimator, cv=10, min_features_to_select=11)\n",
        "rfecv.fit(X_train_scal, y_train_val)\n",
        "\n",
        "selected_features = rfecv.support_\n",
        "selected_feature_names = [feature for feature, selected in zip(selected_features, selected_features) if selected]\n",
        "print(selected_feature_names)\n",
        "print(\"Optimal number of features : %d\" % rfecv.n_features_)\n",
        "\n"
      ],
      "metadata": {
        "colab": {
          "base_uri": "https://localhost:8080/"
        },
        "id": "fN-BSDrOnQMl",
        "outputId": "d4c41d6f-a1c5-4207-e1c9-486e3d69499b"
      },
      "execution_count": 51,
      "outputs": [
        {
          "output_type": "stream",
          "name": "stdout",
          "text": [
            "[True, True, True, True, True, True, True, True, True, True, True, True, True]\n",
            "Optimal number of features : 13\n"
          ]
        }
      ]
    },
    {
      "cell_type": "code",
      "source": [
        "# Obtener las características seleccionadas\n",
        "selected_features = rfecv.support_\n",
        "\n",
        "# Obtener los nombres de todas las características originales\n",
        "all_feature_names = ['Gender', 'Age', 'Height', 'Weight','family_history_with_overweight','FAVC','FCVC','NCP','CAEC','SMOKE','CH2O','SCC','FAF','TUE','CALC','MTRANS']\n",
        "\n",
        "# Obtener los nombres de las características seleccionadas\n",
        "selected_feature_names = [name for name, selected in zip(all_feature_names, selected_features) if selected]\n",
        "\n",
        "# Imprimir las mejores características\n",
        "print(\"Mejores características seleccionadas:\")\n",
        "for name in selected_feature_names:\n",
        "    print(name)"
      ],
      "metadata": {
        "colab": {
          "base_uri": "https://localhost:8080/"
        },
        "id": "0NCF9zMp52B0",
        "outputId": "cee7a666-66c6-4fb7-f3d0-c1feebb8b245"
      },
      "execution_count": 52,
      "outputs": [
        {
          "output_type": "stream",
          "name": "stdout",
          "text": [
            "Mejores características seleccionadas:\n",
            "Gender\n",
            "Age\n",
            "Height\n",
            "Weight\n",
            "family_history_with_overweight\n",
            "FCVC\n",
            "NCP\n",
            "CAEC\n",
            "CH2O\n",
            "FAF\n",
            "TUE\n",
            "CALC\n",
            "MTRANS\n"
          ]
        }
      ]
    },
    {
      "cell_type": "markdown",
      "source": [
        "Considerando como estimador: SVC lineal"
      ],
      "metadata": {
        "id": "RiHoO5Ll8_Pn"
      }
    },
    {
      "cell_type": "code",
      "source": [
        "import matplotlib.pyplot as plt\n",
        "from sklearn.svm import SVC\n",
        "from sklearn.model_selection import StratifiedKFold\n",
        "from sklearn.feature_selection import RFECV\n",
        "from sklearn.datasets import make_classification\n",
        "from sklearn.ensemble import RandomForestClassifier\n",
        "from sklearn import svm\n",
        "from sklearn.metrics import accuracy_score\n",
        "\n",
        "# Create the RFE object and compute a cross-validated score.\n",
        "svc = SVC(kernel=\"linear\")\n",
        "\n",
        "# The \"accuracy\" scoring is proportional to the number of correct\n",
        "# classifications\n",
        "rfecv = RFECV(estimator=svc, step=1, cv=StratifiedKFold(10),\n",
        "              scoring='accuracy', min_features_to_select=11)\n",
        "rfecv.fit(X_train_scal, y_train_val)\n",
        "\n",
        "print(\"Optimal number of features : %d\" % rfecv.n_features_)"
      ],
      "metadata": {
        "colab": {
          "base_uri": "https://localhost:8080/"
        },
        "id": "dNoE5II7zU_W",
        "outputId": "e5ba5038-ac67-4bce-cef2-0b4271bcb78f"
      },
      "execution_count": 54,
      "outputs": [
        {
          "output_type": "stream",
          "name": "stdout",
          "text": [
            "Optimal number of features : 14\n"
          ]
        }
      ]
    },
    {
      "cell_type": "markdown",
      "source": [],
      "metadata": {
        "id": "5-hZ26xvnQAl"
      }
    },
    {
      "cell_type": "markdown",
      "source": [
        "# Eliminar 4 características"
      ],
      "metadata": {
        "id": "S15W48XEqpFb"
      }
    },
    {
      "cell_type": "code",
      "source": [
        "dataset.drop(['SMOKE','FAVC','SCC','MTRANS'], axis=1, inplace=True)"
      ],
      "metadata": {
        "id": "Qx1kbvncNqYp"
      },
      "execution_count": null,
      "outputs": []
    },
    {
      "cell_type": "code",
      "source": [
        "dataset.head()"
      ],
      "metadata": {
        "id": "OlGoMus4Nfyl",
        "colab": {
          "base_uri": "https://localhost:8080/",
          "height": 206
        },
        "outputId": "91e8d86a-b817-4e78-e042-981d9af2dc2d"
      },
      "execution_count": null,
      "outputs": [
        {
          "output_type": "execute_result",
          "data": {
            "text/plain": [
              "   Gender   Age  Height  Weight  family_history_with_overweight  FCVC  NCP  \\\n",
              "0       0  21.0    1.62    64.0                               1   2.0  3.0   \n",
              "1       0  21.0    1.52    56.0                               1   3.0  3.0   \n",
              "2       1  23.0    1.80    77.0                               1   2.0  3.0   \n",
              "3       1  27.0    1.80    87.0                               0   3.0  3.0   \n",
              "4       1  22.0    1.78    89.8                               0   2.0  1.0   \n",
              "\n",
              "   CAEC  CH2O  FAF  TUE  CALC  NObeyesdad      IMC  \n",
              "0     2   2.0  0.0  1.0     3           1  24.3865  \n",
              "1     2   3.0  3.0  0.0     2           1  24.2382  \n",
              "2     2   2.0  2.0  1.0     1           1  23.7654  \n",
              "3     2   2.0  2.0  0.0     1           5  26.8519  \n",
              "4     2   2.0  0.0  0.0     2           6  28.3424  "
            ],
            "text/html": [
              "\n",
              "  <div id=\"df-dd98a64d-d25f-41de-a55a-acba80e8a222\">\n",
              "    <div class=\"colab-df-container\">\n",
              "      <div>\n",
              "<style scoped>\n",
              "    .dataframe tbody tr th:only-of-type {\n",
              "        vertical-align: middle;\n",
              "    }\n",
              "\n",
              "    .dataframe tbody tr th {\n",
              "        vertical-align: top;\n",
              "    }\n",
              "\n",
              "    .dataframe thead th {\n",
              "        text-align: right;\n",
              "    }\n",
              "</style>\n",
              "<table border=\"1\" class=\"dataframe\">\n",
              "  <thead>\n",
              "    <tr style=\"text-align: right;\">\n",
              "      <th></th>\n",
              "      <th>Gender</th>\n",
              "      <th>Age</th>\n",
              "      <th>Height</th>\n",
              "      <th>Weight</th>\n",
              "      <th>family_history_with_overweight</th>\n",
              "      <th>FCVC</th>\n",
              "      <th>NCP</th>\n",
              "      <th>CAEC</th>\n",
              "      <th>CH2O</th>\n",
              "      <th>FAF</th>\n",
              "      <th>TUE</th>\n",
              "      <th>CALC</th>\n",
              "      <th>NObeyesdad</th>\n",
              "      <th>IMC</th>\n",
              "    </tr>\n",
              "  </thead>\n",
              "  <tbody>\n",
              "    <tr>\n",
              "      <th>0</th>\n",
              "      <td>0</td>\n",
              "      <td>21.0</td>\n",
              "      <td>1.62</td>\n",
              "      <td>64.0</td>\n",
              "      <td>1</td>\n",
              "      <td>2.0</td>\n",
              "      <td>3.0</td>\n",
              "      <td>2</td>\n",
              "      <td>2.0</td>\n",
              "      <td>0.0</td>\n",
              "      <td>1.0</td>\n",
              "      <td>3</td>\n",
              "      <td>1</td>\n",
              "      <td>24.3865</td>\n",
              "    </tr>\n",
              "    <tr>\n",
              "      <th>1</th>\n",
              "      <td>0</td>\n",
              "      <td>21.0</td>\n",
              "      <td>1.52</td>\n",
              "      <td>56.0</td>\n",
              "      <td>1</td>\n",
              "      <td>3.0</td>\n",
              "      <td>3.0</td>\n",
              "      <td>2</td>\n",
              "      <td>3.0</td>\n",
              "      <td>3.0</td>\n",
              "      <td>0.0</td>\n",
              "      <td>2</td>\n",
              "      <td>1</td>\n",
              "      <td>24.2382</td>\n",
              "    </tr>\n",
              "    <tr>\n",
              "      <th>2</th>\n",
              "      <td>1</td>\n",
              "      <td>23.0</td>\n",
              "      <td>1.80</td>\n",
              "      <td>77.0</td>\n",
              "      <td>1</td>\n",
              "      <td>2.0</td>\n",
              "      <td>3.0</td>\n",
              "      <td>2</td>\n",
              "      <td>2.0</td>\n",
              "      <td>2.0</td>\n",
              "      <td>1.0</td>\n",
              "      <td>1</td>\n",
              "      <td>1</td>\n",
              "      <td>23.7654</td>\n",
              "    </tr>\n",
              "    <tr>\n",
              "      <th>3</th>\n",
              "      <td>1</td>\n",
              "      <td>27.0</td>\n",
              "      <td>1.80</td>\n",
              "      <td>87.0</td>\n",
              "      <td>0</td>\n",
              "      <td>3.0</td>\n",
              "      <td>3.0</td>\n",
              "      <td>2</td>\n",
              "      <td>2.0</td>\n",
              "      <td>2.0</td>\n",
              "      <td>0.0</td>\n",
              "      <td>1</td>\n",
              "      <td>5</td>\n",
              "      <td>26.8519</td>\n",
              "    </tr>\n",
              "    <tr>\n",
              "      <th>4</th>\n",
              "      <td>1</td>\n",
              "      <td>22.0</td>\n",
              "      <td>1.78</td>\n",
              "      <td>89.8</td>\n",
              "      <td>0</td>\n",
              "      <td>2.0</td>\n",
              "      <td>1.0</td>\n",
              "      <td>2</td>\n",
              "      <td>2.0</td>\n",
              "      <td>0.0</td>\n",
              "      <td>0.0</td>\n",
              "      <td>2</td>\n",
              "      <td>6</td>\n",
              "      <td>28.3424</td>\n",
              "    </tr>\n",
              "  </tbody>\n",
              "</table>\n",
              "</div>\n",
              "      <button class=\"colab-df-convert\" onclick=\"convertToInteractive('df-dd98a64d-d25f-41de-a55a-acba80e8a222')\"\n",
              "              title=\"Convert this dataframe to an interactive table.\"\n",
              "              style=\"display:none;\">\n",
              "        \n",
              "  <svg xmlns=\"http://www.w3.org/2000/svg\" height=\"24px\"viewBox=\"0 0 24 24\"\n",
              "       width=\"24px\">\n",
              "    <path d=\"M0 0h24v24H0V0z\" fill=\"none\"/>\n",
              "    <path d=\"M18.56 5.44l.94 2.06.94-2.06 2.06-.94-2.06-.94-.94-2.06-.94 2.06-2.06.94zm-11 1L8.5 8.5l.94-2.06 2.06-.94-2.06-.94L8.5 2.5l-.94 2.06-2.06.94zm10 10l.94 2.06.94-2.06 2.06-.94-2.06-.94-.94-2.06-.94 2.06-2.06.94z\"/><path d=\"M17.41 7.96l-1.37-1.37c-.4-.4-.92-.59-1.43-.59-.52 0-1.04.2-1.43.59L10.3 9.45l-7.72 7.72c-.78.78-.78 2.05 0 2.83L4 21.41c.39.39.9.59 1.41.59.51 0 1.02-.2 1.41-.59l7.78-7.78 2.81-2.81c.8-.78.8-2.07 0-2.86zM5.41 20L4 18.59l7.72-7.72 1.47 1.35L5.41 20z\"/>\n",
              "  </svg>\n",
              "      </button>\n",
              "      \n",
              "  <style>\n",
              "    .colab-df-container {\n",
              "      display:flex;\n",
              "      flex-wrap:wrap;\n",
              "      gap: 12px;\n",
              "    }\n",
              "\n",
              "    .colab-df-convert {\n",
              "      background-color: #E8F0FE;\n",
              "      border: none;\n",
              "      border-radius: 50%;\n",
              "      cursor: pointer;\n",
              "      display: none;\n",
              "      fill: #1967D2;\n",
              "      height: 32px;\n",
              "      padding: 0 0 0 0;\n",
              "      width: 32px;\n",
              "    }\n",
              "\n",
              "    .colab-df-convert:hover {\n",
              "      background-color: #E2EBFA;\n",
              "      box-shadow: 0px 1px 2px rgba(60, 64, 67, 0.3), 0px 1px 3px 1px rgba(60, 64, 67, 0.15);\n",
              "      fill: #174EA6;\n",
              "    }\n",
              "\n",
              "    [theme=dark] .colab-df-convert {\n",
              "      background-color: #3B4455;\n",
              "      fill: #D2E3FC;\n",
              "    }\n",
              "\n",
              "    [theme=dark] .colab-df-convert:hover {\n",
              "      background-color: #434B5C;\n",
              "      box-shadow: 0px 1px 3px 1px rgba(0, 0, 0, 0.15);\n",
              "      filter: drop-shadow(0px 1px 2px rgba(0, 0, 0, 0.3));\n",
              "      fill: #FFFFFF;\n",
              "    }\n",
              "  </style>\n",
              "\n",
              "      <script>\n",
              "        const buttonEl =\n",
              "          document.querySelector('#df-dd98a64d-d25f-41de-a55a-acba80e8a222 button.colab-df-convert');\n",
              "        buttonEl.style.display =\n",
              "          google.colab.kernel.accessAllowed ? 'block' : 'none';\n",
              "\n",
              "        async function convertToInteractive(key) {\n",
              "          const element = document.querySelector('#df-dd98a64d-d25f-41de-a55a-acba80e8a222');\n",
              "          const dataTable =\n",
              "            await google.colab.kernel.invokeFunction('convertToInteractive',\n",
              "                                                     [key], {});\n",
              "          if (!dataTable) return;\n",
              "\n",
              "          const docLinkHtml = 'Like what you see? Visit the ' +\n",
              "            '<a target=\"_blank\" href=https://colab.research.google.com/notebooks/data_table.ipynb>data table notebook</a>'\n",
              "            + ' to learn more about interactive tables.';\n",
              "          element.innerHTML = '';\n",
              "          dataTable['output_type'] = 'display_data';\n",
              "          await google.colab.output.renderOutput(dataTable, element);\n",
              "          const docLink = document.createElement('div');\n",
              "          docLink.innerHTML = docLinkHtml;\n",
              "          element.appendChild(docLink);\n",
              "        }\n",
              "      </script>\n",
              "    </div>\n",
              "  </div>\n",
              "  "
            ]
          },
          "metadata": {},
          "execution_count": 49
        }
      ]
    },
    {
      "cell_type": "markdown",
      "source": [
        "# **12 atributos considerando IMC**"
      ],
      "metadata": {
        "id": "WBedDR9vMb5o"
      }
    },
    {
      "cell_type": "markdown",
      "source": [
        "# División de datos de entrenamiento y test"
      ],
      "metadata": {
        "id": "iBWXogP_prIz"
      }
    },
    {
      "cell_type": "code",
      "source": [
        "#Separamos la data, en variables independientes (x) y dependientes (y), para poder entrenar el modelo de regresión\n",
        "X_train_val = dataset.drop(['NObeyesdad'], axis=1)\n",
        "y_train_val = dataset['NObeyesdad']"
      ],
      "metadata": {
        "id": "21_UF3vU2UOr"
      },
      "execution_count": null,
      "outputs": []
    },
    {
      "cell_type": "code",
      "source": [
        "# Dividimos la data en conjunto de \"entrenamiento\" y \"prueba\"\n",
        "X_train, X_val, y_train, y_val = train_test_split(X_train_val, y_train_val, test_size=0.3, random_state=0)"
      ],
      "metadata": {
        "id": "2id7w0E6N88n"
      },
      "execution_count": null,
      "outputs": []
    },
    {
      "cell_type": "code",
      "source": [
        "#12 características\n",
        "print(f\"Train shape: {X_train.shape}\")\n",
        "print(f\"Test shape: {X_val.shape}\")"
      ],
      "metadata": {
        "colab": {
          "base_uri": "https://localhost:8080/"
        },
        "id": "mLWDrAbYMbkB",
        "outputId": "93840000-0cc0-4951-d628-4c722ba66d3b"
      },
      "execution_count": null,
      "outputs": [
        {
          "output_type": "stream",
          "name": "stdout",
          "text": [
            "Train shape: (1460, 13)\n",
            "Test shape: (627, 13)\n"
          ]
        }
      ]
    },
    {
      "cell_type": "code",
      "source": [
        "#Escalar datos\n",
        "scaler = StandardScaler()\n",
        "\n",
        "X_train_scal = scaler.fit_transform(X_train) #Escalar los datos de entrenamiento\n",
        "X_val_scal = scaler.fit_transform(X_val) #Escalar los datos de prueba"
      ],
      "metadata": {
        "id": "hevhZRX7OCsY"
      },
      "execution_count": null,
      "outputs": []
    },
    {
      "cell_type": "markdown",
      "source": [
        "# Ensamble por votación manual"
      ],
      "metadata": {
        "id": "jMTjGH7DOfJJ"
      }
    },
    {
      "cell_type": "code",
      "source": [
        "from sklearn.tree import DecisionTreeClassifier\n",
        "from sklearn.neighbors import KNeighborsClassifier\n",
        "from sklearn.ensemble import RandomForestClassifier\n",
        "from sklearn.svm import SVC\n",
        "from sklearn.ensemble import VotingClassifier\n",
        "from sklearn.pipeline import make_pipeline\n",
        "from sklearn.preprocessing import StandardScaler\n",
        "from sklearn import svm\n",
        "\n",
        "estimators = [\n",
        "     ('Random Forest', make_pipeline(StandardScaler(), RandomForestClassifier(oob_score = True, random_state=42))),\n",
        "     ('SVM Cubic', make_pipeline(StandardScaler(),svm.SVC(kernel='poly', degree=3,C=10, gamma=50,probability=True))),\n",
        "\n",
        "     ('árbol de decisión', DecisionTreeClassifier(max_depth=4)),\n",
        "     ('k-NN', make_pipeline(StandardScaler(),\n",
        "                            KNeighborsClassifier(n_neighbors=7) )),\n",
        "     ('SVM de kernel gaussiano', make_pipeline(StandardScaler(),\n",
        "                                               SVC(kernel='rbf', probability=True) ))\n",
        "]\n",
        "\n",
        "ensamble = VotingClassifier(estimators=estimators,\n",
        "                        voting='soft', weights=[3,2,2, 1, 2])\n",
        "ensamble.fit(X_train, y_train)\n",
        "\n",
        "for (name, estimator) in ensamble.named_estimators_.items():\n",
        "  print(f'Exactitud de {name: <25}: Entrenamiento {estimator.score(X_train, y_train):.03f} || Pruebas {estimator.score(X_val, y_val):.03f}',  )\n",
        "\n",
        "print(f'Exactitud de {\"ensamble\": <25}: Entrenamiento {ensamble.score(X_train, y_train):.03f} || Validación {ensamble.score(X_val, y_val):.03f}' )"
      ],
      "metadata": {
        "colab": {
          "base_uri": "https://localhost:8080/"
        },
        "id": "6G4EQq9fOgCG",
        "outputId": "fc9c04a5-7da8-4801-e7c2-f06053b7245a"
      },
      "execution_count": null,
      "outputs": [
        {
          "output_type": "stream",
          "name": "stdout",
          "text": [
            "Exactitud de Random Forest            : Entrenamiento 1.000 || Pruebas 0.955\n",
            "Exactitud de SVM Cubic                : Entrenamiento 1.000 || Pruebas 0.896\n",
            "Exactitud de árbol de decisión        : Entrenamiento 0.803 || Pruebas 0.785\n",
            "Exactitud de k-NN                     : Entrenamiento 0.864 || Pruebas 0.797\n",
            "Exactitud de SVM de kernel gaussiano  : Entrenamiento 0.950 || Pruebas 0.894\n",
            "Exactitud de ensamble                 : Entrenamiento 0.996 || Validación 0.941\n"
          ]
        }
      ]
    },
    {
      "cell_type": "markdown",
      "source": [
        "Train: 70, test:30"
      ],
      "metadata": {
        "id": "teyl_kGyfVbu"
      }
    },
    {
      "cell_type": "code",
      "source": [
        "from sklearn.tree import DecisionTreeClassifier\n",
        "from sklearn.neighbors import KNeighborsClassifier\n",
        "from sklearn.ensemble import RandomForestClassifier\n",
        "from sklearn.neural_network import MLPClassifier\n",
        "from sklearn.svm import SVC\n",
        "from sklearn.ensemble import VotingClassifier\n",
        "from sklearn.pipeline import make_pipeline\n",
        "from sklearn.preprocessing import StandardScaler\n",
        "from sklearn import svm\n",
        "\n",
        "estimators = [\n",
        "     ('Random Forest', make_pipeline(StandardScaler(), RandomForestClassifier(oob_score = True, random_state=42))),\n",
        "     ('SVM Cubic', make_pipeline(StandardScaler(),svm.SVC(kernel='poly', degree=3,C=10, gamma=50,probability=True))),\n",
        "\n",
        "     ('árbol de decisión', DecisionTreeClassifier(max_depth=4)),\n",
        "\n",
        "     ('SVM de kernel gaussiano', make_pipeline(StandardScaler(),\n",
        "                                               SVC(kernel='rbf', probability=True) )),\n",
        "     ('Redes neuronales', make_pipeline(StandardScaler(),\n",
        "                                               MLPClassifier(random_state=1, max_iter=300) ))\n",
        "\n",
        "]\n",
        "\n",
        "ensamble = VotingClassifier(estimators=estimators,\n",
        "                        voting='soft', weights=[3,1,1,1,3])\n",
        "ensamble.fit(X_train, y_train)\n",
        "\n",
        "for (name, estimator) in ensamble.named_estimators_.items():\n",
        "  print(f'Exactitud de {name: <25}: Entrenamiento {estimator.score(X_train, y_train):.03f} || Pruebas {estimator.score(X_val, y_val):.03f}',  )\n",
        "\n",
        "print(f'Exactitud de {\"ensamble\": <25}: Entrenamiento {ensamble.score(X_train, y_train):.03f} || Validación {ensamble.score(X_val, y_val):.03f}' )"
      ],
      "metadata": {
        "colab": {
          "base_uri": "https://localhost:8080/"
        },
        "id": "DK4Y3YeLfZ7l",
        "outputId": "94c41266-33be-4569-9f81-3d499b5637a1"
      },
      "execution_count": null,
      "outputs": [
        {
          "output_type": "stream",
          "name": "stderr",
          "text": [
            "/usr/local/lib/python3.10/dist-packages/sklearn/neural_network/_multilayer_perceptron.py:686: ConvergenceWarning: Stochastic Optimizer: Maximum iterations (300) reached and the optimization hasn't converged yet.\n",
            "  warnings.warn(\n"
          ]
        },
        {
          "output_type": "stream",
          "name": "stdout",
          "text": [
            "Exactitud de Random Forest            : Entrenamiento 1.000 || Pruebas 0.990\n",
            "Exactitud de SVM Cubic                : Entrenamiento 1.000 || Pruebas 0.917\n",
            "Exactitud de árbol de decisión        : Entrenamiento 0.977 || Pruebas 0.974\n",
            "Exactitud de SVM de kernel gaussiano  : Entrenamiento 0.962 || Pruebas 0.927\n",
            "Exactitud de Redes neuronales         : Entrenamiento 0.999 || Pruebas 0.957\n",
            "Exactitud de ensamble                 : Entrenamiento 1.000 || Validación 0.971\n"
          ]
        }
      ]
    },
    {
      "cell_type": "code",
      "source": [],
      "metadata": {
        "id": "7aHbbHeifU_y"
      },
      "execution_count": null,
      "outputs": []
    },
    {
      "cell_type": "markdown",
      "source": [
        "**SVM CUBIC**"
      ],
      "metadata": {
        "id": "ycLbFaLfj8Zw"
      }
    },
    {
      "cell_type": "markdown",
      "source": [
        "**C=10, gamma=50**"
      ],
      "metadata": {
        "id": "-vMUuyzqkACo"
      }
    },
    {
      "cell_type": "code",
      "source": [
        "from sklearn import svm\n",
        "from sklearn.metrics import accuracy_score\n",
        "\n",
        "# Crear una instancia del clasificador SVM con kernel cúbico\n",
        "model = svm.SVC(kernel='poly', degree=3,C=10, gamma=50)\n",
        "\n",
        "# Entrenar el clasificador\n",
        "model.fit(X_train_scal, y_train)\n",
        "\n",
        "# Realizar predicciones en el conjunto de prueba\n",
        "y_pred = model.predict(X_val_scal)\n",
        "\n",
        "cv = cross_val_score(estimator = model, X = X_train_scal, y = y_train, cv = 10) #metodo para obtener la precisión\n",
        "cvForest = cv.mean()\n",
        "stdForest = cv.std()\n",
        "\n",
        "\n",
        "print(\"promedio Validación cruzada k=10: \", cvForest)\n",
        "print('Varianza de Random Forest: ',stdForest)\n",
        "print ('Exactitud en el conjunto de entrenamiento: %0.4f' % model.score(X_train_scal, y_train))\n",
        "print ('Exactitud en el conjunto de validación: %0.4f' % model.score(X_val_scal, y_val))"
      ],
      "metadata": {
        "id": "lzrb4y1mjryx"
      },
      "execution_count": null,
      "outputs": []
    },
    {
      "cell_type": "markdown",
      "source": [
        "Para determinar valores C y γ que brinden una mejor generalización, es necesario probar con diferentes valores, ajustando el modelo en el conjunto de entrenamiento y probando su desempeño en el conjunto de validación."
      ],
      "metadata": {
        "id": "6jlVyH-FlP0n"
      }
    },
    {
      "cell_type": "code",
      "source": [
        "from sklearn import svm\n",
        "from sklearn.metrics import accuracy_score\n",
        "\n",
        "Cs = np.logspace(-2,2,9)  # ~ [0.01, 0.03, 0.1, ..., 100]\n",
        "gammas = np.logspace(-4,4,9)  # [0.0001, 0.001, ..., 10000]\n",
        "\n",
        "mejor_modelo = None\n",
        "mejor_score = 0\n",
        "for C in Cs:\n",
        "    for gamma in gammas:\n",
        "\n",
        "        model = svm.SVC(kernel='poly', degree=3, C=C, gamma=gamma)\n",
        "        model.fit(X_train_scal, y_train)\n",
        "\n",
        "        score_val = model.score(X_val_scal, y_val)\n",
        "\n",
        "        if score_val > mejor_score:\n",
        "            mejor_score = score_val\n",
        "            mejor_modelo = model\n",
        "\n",
        "\n",
        "cv = cross_val_score(estimator = mejor_modelo, X = X_train_scal, y = y_train, cv = 10) #metodo para obtener la precisión\n",
        "cvForest = cv.mean()\n",
        "\n",
        "print ('Mejor valor de C: %0.4f' % mejor_modelo.get_params()['C'])\n",
        "print ('Mejor valor de gamma: %0.4f' % mejor_modelo.get_params()['gamma'])\n",
        "print ('Exactitud en el conjunto de entrenamiento: %0.4f' % mejor_modelo.score(X_train_scal, y_train))\n",
        "print ('Exactitud en el conjunto de validación: %0.4f' % mejor_modelo.score(X_val_scal, y_val))\n",
        "print(\"promedio Validación cruzada k=10: \", cvForest)\n"
      ],
      "metadata": {
        "id": "l-9wFtVQlShu"
      },
      "execution_count": null,
      "outputs": []
    },
    {
      "cell_type": "markdown",
      "source": [
        "**RandomForest con data escalada: OOB (Bagging)**"
      ],
      "metadata": {
        "id": "LwsGrEsqlYi-"
      }
    },
    {
      "cell_type": "code",
      "source": [
        "from sklearn.ensemble import RandomForestClassifier\n",
        "from sklearn.metrics import accuracy_score\n",
        "\n",
        "rf = RandomForestClassifier(oob_score = True,random_state=42)\n",
        "rf.fit(X_train_scal, y_train)\n",
        "\n",
        "y_pred = rf.predict(X_val_scal) #Hacemos predicciones sobre el conjunto de test\n",
        "\n",
        "cv = cross_val_score(estimator = rf, X = X_train_scal, y = y_train, cv = 10) #metodo para obtener la precisión\n",
        "cvForest = cv.mean()\n",
        "stdForest = cv.std()\n",
        "print('Exactitud del modelo inicial en entrenamiento:', rf.score(X_train_scal, y_train))\n",
        "print('Exactitud del modelo inicial en entrenamiento (Out of Bag):', rf.oob_score_)\n",
        "print('Exactitud del modelo inicial en validación:', rf.score(X_val_scal, y_val))\n",
        "print(\"promedio Validación cruzada Random Forest: \", cvForest)\n",
        "print('Varianza de Random Forest: ',stdForest)"
      ],
      "metadata": {
        "id": "pTVEtn3FlYIW",
        "colab": {
          "base_uri": "https://localhost:8080/"
        },
        "outputId": "31631717-44ff-40c4-87a9-d002c07b5556"
      },
      "execution_count": null,
      "outputs": [
        {
          "output_type": "stream",
          "name": "stdout",
          "text": [
            "Exactitud del modelo inicial en entrenamiento: 1.0\n",
            "Exactitud del modelo inicial en entrenamiento (Out of Bag): 0.947190250507786\n",
            "Exactitud del modelo inicial en validación: 0.8675078864353313\n",
            "promedio Validación cruzada Random Forest:  0.9492645706931422\n",
            "Varianza de Random Forest:  0.020932661299248784\n"
          ]
        }
      ]
    },
    {
      "cell_type": "markdown",
      "source": [
        "# Matriz de confusión"
      ],
      "metadata": {
        "id": "Oy6qbHr7ldnR"
      }
    },
    {
      "cell_type": "code",
      "source": [
        "cm = confusion_matrix(y_val, y_pred, labels=rf.classes_)\n",
        "disp = ConfusionMatrixDisplay(confusion_matrix=cm, display_labels=rf.classes_)\n",
        "disp.plot()"
      ],
      "metadata": {
        "id": "pojz0OEWlexP",
        "colab": {
          "base_uri": "https://localhost:8080/",
          "height": 471
        },
        "outputId": "3e936699-9c3f-4995-fdbf-5eb0f97a2cec"
      },
      "execution_count": null,
      "outputs": [
        {
          "output_type": "execute_result",
          "data": {
            "text/plain": [
              "<sklearn.metrics._plot.confusion_matrix.ConfusionMatrixDisplay at 0x7fc958ad2620>"
            ]
          },
          "metadata": {},
          "execution_count": 39
        },
        {
          "output_type": "display_data",
          "data": {
            "text/plain": [
              "<Figure size 640x480 with 2 Axes>"
            ],
            "image/png": "[encoded data removed]"
          },
          "metadata": {}
        }
      ]
    },
    {
      "cell_type": "markdown",
      "source": [
        "# Importancia de la características"
      ],
      "metadata": {
        "id": "qFGo8cnmljp_"
      }
    },
    {
      "cell_type": "code",
      "source": [
        "feature_names = X_train_val.columns.values\n",
        "tree_feature_importances = rf.feature_importances_\n",
        "sorted_idx = tree_feature_importances.argsort()\n",
        "\n",
        "y_ticks = np.arange(0, len(feature_names))\n",
        "fig, ax = plt.subplots()\n",
        "ax.barh(y_ticks, tree_feature_importances[sorted_idx])\n",
        "ax.set_yticklabels(feature_names[sorted_idx])\n",
        "ax.set_yticks(y_ticks)\n",
        "ax.set_title(\"Importancia de características\")\n",
        "fig.tight_layout()\n",
        "plt.show()"
      ],
      "metadata": {
        "id": "Kl8cuAq9llfH",
        "colab": {
          "base_uri": "https://localhost:8080/",
          "height": 524
        },
        "outputId": "1bd7f36b-54d0-4d74-9049-b40191ce8e63"
      },
      "execution_count": null,
      "outputs": [
        {
          "output_type": "stream",
          "name": "stderr",
          "text": [
            "<ipython-input-40-90623505696b>:8: UserWarning: FixedFormatter should only be used together with FixedLocator\n",
            "  ax.set_yticklabels(feature_names[sorted_idx])\n"
          ]
        },
        {
          "output_type": "display_data",
          "data": {
            "text/plain": [
              "<Figure size 640x480 with 1 Axes>"
            ],
            "image/png": "[encoded data removed]"
          },
          "metadata": {}
        }
      ]
    },
    {
      "cell_type": "markdown",
      "source": [
        "** Estrategia De Validación A Emplear Para El Ajuste De Hiperparámetros.**"
      ],
      "metadata": {
        "id": "627BpNVAlygY"
      }
    },
    {
      "cell_type": "markdown",
      "source": [
        "Los principales hiperparámetros de Random Forest son:\n",
        "\n",
        "n_estimators -- el número de modelos base (árboles) a entrenar\n",
        "max_features -- el número de características a considerar en cada partición de los árboles\n",
        "max_depth -- la profundidad máxima de los árboles\n",
        "min_samples_leaf -- el numero mínimo de muestras que deben quedar en cada hoja del árbol\n",
        "Para identificar los mejores valores de los hiperparámetros usaremos primero búsqueda aleatoria y luego búsqueda en grilla."
      ],
      "metadata": {
        "id": "K4bq0mhil1QP"
      }
    },
    {
      "cell_type": "code",
      "source": [
        "from pprint import pprint\n",
        "import numpy as np\n",
        "\n",
        "n_estimators = [int(x) for x in np.linspace(start = 200, stop = 2000, num = 10)]\n",
        "max_features = ['auto', 8, 10, 12, None]  # 'auto' equivale a 'sqrt'; None equivale a todas las 15\n",
        "max_depth = [int(x) for x in np.linspace(10, 110, num = 11)] + [None]\n",
        "min_samples_leaf = [1, 2, 4]\n",
        "\n",
        "random_grid = {'n_estimators': n_estimators,\n",
        "               'max_features': max_features,\n",
        "               'max_depth': max_depth,\n",
        "               'min_samples_leaf': min_samples_leaf}\n",
        "\n",
        "print('Los valores a probar en la búsqueda aleatoria son:')\n",
        "pprint(random_grid)\n",
        "\n",
        "print()\n",
        "print('Si se probara todas las combinaciones se requeriría entrenar',\n",
        "      len(random_grid['n_estimators']) *\n",
        "      len(random_grid['max_features']) *\n",
        "      len(random_grid['max_depth']) *\n",
        "      len(random_grid['min_samples_leaf']),\n",
        "      'modelos'\n",
        "      )"
      ],
      "metadata": {
        "id": "zipsCni_lzc_",
        "colab": {
          "base_uri": "https://localhost:8080/"
        },
        "outputId": "30362a03-1e8d-4dee-b3a7-895de9db95e5"
      },
      "execution_count": null,
      "outputs": [
        {
          "output_type": "stream",
          "name": "stdout",
          "text": [
            "Los valores a probar en la búsqueda aleatoria son:\n",
            "{'max_depth': [10, 20, 30, 40, 50, 60, 70, 80, 90, 100, 110, None],\n",
            " 'max_features': ['auto', 8, 10, 12, None],\n",
            " 'min_samples_leaf': [1, 2, 4],\n",
            " 'n_estimators': [200, 400, 600, 800, 1000, 1200, 1400, 1600, 1800, 2000]}\n",
            "\n",
            "Si se probara todas las combinaciones se requeriría entrenar 1800 modelos\n"
          ]
        }
      ]
    },
    {
      "cell_type": "markdown",
      "source": [
        "Probaremos entrenando sólo un 1% de las combinaciones posibles, es decir, 18. (Se recomienda probar al menos un 10%)"
      ],
      "metadata": {
        "id": "6N1smKxOl6ZW"
      }
    },
    {
      "cell_type": "code",
      "source": [
        "from sklearn.model_selection import RandomizedSearchCV\n",
        "\n",
        "rf = RandomForestClassifier(oob_score=True)\n",
        "rf_random = RandomizedSearchCV(estimator = rf,\n",
        "                               param_distributions = random_grid,\n",
        "                               n_iter = 18,\n",
        "                               cv = 10,          # Validación cruzada 10-fold\n",
        "                               verbose=2,\n",
        "                               random_state=0,\n",
        "                               n_jobs = -1      # Paralelizar en todos los cores disponibles\n",
        "                               )\n",
        "rf_random.fit(X_train_scal, y_train)"
      ],
      "metadata": {
        "id": "-vS_gyzLl494",
        "colab": {
          "base_uri": "https://localhost:8080/"
        },
        "outputId": "0394a067-b3c5-452e-b343-4a21d60cc58d"
      },
      "execution_count": null,
      "outputs": [
        {
          "output_type": "stream",
          "name": "stdout",
          "text": [
            "Fitting 10 folds for each of 18 candidates, totalling 180 fits\n"
          ]
        }
      ]
    },
    {
      "cell_type": "code",
      "source": [
        "rf_random_best = rf_random.best_estimator_\n",
        "\n",
        "print('Los hiperparámetros del mejor modelo son:')\n",
        "pprint(rf_random.best_params_)\n",
        "print()\n",
        "\n",
        "print('Exactitud luego de búsqueda aleatoria en entrenamiento:', rf_random_best.score(X_train_scal, y_train))\n",
        "print('Exactitud luego de búsqueda aleatoria en entrenamiento (Out of Bag):', rf_random_best.oob_score_)\n",
        "print('Exactitud luego de búsqueda aleatoria en validación:', rf_random_best.score(X_val_scal, y_val))"
      ],
      "metadata": {
        "id": "mBCgmYUzl8CI"
      },
      "execution_count": null,
      "outputs": []
    }
  ]
}